{
  "nbformat": 4,
  "nbformat_minor": 0,
  "metadata": {
    "colab": {
      "provenance": [],
      "collapsed_sections": [],
      "authorship_tag": "ABX9TyO97btEP81YsJ/4OLwRIl5o",
      "include_colab_link": true
    },
    "kernelspec": {
      "name": "python3",
      "display_name": "Python 3"
    },
    "language_info": {
      "name": "python"
    }
  },
  "cells": [
    {
      "cell_type": "markdown",
      "metadata": {
        "id": "view-in-github",
        "colab_type": "text"
      },
      "source": [
        "<a href=\"https://colab.research.google.com/github/brendanpshea/database_sql/blob/main/Introduction_to_SQL_1_Books.ipynb\" target=\"_parent\"><img src=\"https://colab.research.google.com/assets/colab-badge.svg\" alt=\"Open In Colab\"/></a>"
      ]
    },
    {
      "cell_type": "markdown",
      "source": [
        "# Introduction to Structured Query Language\n",
        "### Brendan Shea, PhD (Brendan.Shea@rctc.edu)\n",
        "This is the first in a set of interactive \"lectures\" designed to give you some examples of how \"Structured Query Language\" (SQL) works. Five quick notes about SQL:\n",
        "1. SQL is a declarative, non-procedural programming language used to interact with relational databases. That is, you'll use SQL to tell the computer \"what sort of infomration you want\" and NOT \"how to get this information.\" This is very different from procedural languages like Python or Java, and is much more closely related to areas like formal logic or set theory.\n",
        "2. Like many programming languages, SQL is \"standardized\" by the American National Standards Institute (ANSI). This ensures that what much of you learn here will be generally applicable regardless of what particular relational database you wnat to work with.\n",
        "3. SQL is simple! There are are relatively few commands (\\< 100) in ANSI standard SQL and the vast majorrity of the work is done by 25 or so.\n",
        "4. The fun (and challenge!) of SQL comes from trying to put these limited commands to work.You can learn the basics of SQL in 30 minutes. Learning to Wrie a correct, efficient SQL query can be a life's work.\n",
        "5. These notes (as well as the accompanying labs) are delivered via a Python-based \"Jupyter\" notebook. You don't need to know any Python to use these notebooks. However, there are a very common way of doing data analysis, statistics, and data science. (So, I'd encourage you to play around with them).\n",
        "\n",
        "Mainly, we'll be working through a series of sample queries, so you can get a sense of how SQL works."
      ],
      "metadata": {
        "id": "JqoCmEgI8LA2"
      }
    },
    {
      "cell_type": "markdown",
      "source": [
        "## SQLite Tutorial\n",
        "The \"official\" SQLite tutorial lives here: https://www.sqlitetutorial.net/\n",
        "\n",
        "This is a VERY good resource to learn more about many of the commands and techniques we'll be learning about. I recommend you check it out!"
      ],
      "metadata": {
        "id": "8mQihxIB467T"
      }
    },
    {
      "cell_type": "markdown",
      "source": [
        "## 1. Getting the Environment Set Up\n",
        "Here, we're going to be setting SQLite as our relational database server. You don't really need to worry about the details, but basically we're going to:\n",
        "1. Install Python utilities (`sqlalchemy` and `ipython` allowing use to interact with SQL more easily.\n",
        "2. Load a sample SQLite database.\n",
        "\n",
        "\n",
        "SQLite is frequently used for when a single user/application wants to access a database, and is one of the most commonly installed applications in modern computing (you probably have multiple copies on your phone/computer right now--you just don't know it!). \n",
        "\n",
        "Once we've started up SQLite, we'll load a sample \"books\" database for you to play with.\n",
        "\n",
        "NOTE: Please don't alter the following code cells! I don't expect you to understand the details, but they are necessary to get the notebook ready to run SQL code."
      ],
      "metadata": {
        "id": "CNiz_K46_snl"
      }
    },
    {
      "cell_type": "markdown",
      "source": [
        "## 1a. Run These Cells"
      ],
      "metadata": {
        "id": "AhRhDGo_E-ul"
      }
    },
    {
      "cell_type": "code",
      "source": [
        "# Some UNIX and Python utilites we need to install for the lab.\n",
        "!pip install sqlalchemy --quiet\n",
        "!pip install ipython-sql --quiet\n",
        "\n",
        "# Now, let's load SQLite\n",
        "%load_ext sql\n",
        "%sql sqlite://"
      ],
      "metadata": {
        "colab": {
          "base_uri": "https://localhost:8080/",
          "height": 53
        },
        "id": "qW9N195nAaNm",
        "outputId": "77e12074-93ac-4a27-fca7-db83331095b6"
      },
      "execution_count": 1,
      "outputs": [
        {
          "output_type": "stream",
          "name": "stdout",
          "text": [
            "\u001b[?25l\r\u001b[K     |▏                               | 10 kB 31.2 MB/s eta 0:00:01\r\u001b[K     |▍                               | 20 kB 9.7 MB/s eta 0:00:01\r\u001b[K     |▋                               | 30 kB 13.7 MB/s eta 0:00:01\r\u001b[K     |▉                               | 40 kB 6.3 MB/s eta 0:00:01\r\u001b[K     |█                               | 51 kB 6.5 MB/s eta 0:00:01\r\u001b[K     |█▎                              | 61 kB 7.7 MB/s eta 0:00:01\r\u001b[K     |█▌                              | 71 kB 8.2 MB/s eta 0:00:01\r\u001b[K     |█▊                              | 81 kB 9.2 MB/s eta 0:00:01\r\u001b[K     |█▉                              | 92 kB 8.8 MB/s eta 0:00:01\r\u001b[K     |██                              | 102 kB 7.4 MB/s eta 0:00:01\r\u001b[K     |██▎                             | 112 kB 7.4 MB/s eta 0:00:01\r\u001b[K     |██▌                             | 122 kB 7.4 MB/s eta 0:00:01\r\u001b[K     |██▊                             | 133 kB 7.4 MB/s eta 0:00:01\r\u001b[K     |███                             | 143 kB 7.4 MB/s eta 0:00:01\r\u001b[K     |███▏                            | 153 kB 7.4 MB/s eta 0:00:01\r\u001b[K     |███▍                            | 163 kB 7.4 MB/s eta 0:00:01\r\u001b[K     |███▌                            | 174 kB 7.4 MB/s eta 0:00:01\r\u001b[K     |███▊                            | 184 kB 7.4 MB/s eta 0:00:01\r\u001b[K     |████                            | 194 kB 7.4 MB/s eta 0:00:01\r\u001b[K     |████▏                           | 204 kB 7.4 MB/s eta 0:00:01\r\u001b[K     |████▍                           | 215 kB 7.4 MB/s eta 0:00:01\r\u001b[K     |████▋                           | 225 kB 7.4 MB/s eta 0:00:01\r\u001b[K     |████▉                           | 235 kB 7.4 MB/s eta 0:00:01\r\u001b[K     |█████                           | 245 kB 7.4 MB/s eta 0:00:01\r\u001b[K     |█████▎                          | 256 kB 7.4 MB/s eta 0:00:01\r\u001b[K     |█████▍                          | 266 kB 7.4 MB/s eta 0:00:01\r\u001b[K     |█████▋                          | 276 kB 7.4 MB/s eta 0:00:01\r\u001b[K     |█████▉                          | 286 kB 7.4 MB/s eta 0:00:01\r\u001b[K     |██████                          | 296 kB 7.4 MB/s eta 0:00:01\r\u001b[K     |██████▎                         | 307 kB 7.4 MB/s eta 0:00:01\r\u001b[K     |██████▌                         | 317 kB 7.4 MB/s eta 0:00:01\r\u001b[K     |██████▊                         | 327 kB 7.4 MB/s eta 0:00:01\r\u001b[K     |███████                         | 337 kB 7.4 MB/s eta 0:00:01\r\u001b[K     |███████                         | 348 kB 7.4 MB/s eta 0:00:01\r\u001b[K     |███████▎                        | 358 kB 7.4 MB/s eta 0:00:01\r\u001b[K     |███████▌                        | 368 kB 7.4 MB/s eta 0:00:01\r\u001b[K     |███████▊                        | 378 kB 7.4 MB/s eta 0:00:01\r\u001b[K     |████████                        | 389 kB 7.4 MB/s eta 0:00:01\r\u001b[K     |████████▏                       | 399 kB 7.4 MB/s eta 0:00:01\r\u001b[K     |████████▍                       | 409 kB 7.4 MB/s eta 0:00:01\r\u001b[K     |████████▋                       | 419 kB 7.4 MB/s eta 0:00:01\r\u001b[K     |████████▉                       | 430 kB 7.4 MB/s eta 0:00:01\r\u001b[K     |█████████                       | 440 kB 7.4 MB/s eta 0:00:01\r\u001b[K     |█████████▏                      | 450 kB 7.4 MB/s eta 0:00:01\r\u001b[K     |█████████▍                      | 460 kB 7.4 MB/s eta 0:00:01\r\u001b[K     |█████████▋                      | 471 kB 7.4 MB/s eta 0:00:01\r\u001b[K     |█████████▉                      | 481 kB 7.4 MB/s eta 0:00:01\r\u001b[K     |██████████                      | 491 kB 7.4 MB/s eta 0:00:01\r\u001b[K     |██████████▎                     | 501 kB 7.4 MB/s eta 0:00:01\r\u001b[K     |██████████▌                     | 512 kB 7.4 MB/s eta 0:00:01\r\u001b[K     |██████████▋                     | 522 kB 7.4 MB/s eta 0:00:01\r\u001b[K     |██████████▉                     | 532 kB 7.4 MB/s eta 0:00:01\r\u001b[K     |███████████                     | 542 kB 7.4 MB/s eta 0:00:01\r\u001b[K     |███████████▎                    | 552 kB 7.4 MB/s eta 0:00:01\r\u001b[K     |███████████▌                    | 563 kB 7.4 MB/s eta 0:00:01\r\u001b[K     |███████████▊                    | 573 kB 7.4 MB/s eta 0:00:01\r\u001b[K     |████████████                    | 583 kB 7.4 MB/s eta 0:00:01\r\u001b[K     |████████████▏                   | 593 kB 7.4 MB/s eta 0:00:01\r\u001b[K     |████████████▍                   | 604 kB 7.4 MB/s eta 0:00:01\r\u001b[K     |████████████▌                   | 614 kB 7.4 MB/s eta 0:00:01\r\u001b[K     |████████████▊                   | 624 kB 7.4 MB/s eta 0:00:01\r\u001b[K     |█████████████                   | 634 kB 7.4 MB/s eta 0:00:01\r\u001b[K     |█████████████▏                  | 645 kB 7.4 MB/s eta 0:00:01\r\u001b[K     |█████████████▍                  | 655 kB 7.4 MB/s eta 0:00:01\r\u001b[K     |█████████████▋                  | 665 kB 7.4 MB/s eta 0:00:01\r\u001b[K     |█████████████▉                  | 675 kB 7.4 MB/s eta 0:00:01\r\u001b[K     |██████████████                  | 686 kB 7.4 MB/s eta 0:00:01\r\u001b[K     |██████████████▏                 | 696 kB 7.4 MB/s eta 0:00:01\r\u001b[K     |██████████████▍                 | 706 kB 7.4 MB/s eta 0:00:01\r\u001b[K     |██████████████▋                 | 716 kB 7.4 MB/s eta 0:00:01\r\u001b[K     |██████████████▉                 | 727 kB 7.4 MB/s eta 0:00:01\r\u001b[K     |███████████████                 | 737 kB 7.4 MB/s eta 0:00:01\r\u001b[K     |███████████████▎                | 747 kB 7.4 MB/s eta 0:00:01\r\u001b[K     |███████████████▌                | 757 kB 7.4 MB/s eta 0:00:01\r\u001b[K     |███████████████▊                | 768 kB 7.4 MB/s eta 0:00:01\r\u001b[K     |████████████████                | 778 kB 7.4 MB/s eta 0:00:01\r\u001b[K     |████████████████                | 788 kB 7.4 MB/s eta 0:00:01\r\u001b[K     |████████████████▎               | 798 kB 7.4 MB/s eta 0:00:01\r\u001b[K     |████████████████▌               | 808 kB 7.4 MB/s eta 0:00:01\r\u001b[K     |████████████████▊               | 819 kB 7.4 MB/s eta 0:00:01\r\u001b[K     |█████████████████               | 829 kB 7.4 MB/s eta 0:00:01\r\u001b[K     |█████████████████▏              | 839 kB 7.4 MB/s eta 0:00:01\r\u001b[K     |█████████████████▍              | 849 kB 7.4 MB/s eta 0:00:01\r\u001b[K     |█████████████████▋              | 860 kB 7.4 MB/s eta 0:00:01\r\u001b[K     |█████████████████▊              | 870 kB 7.4 MB/s eta 0:00:01\r\u001b[K     |██████████████████              | 880 kB 7.4 MB/s eta 0:00:01\r\u001b[K     |██████████████████▏             | 890 kB 7.4 MB/s eta 0:00:01\r\u001b[K     |██████████████████▍             | 901 kB 7.4 MB/s eta 0:00:01\r\u001b[K     |██████████████████▋             | 911 kB 7.4 MB/s eta 0:00:01\r\u001b[K     |██████████████████▉             | 921 kB 7.4 MB/s eta 0:00:01\r\u001b[K     |███████████████████             | 931 kB 7.4 MB/s eta 0:00:01\r\u001b[K     |███████████████████▎            | 942 kB 7.4 MB/s eta 0:00:01\r\u001b[K     |███████████████████▌            | 952 kB 7.4 MB/s eta 0:00:01\r\u001b[K     |███████████████████▋            | 962 kB 7.4 MB/s eta 0:00:01\r\u001b[K     |███████████████████▉            | 972 kB 7.4 MB/s eta 0:00:01\r\u001b[K     |████████████████████            | 983 kB 7.4 MB/s eta 0:00:01\r\u001b[K     |████████████████████▎           | 993 kB 7.4 MB/s eta 0:00:01\r\u001b[K     |████████████████████▌           | 1.0 MB 7.4 MB/s eta 0:00:01\r\u001b[K     |████████████████████▊           | 1.0 MB 7.4 MB/s eta 0:00:01\r\u001b[K     |█████████████████████           | 1.0 MB 7.4 MB/s eta 0:00:01\r\u001b[K     |█████████████████████▏          | 1.0 MB 7.4 MB/s eta 0:00:01\r\u001b[K     |█████████████████████▎          | 1.0 MB 7.4 MB/s eta 0:00:01\r\u001b[K     |█████████████████████▌          | 1.1 MB 7.4 MB/s eta 0:00:01\r\u001b[K     |█████████████████████▊          | 1.1 MB 7.4 MB/s eta 0:00:01\r\u001b[K     |██████████████████████          | 1.1 MB 7.4 MB/s eta 0:00:01\r\u001b[K     |██████████████████████▏         | 1.1 MB 7.4 MB/s eta 0:00:01\r\u001b[K     |██████████████████████▍         | 1.1 MB 7.4 MB/s eta 0:00:01\r\u001b[K     |██████████████████████▋         | 1.1 MB 7.4 MB/s eta 0:00:01\r\u001b[K     |██████████████████████▉         | 1.1 MB 7.4 MB/s eta 0:00:01\r\u001b[K     |███████████████████████         | 1.1 MB 7.4 MB/s eta 0:00:01\r\u001b[K     |███████████████████████▏        | 1.1 MB 7.4 MB/s eta 0:00:01\r\u001b[K     |███████████████████████▍        | 1.1 MB 7.4 MB/s eta 0:00:01\r\u001b[K     |███████████████████████▋        | 1.2 MB 7.4 MB/s eta 0:00:01\r\u001b[K     |███████████████████████▉        | 1.2 MB 7.4 MB/s eta 0:00:01\r\u001b[K     |████████████████████████        | 1.2 MB 7.4 MB/s eta 0:00:01\r\u001b[K     |████████████████████████▎       | 1.2 MB 7.4 MB/s eta 0:00:01\r\u001b[K     |████████████████████████▌       | 1.2 MB 7.4 MB/s eta 0:00:01\r\u001b[K     |████████████████████████▊       | 1.2 MB 7.4 MB/s eta 0:00:01\r\u001b[K     |████████████████████████▉       | 1.2 MB 7.4 MB/s eta 0:00:01\r\u001b[K     |█████████████████████████       | 1.2 MB 7.4 MB/s eta 0:00:01\r\u001b[K     |█████████████████████████▎      | 1.2 MB 7.4 MB/s eta 0:00:01\r\u001b[K     |█████████████████████████▌      | 1.2 MB 7.4 MB/s eta 0:00:01\r\u001b[K     |█████████████████████████▊      | 1.3 MB 7.4 MB/s eta 0:00:01\r\u001b[K     |██████████████████████████      | 1.3 MB 7.4 MB/s eta 0:00:01\r\u001b[K     |██████████████████████████▏     | 1.3 MB 7.4 MB/s eta 0:00:01\r\u001b[K     |██████████████████████████▍     | 1.3 MB 7.4 MB/s eta 0:00:01\r\u001b[K     |██████████████████████████▌     | 1.3 MB 7.4 MB/s eta 0:00:01\r\u001b[K     |██████████████████████████▊     | 1.3 MB 7.4 MB/s eta 0:00:01\r\u001b[K     |███████████████████████████     | 1.3 MB 7.4 MB/s eta 0:00:01\r\u001b[K     |███████████████████████████▏    | 1.3 MB 7.4 MB/s eta 0:00:01\r\u001b[K     |███████████████████████████▍    | 1.3 MB 7.4 MB/s eta 0:00:01\r\u001b[K     |███████████████████████████▋    | 1.4 MB 7.4 MB/s eta 0:00:01\r\u001b[K     |███████████████████████████▉    | 1.4 MB 7.4 MB/s eta 0:00:01\r\u001b[K     |████████████████████████████    | 1.4 MB 7.4 MB/s eta 0:00:01\r\u001b[K     |████████████████████████████▎   | 1.4 MB 7.4 MB/s eta 0:00:01\r\u001b[K     |████████████████████████████▍   | 1.4 MB 7.4 MB/s eta 0:00:01\r\u001b[K     |████████████████████████████▋   | 1.4 MB 7.4 MB/s eta 0:00:01\r\u001b[K     |████████████████████████████▉   | 1.4 MB 7.4 MB/s eta 0:00:01\r\u001b[K     |█████████████████████████████   | 1.4 MB 7.4 MB/s eta 0:00:01\r\u001b[K     |█████████████████████████████▎  | 1.4 MB 7.4 MB/s eta 0:00:01\r\u001b[K     |█████████████████████████████▌  | 1.4 MB 7.4 MB/s eta 0:00:01\r\u001b[K     |█████████████████████████████▊  | 1.5 MB 7.4 MB/s eta 0:00:01\r\u001b[K     |██████████████████████████████  | 1.5 MB 7.4 MB/s eta 0:00:01\r\u001b[K     |██████████████████████████████  | 1.5 MB 7.4 MB/s eta 0:00:01\r\u001b[K     |██████████████████████████████▎ | 1.5 MB 7.4 MB/s eta 0:00:01\r\u001b[K     |██████████████████████████████▌ | 1.5 MB 7.4 MB/s eta 0:00:01\r\u001b[K     |██████████████████████████████▊ | 1.5 MB 7.4 MB/s eta 0:00:01\r\u001b[K     |███████████████████████████████ | 1.5 MB 7.4 MB/s eta 0:00:01\r\u001b[K     |███████████████████████████████▏| 1.5 MB 7.4 MB/s eta 0:00:01\r\u001b[K     |███████████████████████████████▍| 1.5 MB 7.4 MB/s eta 0:00:01\r\u001b[K     |███████████████████████████████▋| 1.5 MB 7.4 MB/s eta 0:00:01\r\u001b[K     |███████████████████████████████▉| 1.6 MB 7.4 MB/s eta 0:00:01\r\u001b[K     |████████████████████████████████| 1.6 MB 7.4 MB/s eta 0:00:01\r\u001b[K     |████████████████████████████████| 1.6 MB 7.4 MB/s \n",
            "\u001b[?25h"
          ]
        },
        {
          "output_type": "execute_result",
          "data": {
            "text/plain": [
              "'Connected: @None'"
            ],
            "application/vnd.google.colaboratory.intrinsic+json": {
              "type": "string"
            }
          },
          "metadata": {},
          "execution_count": 1
        }
      ]
    },
    {
      "cell_type": "code",
      "source": [
        "## Let's load our data!\n",
        "%%sql \n",
        "DROP TABLE IF EXISTS Books;\n",
        "DROP TABLE IF EXISTS Authors;\n",
        "CREATE TABLE Authors(\n",
        "   author_id INT PRIMARY KEY,\n",
        "   name VARCHAR(128) UNIQUE,\n",
        "   nationality CHAR(3),\n",
        "   famous_quote VARCHAR(256),\n",
        "   date_of_birth DATE,\n",
        "   date_of_death DATE,\n",
        "   gender CHAR(1)\n",
        ");\n",
        "\n",
        "DROP TABLE IF EXISTS Books;\n",
        "CREATE TABLE Books(\n",
        "   book_id INT PRIMARY KEY,\n",
        "   title VARCHAR(128) UNIQUE,\n",
        "   publication_date DATE,\n",
        "   genres VARCHAR(64),\n",
        "   pages INT,\n",
        "   reading_grade_level REAL,\n",
        "   avg_stars REAL, \n",
        "   num_reviews INT,\n",
        "   author_id INT,\n",
        "   FOREIGN KEY(author_id) REFERENCES Authors(author_id)\n",
        ");\n",
        "\n",
        "\n",
        "INSERT INTO Authors\n",
        "VALUES\n",
        "(1, 'William Shakespeare', 'ENG', 'To thine own self be true', '1564-04-26', '1616-04-23', 'M'),\n",
        "(2, 'Plato', 'GRE', 'Be kind, for everyone you meet is fighting a hard battle', '0427-01-28', '0348-01-28', 'M'),\n",
        "(3, 'George Eliot', 'ENG', 'It is never too late to be what you might have been', '1819-11-22', '1880-12-22', 'F'),\n",
        "(4, 'Kazuo Ishiguro', 'JAP', 'She had become immeasurably old in a single year', '1954-11-08', NULL, 'M'),\n",
        "(5, 'JK Rowling', 'ENG', 'Happiness can be found, even in the darkest of times, if one only remembers to turn on the light', '1965-07-31', NULL, 'F'),\n",
        "(6, 'Terry Pratchett', 'ENG', 'Light thinks it travels faster than anything but it is wrong. No matter how fast light travels, it finds the darkness has always got there first, and is waiting for it', '1948-04-28', '2015-03-12', 'M'),\n",
        "(7, 'Herman Melville', 'USA', 'It is better to fail in originality than to succeed in imitation', '1819-08-01', '1891-09-28', 'M'),\n",
        "(8, 'Jane Austen', 'ENG', 'There is no charm equal to tenderness of heart', '1775-12-16', '1817-07-18', 'F'),\n",
        "(9, 'JRR Tolkien', 'ENG', 'Not all those who wander are lost', '1892-01-03', '1973-09-02', 'M'),\n",
        "(10, 'Margaret Atwood', 'CAN', 'A word after a word after a word is power', '1939-11-18', NULL, 'F'),\n",
        "(11, 'Neil Gaiman', 'ENG', 'Fairy tales are more than true: not because they tell us dragons exist, but because they tell us dragons can be beaten', '1960-11-10', NULL, 'M'),\n",
        "(12, 'George RR Martin', 'USA', 'A reader lives a thousand lives before he dies, said Jojen. The man who never reads lives only one', '1948-09-20', NULL, 'M'),\n",
        "(13, 'Ursula Le Guin', 'USA', 'We live in capitalism, its power seems inescapable - but then, so did the divine right of kings', '1929-10-21', NULL, 'F'),\n",
        "(14, 'Salman Rushdie', 'IND', 'A poets work is to name the unnameable, to point at frauds, to take sides, start arguments, shape the world, and stop it going to sleep', '1947-06-19', NULL, 'M'),\n",
        "(15, 'Octavia Butler', 'USA', 'All that you touch, you Change. All that you Change, Changes you. The only lasting truth is Change. God is Change', '1947-06-22', '2006-02-24', 'F'),\n",
        "(16, 'Lois McMaster Bujold', 'USA', 'I like good strong words that mean something', '1949-11-02', NULL, 'F'),\n",
        "(17, 'George Orwell', 'ENG', 'All animals are equal but some animals are more equal than others', '1903-06-25', '1950-01-21', 'M'),\n",
        "(18, 'Philip Pullman', 'ENG', 'After all, to the well-organized mind, death is but the next great adventure', '1946-10-19', NULL, 'M'),\n",
        "(19, 'Judy Blume', 'USA', 'I’ve been absolutely terrified every moment of my life – and I’ve never let it keep me from doing a single thing I wanted to do', '1938-02-12', NULL, 'F'),\n",
        "(20, 'Chinua Achebe', 'NGA', 'Story is life with the dull bits cut out', '1930-11-16', '2013-03-21', 'M'),\n",
        "(21, 'Rudolph Carnap', 'GER', 'Empiricism, logical and mathematical constructions, and philosophical analysis form a harmonious unity.', '1891-05-18', '1970-09-14', 'M'),\n",
        "(22, 'Kurt Vonnegut', 'USA', 'Yes, we are doomed, doomed to spend our lives living in tall towers and making money and not caring about anybody or anything.', '1922-11-11', '2007-04-11', 'M'),\n",
        "(23, 'Jo Walton', 'ENG', 'A genre is defined by the boundaries of its fandom. When someone is part of a genre, stepping outside part of the world.', '1964-12-14', NULL, 'F'),\n",
        "(24, 'Robert Lowell', 'USA', 'There is no money in poetry, but then there is no poetry in money, either.', '1917-01-03', '1977-12-12', 'M'),\n",
        "(25, 'James Joyce', 'IRE', 'A man of genius makes no mistakes. His errors are volitional and are the portals of discovery.', '1882-02-02', '1941-01-13', 'M'),\n",
        "(26, 'Emily Oster', 'USA', 'You can’t keep running from bad to worse forever.', '1975-10-05', NULL, 'F'),\n",
        "(27, 'Theodore Seuss', 'USA', 'Dont cry because its over, smile because it happened', '1854-03-02', '1966-09-24', 'M'),\n",
        "(28, 'Sylvia Plath', 'USA', 'I took a deep breath and listened to the old brag of my heart. I am, I am, I am.', '1932-10-27', '1963-02-11', 'F'),\n",
        "(29, 'Charles Dickens', 'UK ', 'There is nothing in the world so irresistibly contagious as laughter and good humor.', '1812-02-07', '1870-06-09', 'M'),\n",
        "(30, 'John Greene', 'USA', 'Maybe ever’thing does happen for the best. But it’s real hard to believe that when you’re looking back at your life going, ‘Oh man, I wish I’d done that differently.', '1977-07-17', NULL, 'M'),\n",
        "(31, 'Stephen King', 'USA', 'Get busy living or get busy dying.', '1947-09-21', NULL, 'M'),\n",
        "(32, 'Naomi Novik', 'USA', 'I know what it is to be young and to believe that everything, absolutely everything, is possible.', '1973-11-23', NULL, 'F'),\n",
        "(33, 'Suzanne Collins', 'USA', 'I don’t want to lose you. And I don’t want to have to say goodbye.', '1962-08-11', NULL, 'F'),\n",
        "(34, 'Oscar Wilde', 'UK ', 'I can resist everything except temptation.', '1854-10-16', '1900-11-30', 'M'),\n",
        "(35, 'Alan Turing', 'ENG', 'Im not interested in doing something that someone else has done before.', '1912-06-23', '1954-06-07', 'M'),\n",
        "(36, 'Leonard Cohen', 'CAN', 'There is a crack, a crack, in everything. Thats how the light gets in.', '1934-09-21', '2016-11-07', 'M'),\n",
        "(37, 'Charles Baudelaire', 'FRA', 'The greatest trick the devil ever pulled was convincing the world he didnt exist.', '1821-04-09', '1867-08-31', 'M'),\n",
        "(38, 'Guy Gavriel Kay', 'CAN', 'Stories are how we teach and how we learn.', '1954-11-07', NULL, 'M'),\n",
        "(39, 'Hannah Arendt', 'GER', 'The sad truth is that most evil is done by people who never make up their minds to be good or evil.', '1906-10-14', '1975-12-04', 'F'),\n",
        "(40, 'Rumi', 'TUR', 'Let the beauty of what you love be what you do.', '1207-09-30', '1273-12-17', 'M'),\n",
        "(41, 'Khaled Hosseini', 'AFG', 'To be a human being is to endure much worse than this.', '1965-03-04', NULL, 'M'),\n",
        "(42, 'Albert Camus', 'FRA', 'In the depth of winter, I finally learned that there was in me an invincible summer.', '1913-11-07', '1960-01-04', 'M');\n",
        "\n",
        "\n",
        "  INSERT INTO Books\n",
        "VALUES\n",
        "(1, 'Henry V', '1599-10-15', 'Comedy, Drama, Historic', 129, 10.3, 4.38, 260408, 1),\n",
        "(2, 'A Midsummer Nights Dream', '1596-08-15', 'Comedy, Drama, Fantasy', 122, 10.1, 4.18, 121418, 1),\n",
        "(3, 'Macbeth', '1605-11-10', 'Comedy, Drama, Historic', 124, 9.9, 4.05, 220128, 1),\n",
        "(4, 'Romeo and Juliet', '1597-02-14', 'Comedy, Drama, Historic', 131, 9.9, 4.15, 250953, 1),\n",
        "(5, 'Othello', '1604-08-10', 'Comedy, Drama, Historic', 134, 9.8, 4.08, 206659, 1),\n",
        "(11, 'The Republic', '0380-01-01 BC', 'Philosophy', 368, 8.2, 3.78, 307177, 2),\n",
        "(12, 'Symposium', '0380-01-01 BC', 'Philosophy', 96, 8.1, 4.16, 131074, 2),\n",
        "(21, 'Middlemarch', '1871-12-01', 'Historic', 904, 8.8, 3.99, 511790, 3),\n",
        "(22, 'Silas Marner', '1861-12-01', 'Historic', 196, 8.1, 3.94, 186847, 3),\n",
        "(23, 'The Mill on the Floss', '1860-01-01', 'Historic', 672, 8, 3.95, 373619, 3),\n",
        "(24, 'Adam Bede', '1859-04-01', 'Historic', 608, 7.9, 3.91, 344421, 3),\n",
        "(25, 'Daniel Deronda', '1876-01-01', 'Historic', 848, 7.7, 3.83, 359901, 3),\n",
        "(26, 'Harry Potter and the Philosophers Stone', '1997-06-26', 'Fantasy', 223, 4.65, 4.54, 1839669, 5),\n",
        "(27, 'Harry Potter and the Chamber of Secrets', '1998-07-02', 'Fantasy', 251, 4.65, 4.46, 1665754, 5),\n",
        "(28, 'Harry Potter and the Prisoner of Azkaban', '1999-07-08', 'Fantasy', 317, 4.72, 4.53, 1777322, 5),\n",
        "(29, 'Harry Potter and the Goblet of Fire', '2000-07-08', 'Fantasy', 636, 4.62, 4.54, 2273950, 5),\n",
        "(33, 'The Color of Magic', '1983-05-08', 'Comedy, Fantasy, Satire, Parody', 224, 5, 4.06, 30617, 6),\n",
        "(34, 'The Light Fantastic', '1986-10-01', 'Comedy, Fantasy, Satire, Parody', 256, 5, 4.05, 26371, 6),\n",
        "(35, 'Equal Rites', '1987-05-05', 'Comedy, Fantasy, Satire, Parody', 224, 5, 4.18, 21444, 6),\n",
        "(36, 'Mort', '1987-08-27', 'Comedy, Fantasy, Satire, Parody', 256, 5, 4.22, 21588, 6),\n",
        "(37, 'Guards! Guards!', '1989-01-06', 'Comedy, Fantasy, Satire, Parody', 352, 5, 4.27, 25542, 6),\n",
        "(187, 'Moby Dick', '1851-10-18', 'Adventure, fiction, sailors, whaling', 623, 10.8, 3.87, 230545, 7),\n",
        "(38, 'Redburn', '1849-10-23', 'Adventure, fiction, sailors, whaling', 496, 8.3, 2.85, 6304, 7),\n",
        "(39, 'White Jacket', '1850-02-23', 'Adventure, fiction, sailors, whaling', 496, 8.3, 3.37, 13890, 7),\n",
        "(40, 'Typee', '1846-02-23', 'Adventure, fiction, sailors, whaling', 400, 8.6, 3.52, 18709, 7),\n",
        "(41, 'Omoo', '1847-02-23', 'Adventure, fiction, sailors, whaling', 304, 8.3, 3.49, 13297, 7),\n",
        "(42, 'Israel Potter', '1855-01-23', 'Adventure, fiction, sailors, whaling', 256, 7.8, 3.32, 7223, 7),\n",
        "(43, 'The Hobbit', '1937-09-21', 'Adventure, childrens, fiction', 320, 8.8, 4.27, 3555338, 9),\n",
        "(44, 'The Fellowship of the Ring', '1954-07-29', 'Adventure, childrens, fiction', 624, 8.9, 4.35, 2757293, 9),\n",
        "(45, 'The Two Towers', '1954-11-17', 'Adventure, childrens, fiction', 352, 8.9, 4.24, 2523880, 9),\n",
        "(46, 'The Return of the King', '1955-10-20', 'Adventure, childrens, fiction', 416, 8.9, 4.28, 2620957, 9),\n",
        "(47, 'The Silmarillion', '1977-09-15', 'Adventure, childrens, fiction', 544, 8.3, 4.24, 256612, 9),\n",
        "(48, 'Unfinished Tales of Numenor and Middle-earth', '1980-10-21', 'Adventure, childrens, fiction', 608, 8.3, 4.14, 26183, 9),\n",
        "(49, 'The Golden Compass', '1995-11-01', 'Adventure, childrens, fantasy', 384, 7.9, 3.91, 1068181, 18),\n",
        "(50, 'The Subtle Knife', '1997-09-01', 'Adventure, childrens, fantasy', 400, 7.9, 3.93, 1026815, 18),\n",
        "(51, 'The Amber Spyglass', '2000-10-02', 'Adventure, childrens, fantasy', 576, 7.9, 4.01, 982295, 18),\n",
        "(52, 'Lyras Oxford', '2003-11-04', 'Adventure, childrens, fantasy', 96, 7.9, 4.02, 63979, 18),\n",
        "(53, ' Falling Free', '1988-09-01', 'Adventure, science fiction', 352, 8.6, 4.18, 78323, 16),\n",
        "(54, 'Shards of Honor', '1986-09-01', 'Adventure, science fiction', 384, 8.6, 4.12, 82438, 16),\n",
        "(55, 'Barrayar', '1991-09-01', 'Adventure, science fiction', 384, 8.6, 4.12, 81588, 16),\n",
        "(56, 'The Warriors Apprentice', '1986-11-01', 'Adventure, science fiction', 288, 8.6, 4.16, 80937, 16),\n",
        "(57, 'Ethan of Athos', '1986-12-01', 'Adventure, science fiction', 320, 8.6, 4.17, 78372, 16),\n",
        "(58, 'Brothers in Arms', '1989-10-01', 'Adventure, science fiction', 464, 8.6, 4.16, 75159, 16),\n",
        "(59, 'The Handmaids Tale', '1985-08-01', 'Dystopia, Feminism', 311, 11, 4.11, 867885, 10),\n",
        "(60, 'Oryx and Crake', '2003-08-05', 'Post-apocalyptic fiction, Science fiction', 376, 11, 3.82, 228396, 10),\n",
        "(61, 'The Blind Assassin', '2000-09-05', 'Historical fiction, Speculative fiction', 534, 12, 3.96, 208684, 10),\n",
        "(62, 'Are You There God? It''s Me, Margaret.', '1970-10-12', 'Bildungsroman, Young adult fiction', 144, 7, 4.14, 146476, 19),\n",
        "(63, 'Blubber', '1974-10-12', 'Social issues, Young adult fiction', 208, 9, 4.02, 92443, 19),\n",
        "(64, 'Forever', '1975-10-12', 'Bildungsroman, Young adult fiction', 288, 10, 3.73, 81165, 19),\n",
        "(65, 'Just As Long As We''re Together', '1987-10-12', 'Bildungsroman, Young adult fiction', 200, 8, 4.19, 70176, 19),\n",
        "(66, 'Starring Sally J. Freedman as Herself', '1978-10-12', 'Bildungsroman, Young adult fiction', 320, 10, 3.9, 68118, 19),\n",
        "(67, 'Superfudge', '1980-10-12', 'Bildungsroman, Young adult fiction', 176, 8, 4.21, 58465, 19),\n",
        "(68, 'Tales of a Fourth Grade Nothing', '1972-10-12', 'Bildungsroman, Young adult fiction', 192, 8, 4.17, 58214, 19),\n",
        "(69, 'Then Again, Maybe I Won''t', '1971-10-12', 'Bildungsroman, Young adult fiction', 160, 8, 4.14, 51431, 19),\n",
        "(70, 'Wish You Were Here', '1987-10-12', 'Bildungsroman, Young adult fiction', 256, 9, 4.04, 47170, 19),\n",
        "(71, 'Women and Men', '1987-06-01', 'Fiction', 368, 10, 3.11, 57788, 14),\n",
        "(72, 'The Moor''s Last Sigh', '1995-08-01', 'Historical fiction', 528, 11, 3.8, 35936, 14),\n",
        "(73, 'Midnight''s Children', '1981-06-02', 'Historical fiction, Magic realism', 592, 12, 4.1, 33894, 14),\n",
        "(74, 'Shame', '1983-06-01', 'Fiction', 528, 11, 3.83, 28141, 14),\n",
        "(75, 'Animal Farm', '1945-08-17', 'Allegory, Animal fiction, Political fable', 128, 8, 3.89, 219767, 17),\n",
        "(76, 'Burmese Days', '1934-05-01', 'Colonialism', 288, 10, 3.7, 53393, 17),\n",
        "(77, '1984', '1949-06-08', 'Dystopia, Political fiction', 272, 10, 4.15, 210565, 17),\n",
        "(78, 'Coming Up for Air', '1939-06-01', 'Bildungsroman', 320, 10, 3.85, 50304, 17),\n",
        "(79, 'Down and Out in Paris and London', '1933-01-01', 'Autobiography', 320, 10, 3.78, 48734, 17),\n",
        "(80, 'Keep the Aspidistra Flying', '1936-06-01', 'Bildungsroman, Social criticism', 256, 9, 3.7, 44190, 17),\n",
        "(81, 'The Road to Wigan Pier', '1937-03-01', 'Social criticism', 336, 10, 3.96, 44827, 17),\n",
        "(82, 'Homeland', '1992-06-01', 'Bildungsroman', 448, 10, 4.04, 62962, 18),\n",
        "(83, 'Lyrical Ballads', '1798-09-01', 'Poetry', 352, 9, 3.68, 24667, 18),\n",
        "(84, 'No Longer at Ease', '1960-04-01', 'Fiction, Historical fiction, Literature', 252, 8.5, 3.9, 15303, 20),\n",
        "(85, 'Arrow of God', '1964-04-01', 'Fiction, Historical fiction', 304, 8.25, 4, 12483, 20),\n",
        "(86, 'Dawn', '1987-04-01', 'Science fiction', 296, 8, 4.4, 22971, 15),\n",
        "(87, 'Adulthood Rites', '1988-04-01', 'Science fiction', 332, 8, 4.4, 18349, 15),\n",
        "(88, 'Imago', '1989-04-01', 'Science fiction', 292, 8.25, 4.3, 19018, 15),\n",
        "(89, 'Wild Seed', '1980-04-01', 'Science fiction', 340, 7.75, 4.3, 20778, 15),\n",
        "(90, 'Mind of My Mind', '1977-04-01', 'Science fiction', 352, 8.25, 4.2, 25279, 15),\n",
        "(91, 'A Game of Thrones', '1996-08-01', 'Fantasy, Historical fiction', 835, 7.5, 4.45, 864340, 12),\n",
        "(92, 'A Clash of Kings', '1998-02-02', 'Fantasy, Historical fiction', 1008, 7.5, 4.51, 650821, 12),\n",
        "(93, 'A Storm of Swords', '2000-10-08', 'Fantasy, Historical fiction', 1177, 7.5, 4.58, 905475, 12),\n",
        "(94, 'A Feast for Crows', '2005-10-17', 'Fantasy, Historical fiction', 973, 7.5, 4.29, 1395105, 12),\n",
        "(95, 'A Dance with Dragons', '2011-07-12', 'Fantasy, Historical fiction', 1040, 7.5, 4.36, 1246371, 12),\n",
        "(96, 'American Gods', '2001-06-26', 'Fantasy, Literature', 635, 7.75, 4.11, 687448, 11),\n",
        "(97, 'Anansi Boys', '2005-09-20', 'Fantasy, Literature', 384, 7.75, 3.93, 651478, 11),\n",
        "(98, 'Neverwhere', '1996-09-10', 'Fantasy, Literature', 400, 7.75, 4.16, 657877, 11),\n",
        "(99, 'Coraline', '2002-05-27', 'Fantasy, Literature', 192, 7.75, 4.05, 825266, 11),\n",
        "(100, 'The Graveyard Book', '2008-09-30', 'Fantasy, Literature', 336, 7.75, 4.11, 660480, 11),\n",
        "(101, 'Logical Syntax of Language', '1934-01-01', 'Philosophy', 277, 6.9, 4.04, 355, 21),\n",
        "(102, 'Philosophical Foundations of Physics', '1966-01-01', 'Science', 192, 8.3, 4.18, 154, 21),\n",
        "(103, 'Introduction to Semantics', '1942-01-01', 'Philosophy', 145, 7.8, 4.21, 170, 21),\n",
        "(105, 'Slaughterhouse-five', '1969-01-01', 'Science fiction', 275, 6.7, 4.09, 126084, 22),\n",
        "(106, 'The sirens of titan', '1959-01-01', 'Science fiction', 288, 7.1, 4.13, 101022, 22),\n",
        "(107, 'The player of games', '1988-01-01', 'Science fiction', 482, 6.2, 4.37, 32679, 23),\n",
        "(108, 'To say nothing of the dog', '1997-01-01', 'Science fiction', 488, 7.1, 4.38, 24497, 23),\n",
        "(109, 'Life studies', '1959-01-01', 'Poetry', 86, 9, 3.9, 536, 24),\n",
        "(110, 'For the union dead', '1964-01-01', 'Poetry', 69, 10.7, 4, 549, 24),\n",
        "(111, 'Near the ocean', '1967-01-01', 'Poetry', 84, 9.2, 3.9, 508, 24),\n",
        "(112, 'A portrait of the artist as a young man', '1916-01-01', 'Novel', 296, 8.8, 3.74, 30660, 25),\n",
        "(113, 'Finnegans wake', '1939-01-01', 'Novel', 628, 8.6, 3.39, 21663, 25),\n",
        "(114, 'Dubliners', '1914-01-01', ' Short story', 219, 8.3, 4.22, 41565, 25),\n",
        "(115, 'Expecting better', '2013-01-01', 'Nonfiction', 378, 10, 4.26, 9978, 26),\n",
        "(116, 'The Cat in the Hat', '1957-09-12', 'Fiction, Childrens', 57, 1.6, 4.23, 254215, 27),\n",
        "(117, 'Green Eggs and Ham', '1960-08-12', 'Fiction, Childrens', 50, 2.3, 4.21, 188110, 27),\n",
        "(118, 'Oh, the Places Youll Go!', '1990-01-22', 'Fiction, Childrens', 56, 3.7, 4.33, 174893, 27),\n",
        "(119, 'One Fish Two Fish Red Fish Blue Fish', '1960-10-12', 'Fiction, Childrens', 61, 1.4, 4.23, 157212, 27),\n",
        "(120, 'Fox in Socks', '1965-03-12', 'Fiction, Childrens', 48, 2.1, 4.17, 141327, 27),\n",
        "(122, 'The Bell Jar', '1963-01-14', 'Fiction', 224, 11, 3.59, 58585, 28),\n",
        "(123, 'Ariel', '1965-10-06', 'Fiction', 80, 9, 4.21, 22055, 28),\n",
        "(124, 'The Great Expectations', '1861-12-03', 'Fiction', 368, 9, 3.99, 304371, 29),\n",
        "(125, 'A Tale of Two Cities', '1859-04-30', 'Fiction', 448, 13, 4.05, 358022, 29),\n",
        "(127, 'David Copperfield', '1850-11-14', 'Fiction', 896, 9, 4.01, 342910, 29),\n",
        "(128, 'Oliver Twist', '1839-02-09', 'Fiction', 368, 9, 3.66, 307115, 29),\n",
        "(129, 'Looking for Alaska', '2005-03-01', 'Fiction', 288, 7, 4.11, 516555, 30),\n",
        "(130, 'Paper Towns', '2008-10-16', 'Fiction', 305, 7, 3.85, 549686, 30),\n",
        "(131, 'Will Grayson, Will Grayson', '2010-04-06', 'Fiction', 368, 7, 3.85, 267131, 30),\n",
        "(132, 'The Fault in Our Stars', '2012-01-10', 'Fiction', 336, 7, 4.34, 627395, 30),\n",
        "(133, 'An Abundance of Katherines', '2006-09-21', 'Fiction', 229, 7, 3.53, 279890, 30),\n",
        "(134, 'The Shining', '1977-01-28', 'Fiction', 638, 9, 4.15, 939767, 31),\n",
        "(135, 'The Dark Tower I: The Gunslinger', '1982-10-01', 'Fiction', 224, 9, 4.25, 1246126, 31),\n",
        "(136, 'Carrie', '1974-04-05', 'Fiction', 246, 9, 3.94, 914686, 31),\n",
        "(137, 'The Stand', '1978-09-12', 'Fiction', 1216, 9, 4.34, 932762, 31),\n",
        "(138, 'The Dark Tower II: The Drawing of the Three', '1987-05-01', 'Fiction', 288, 9, 4.28, 1113534, 31),\n",
        "(139, 'The Dark Tower III: The Waste Lands', '1991-10-01', 'Fiction', 416, 9, 4.19, 1029230, 31),\n",
        "(140, 'The Dark Tower IV: Wizard and Glass', '1997-10-01', 'Fiction', 752, 9, 4.27, 1037213, 31),\n",
        "(141, 'The Dark Tower: The Wind Through the Keyhole', '2012-04-24', 'Fiction', 304, 9, 4.11, 1204164, 31),\n",
        "(142, 'The Dark Tower V: Wolves of the Calla', '2003-11-05', 'Fiction', 752, 9, 4.27, 1032064, 31),\n",
        "(143, 'The Dark Tower VI: Song of Susannah', '2004-06-03', 'Fiction', 688, 9, 4.22, 1020941, 31),\n",
        "(144, 'The Dark Tower VII: The Dark Tower', '2004-09-04', 'Fiction', 848, 9, 4.29, 1063352, 31),\n",
        "(145, 'Uprooted', '2015-05-19', 'Fantasy', 448, 8.13, 4.4, 126163, 32),\n",
        "(146, 'Spinning Silver', '2018-07-10', 'Fantasy', 432, 8.13, 4.43, 81247, 32),\n",
        "(147, 'Fire and Hemlock', '1985-10-01', 'Fantasy', 432, 8.13, 4.3, 15000, 32),\n",
        "(148, 'To Say Nothing of the Dog', '1998-07-01', 'Fantasy', 480, 8.13, 4.17, 23346, 32),\n",
        "(149, 'The Temeraire Series', '2007-04-24', 'Fantasy', 1568, 8.13, 4.45, 106987, 32),\n",
        "(150, 'Victory of Eagles', '2008-04-15', 'Fantasy', 448, 8.13, 4.46, 106987, 32),\n",
        "(151, 'The Hunger Games', '2008-09-14', 'Fantasy', 384, 8.13, 4.34, 693205, 33),\n",
        "(152, 'Catching Fire', '2009-09-01', 'Fantasy', 391, 8.13, 4.3, 653052, 33),\n",
        "(153, 'Mockingjay', '2010-08-24', 'Fantasy', 400, 8.13, 4.03, 612564, 33),\n",
        "(154, 'The Ballad of Songbirds and Snakes', '2020-05-19', 'Fantasy', 464, 8.13, 3.59, 13894, 33),\n",
        "(155, 'Gregor the Overlander', '2003-08-01', 'Fantasy', 304, 8.13, 4.23, 68059, 33),\n",
        "(156, 'The Picture of Dorian Gray', '1890-06-20', 'Horror, Fiction', 3160, 6, 4.09, 53876, 34),\n",
        "(157, 'The Importance of Being Earnest', '1895-02-14', 'Comedy, Drama', 160, 4, 4.13, 89840, 34),\n",
        "(158, 'Lady Windermeres Fan', '1892-02-20', 'Comedy, Drama', 176, 3, 4.11, 44275, 34),\n",
        "(159, 'On Computable Numbers', '1937-05-28', 'Mathematics', 112, 10, 4.57, 1175, 35),\n",
        "(160, 'Computing machinery and intelligence', '1950-10-15', 'Philosophy', 117, 10, 4.27, 750, 35),\n",
        "(161, 'The Favorite Game', '1962-09-01', 'Novel', 216, 9, 3.96, 64, 36),\n",
        "(162, 'Beautiful Losers', '1966-09-01', 'Novel', 416, 10, 4.09, 1584, 36),\n",
        "(163, 'Les Fleurs du mal', '1857-06-03', 'Poetry', 400, 8, 3.73, 2106, 37),\n",
        "(164, 'Les Paradis artificiels', '1860-10-03', 'Poetry', 206, 9, 3.86, 1677, 37),\n",
        "(165, 'The Summer Tree', '1984-01-01', 'Fantasy', 489, 10, 4.13, 3263, 38),\n",
        "(167, 'The Wandering Hill', '2004-01-01', 'Fantasy', 528, 10, 4.17, 5103, 38),\n",
        "(168, 'The Origins of Totalitarianism', '1951-01-01', 'Philosophy', 618, 9, 4.32, 3788, 39),\n",
        "(169, 'The Human Condition', '1958-01-01', 'Philosophy', 502, 8, 4.11, 3999, 39);"
      ],
      "metadata": {
        "colab": {
          "base_uri": "https://localhost:8080/"
        },
        "id": "GjwUhOrcnXUn",
        "outputId": "43b72a60-9520-4231-d3dd-3c6858e0ba71"
      },
      "execution_count": 2,
      "outputs": [
        {
          "output_type": "stream",
          "name": "stdout",
          "text": [
            " * sqlite://\n",
            "Done.\n",
            "Done.\n",
            "Done.\n",
            "Done.\n",
            "Done.\n",
            "42 rows affected.\n",
            "150 rows affected.\n"
          ]
        },
        {
          "output_type": "execute_result",
          "data": {
            "text/plain": [
              "[]"
            ]
          },
          "metadata": {},
          "execution_count": 2
        }
      ]
    },
    {
      "cell_type": "markdown",
      "source": [
        "# 2. Getting to Know Our Tables\n",
        "In this section, we'll get acquainted with the relational schema of our database, and start exploring it using SELECT commands. A SELECT commands is SQL's way of \"Reading\" data from the database. You'll notice I start each of the code cells with a %%sql or %sql, like so:\n",
        "\n",
        "```\n",
        "%%sql \n",
        "# Write your multline SQL query here\n",
        "# Write your multline SQL query here\n",
        "```\n",
        "OR\n",
        "\n",
        "```\n",
        "%sql # A single-line SQL query here.\n",
        "```\n",
        "\n",
        "\n",
        "\n",
        "These **magic** commands \"tells\" the Python interpreter I want it to treat everything else in the cell as a special (in this case, SQL) command and NOT as ordinary Python. "
      ],
      "metadata": {
        "id": "PmUMLlW4CpRP"
      }
    },
    {
      "cell_type": "markdown",
      "source": [
        "## Examining the Database Schema\n",
        "Let's begin by taking a look at what tables we have. The command you need here will vary by DBMS (and I won't ask you to do it on a lab/exam), but the general rule is that relational databases will store the \"relational schema\" for the tables in your database inside their own \"system\" tables (the documentation will tell you what the names of these tables are). And you can query these tables using SQL! \n",
        "\n",
        "Right now, though, I just want you to take a look at what tables we have and at the \"CREATE\" table statements that were originally used to create them. You'll notice that our (SIMPLE!) table has data types that include:\n",
        "1. Strings of variable length (VARCHARS)\n",
        "2. Strings of fixed length (CHARS)\n",
        "3. Integers (INTEGERS)\n",
        "4. Dates (DATES)\n"
      ],
      "metadata": {
        "id": "IpJ_IcCoEx4a"
      }
    },
    {
      "cell_type": "code",
      "source": [
        "# This shows table schema. The commands here will depend on the DBMS\n",
        "%%sql \n",
        "SELECT name AS \"Table Name\", sql AS \"Schema of Table\" \n",
        "  FROM sqlite_master \n",
        "  WHERE type = 'table';"
      ],
      "metadata": {
        "colab": {
          "base_uri": "https://localhost:8080/",
          "height": 446
        },
        "id": "CHntiRxOC-HA",
        "outputId": "66de6b64-637c-4190-e8be-acf7f4a50ccf"
      },
      "execution_count": 3,
      "outputs": [
        {
          "output_type": "stream",
          "name": "stdout",
          "text": [
            " * sqlite://\n",
            "Done.\n"
          ]
        },
        {
          "output_type": "execute_result",
          "data": {
            "text/plain": [
              "[('Authors', 'CREATE TABLE Authors(\\n   author_id INT PRIMARY KEY,\\n   name VARCHAR(128) UNIQUE,\\n   nationality CHAR(3),\\n   famous_quote VARCHAR(256),\\n   date_of_birth DATE,\\n   date_of_death DATE,\\n   gender CHAR(1)\\n)'),\n",
              " ('Books', 'CREATE TABLE Books(\\n   book_id INT PRIMARY KEY,\\n   title VARCHAR(128) UNIQUE,\\n   publication_date DATE,\\n   genres VARCHAR(64),\\n   pages INT,\\n   reading_grade_level REAL,\\n   avg_stars REAL, \\n   num_reviews INT,\\n   author_id INT,\\n   FOREIGN KEY(author_id) REFERENCES Authors(author_id)\\n)')]"
            ],
            "text/html": [
              "<table>\n",
              "    <thead>\n",
              "        <tr>\n",
              "            <th>Table Name</th>\n",
              "            <th>Schema of Table</th>\n",
              "        </tr>\n",
              "    </thead>\n",
              "    <tbody>\n",
              "        <tr>\n",
              "            <td>Authors</td>\n",
              "            <td>CREATE TABLE Authors(<br>   author_id INT PRIMARY KEY,<br>   name VARCHAR(128) UNIQUE,<br>   nationality CHAR(3),<br>   famous_quote VARCHAR(256),<br>   date_of_birth DATE,<br>   date_of_death DATE,<br>   gender CHAR(1)<br>)</td>\n",
              "        </tr>\n",
              "        <tr>\n",
              "            <td>Books</td>\n",
              "            <td>CREATE TABLE Books(<br>   book_id INT PRIMARY KEY,<br>   title VARCHAR(128) UNIQUE,<br>   publication_date DATE,<br>   genres VARCHAR(64),<br>   pages INT,<br>   reading_grade_level REAL,<br>   avg_stars REAL, <br>   num_reviews INT,<br>   author_id INT,<br>   FOREIGN KEY(author_id) REFERENCES Authors(author_id)<br>)</td>\n",
              "        </tr>\n",
              "    </tbody>\n",
              "</table>"
            ]
          },
          "metadata": {},
          "execution_count": 3
        }
      ]
    },
    {
      "cell_type": "markdown",
      "source": [
        "# 3. Using SELECT, LIMIT, and COUNT\n",
        "A simple SELECT retrieves EVERY row from a table. It works like this:\n",
        "\n",
        "```\n",
        "# Show selected attributes for all rows\n",
        "SELECT attribute_1, attribute_2, etc. FROM table;\n",
        " \n",
        "# Show all attributes for all rows\n",
        "SELECT * FROM table; \n",
        "\n",
        "# Just show me the first five rows\n",
        "SELECT * FROM table LIMIT 5;\n",
        "\n",
        "```\n",
        "\n",
        "Let's see it in action!"
      ],
      "metadata": {
        "id": "DBA9oO3FKTbT"
      }
    },
    {
      "cell_type": "code",
      "source": [
        "# Retrieve the first five rows of the Authors table\n",
        "%%sql \n",
        "\n",
        "SELECT * \n",
        "  FROM Authors\n",
        "  LIMIT 5;"
      ],
      "metadata": {
        "colab": {
          "base_uri": "https://localhost:8080/",
          "height": 179
        },
        "id": "atptoWybFpM1",
        "outputId": "fefe12dc-4b3e-4f35-def1-70c6c01a2e3e"
      },
      "execution_count": 4,
      "outputs": [
        {
          "output_type": "stream",
          "name": "stdout",
          "text": [
            " * sqlite://\n",
            "Done.\n"
          ]
        },
        {
          "output_type": "execute_result",
          "data": {
            "text/plain": [
              "[(1, 'William Shakespeare', 'ENG', 'To thine own self be true', '1564-04-26', '1616-04-23', 'M'),\n",
              " (2, 'Plato', 'GRE', 'Be kind, for everyone you meet is fighting a hard battle', '0427-01-28', '0348-01-28', 'M'),\n",
              " (3, 'George Eliot', 'ENG', 'It is never too late to be what you might have been', '1819-11-22', '1880-12-22', 'F'),\n",
              " (4, 'Kazuo Ishiguro', 'JAP', 'She had become immeasurably old in a single year', '1954-11-08', None, 'M'),\n",
              " (5, 'JK Rowling', 'ENG', 'Happiness can be found, even in the darkest of times, if one only remembers to turn on the light', '1965-07-31', None, 'F')]"
            ],
            "text/html": [
              "<table>\n",
              "    <thead>\n",
              "        <tr>\n",
              "            <th>author_id</th>\n",
              "            <th>name</th>\n",
              "            <th>nationality</th>\n",
              "            <th>famous_quote</th>\n",
              "            <th>date_of_birth</th>\n",
              "            <th>date_of_death</th>\n",
              "            <th>gender</th>\n",
              "        </tr>\n",
              "    </thead>\n",
              "    <tbody>\n",
              "        <tr>\n",
              "            <td>1</td>\n",
              "            <td>William Shakespeare</td>\n",
              "            <td>ENG</td>\n",
              "            <td>To thine own self be true</td>\n",
              "            <td>1564-04-26</td>\n",
              "            <td>1616-04-23</td>\n",
              "            <td>M</td>\n",
              "        </tr>\n",
              "        <tr>\n",
              "            <td>2</td>\n",
              "            <td>Plato</td>\n",
              "            <td>GRE</td>\n",
              "            <td>Be kind, for everyone you meet is fighting a hard battle</td>\n",
              "            <td>0427-01-28</td>\n",
              "            <td>0348-01-28</td>\n",
              "            <td>M</td>\n",
              "        </tr>\n",
              "        <tr>\n",
              "            <td>3</td>\n",
              "            <td>George Eliot</td>\n",
              "            <td>ENG</td>\n",
              "            <td>It is never too late to be what you might have been</td>\n",
              "            <td>1819-11-22</td>\n",
              "            <td>1880-12-22</td>\n",
              "            <td>F</td>\n",
              "        </tr>\n",
              "        <tr>\n",
              "            <td>4</td>\n",
              "            <td>Kazuo Ishiguro</td>\n",
              "            <td>JAP</td>\n",
              "            <td>She had become immeasurably old in a single year</td>\n",
              "            <td>1954-11-08</td>\n",
              "            <td>None</td>\n",
              "            <td>M</td>\n",
              "        </tr>\n",
              "        <tr>\n",
              "            <td>5</td>\n",
              "            <td>JK Rowling</td>\n",
              "            <td>ENG</td>\n",
              "            <td>Happiness can be found, even in the darkest of times, if one only remembers to turn on the light</td>\n",
              "            <td>1965-07-31</td>\n",
              "            <td>None</td>\n",
              "            <td>F</td>\n",
              "        </tr>\n",
              "    </tbody>\n",
              "</table>"
            ]
          },
          "metadata": {},
          "execution_count": 4
        }
      ]
    },
    {
      "cell_type": "code",
      "source": [
        "# Retrieve the first 3 rows of the books table\n",
        "%%sql \n",
        "SELECT * FROM Books LIMIT 3;"
      ],
      "metadata": {
        "colab": {
          "base_uri": "https://localhost:8080/",
          "height": 137
        },
        "id": "uFqNLoqbLaUd",
        "outputId": "f2657ae4-d509-4e30-ff8d-e540907278a8"
      },
      "execution_count": 5,
      "outputs": [
        {
          "output_type": "stream",
          "name": "stdout",
          "text": [
            " * sqlite://\n",
            "Done.\n"
          ]
        },
        {
          "output_type": "execute_result",
          "data": {
            "text/plain": [
              "[(1, 'Henry V', '1599-10-15', 'Comedy, Drama, Historic', 129, 10.3, 4.38, 260408, 1),\n",
              " (2, 'A Midsummer Nights Dream', '1596-08-15', 'Comedy, Drama, Fantasy', 122, 10.1, 4.18, 121418, 1),\n",
              " (3, 'Macbeth', '1605-11-10', 'Comedy, Drama, Historic', 124, 9.9, 4.05, 220128, 1)]"
            ],
            "text/html": [
              "<table>\n",
              "    <thead>\n",
              "        <tr>\n",
              "            <th>book_id</th>\n",
              "            <th>title</th>\n",
              "            <th>publication_date</th>\n",
              "            <th>genres</th>\n",
              "            <th>pages</th>\n",
              "            <th>reading_grade_level</th>\n",
              "            <th>avg_stars</th>\n",
              "            <th>num_reviews</th>\n",
              "            <th>author_id</th>\n",
              "        </tr>\n",
              "    </thead>\n",
              "    <tbody>\n",
              "        <tr>\n",
              "            <td>1</td>\n",
              "            <td>Henry V</td>\n",
              "            <td>1599-10-15</td>\n",
              "            <td>Comedy, Drama, Historic</td>\n",
              "            <td>129</td>\n",
              "            <td>10.3</td>\n",
              "            <td>4.38</td>\n",
              "            <td>260408</td>\n",
              "            <td>1</td>\n",
              "        </tr>\n",
              "        <tr>\n",
              "            <td>2</td>\n",
              "            <td>A Midsummer Nights Dream</td>\n",
              "            <td>1596-08-15</td>\n",
              "            <td>Comedy, Drama, Fantasy</td>\n",
              "            <td>122</td>\n",
              "            <td>10.1</td>\n",
              "            <td>4.18</td>\n",
              "            <td>121418</td>\n",
              "            <td>1</td>\n",
              "        </tr>\n",
              "        <tr>\n",
              "            <td>3</td>\n",
              "            <td>Macbeth</td>\n",
              "            <td>1605-11-10</td>\n",
              "            <td>Comedy, Drama, Historic</td>\n",
              "            <td>124</td>\n",
              "            <td>9.9</td>\n",
              "            <td>4.05</td>\n",
              "            <td>220128</td>\n",
              "            <td>1</td>\n",
              "        </tr>\n",
              "    </tbody>\n",
              "</table>"
            ]
          },
          "metadata": {},
          "execution_count": 5
        }
      ]
    },
    {
      "cell_type": "markdown",
      "source": [
        "## How to COUNT the rows\n",
        "COUNT can tell us how many rows are returned.\n",
        "This is often more useful than listing the rows out one by one"
      ],
      "metadata": {
        "id": "aRjm6zD3ZGPI"
      }
    },
    {
      "cell_type": "code",
      "source": [
        "# Let's count the number of books in our database.\n",
        "%%sql \n",
        "\n",
        "SELECT COUNT(*) FROM Books;"
      ],
      "metadata": {
        "colab": {
          "base_uri": "https://localhost:8080/",
          "height": 95
        },
        "id": "aV9XSk1hLuXg",
        "outputId": "cd5ddcb6-2233-46a5-cedf-0376fafb1eec"
      },
      "execution_count": 6,
      "outputs": [
        {
          "output_type": "stream",
          "name": "stdout",
          "text": [
            " * sqlite://\n",
            "Done.\n"
          ]
        },
        {
          "output_type": "execute_result",
          "data": {
            "text/plain": [
              "[(150,)]"
            ],
            "text/html": [
              "<table>\n",
              "    <thead>\n",
              "        <tr>\n",
              "            <th>COUNT(*)</th>\n",
              "        </tr>\n",
              "    </thead>\n",
              "    <tbody>\n",
              "        <tr>\n",
              "            <td>150</td>\n",
              "        </tr>\n",
              "    </tbody>\n",
              "</table>"
            ]
          },
          "metadata": {},
          "execution_count": 6
        }
      ]
    },
    {
      "cell_type": "markdown",
      "source": [
        "## Tell me which COLUMNS you want.\n",
        "In the examples so far, we've been retrieving a subset of rows (or entities) from the database. However, we've been including ALL the attributes. In many cases, it is better to retrieve only the columns we are interested in. We can do this with following syntax:\n",
        "\n",
        "\n",
        "\n",
        "```\n",
        "SELECT col1, col2 FROM Table T\n",
        "```\n",
        "\n",
        "For example, let's just the name of authors, along with their nationality and date of birth"
      ],
      "metadata": {
        "id": "GTYHX41zZUBo"
      }
    },
    {
      "cell_type": "code",
      "source": [
        "%sql SELECT name, date_of_birth, nationality FROM Authors LIMIT 7;"
      ],
      "metadata": {
        "colab": {
          "base_uri": "https://localhost:8080/",
          "height": 221
        },
        "id": "qh486Jyu_RAw",
        "outputId": "4f16ecdf-6262-4688-d538-ebd722236e46"
      },
      "execution_count": 7,
      "outputs": [
        {
          "output_type": "stream",
          "name": "stdout",
          "text": [
            " * sqlite://\n",
            "Done.\n"
          ]
        },
        {
          "output_type": "execute_result",
          "data": {
            "text/plain": [
              "[('William Shakespeare', '1564-04-26', 'ENG'),\n",
              " ('Plato', '0427-01-28', 'GRE'),\n",
              " ('George Eliot', '1819-11-22', 'ENG'),\n",
              " ('Kazuo Ishiguro', '1954-11-08', 'JAP'),\n",
              " ('JK Rowling', '1965-07-31', 'ENG'),\n",
              " ('Terry Pratchett', '1948-04-28', 'ENG'),\n",
              " ('Herman Melville', '1819-08-01', 'USA')]"
            ],
            "text/html": [
              "<table>\n",
              "    <thead>\n",
              "        <tr>\n",
              "            <th>name</th>\n",
              "            <th>date_of_birth</th>\n",
              "            <th>nationality</th>\n",
              "        </tr>\n",
              "    </thead>\n",
              "    <tbody>\n",
              "        <tr>\n",
              "            <td>William Shakespeare</td>\n",
              "            <td>1564-04-26</td>\n",
              "            <td>ENG</td>\n",
              "        </tr>\n",
              "        <tr>\n",
              "            <td>Plato</td>\n",
              "            <td>0427-01-28</td>\n",
              "            <td>GRE</td>\n",
              "        </tr>\n",
              "        <tr>\n",
              "            <td>George Eliot</td>\n",
              "            <td>1819-11-22</td>\n",
              "            <td>ENG</td>\n",
              "        </tr>\n",
              "        <tr>\n",
              "            <td>Kazuo Ishiguro</td>\n",
              "            <td>1954-11-08</td>\n",
              "            <td>JAP</td>\n",
              "        </tr>\n",
              "        <tr>\n",
              "            <td>JK Rowling</td>\n",
              "            <td>1965-07-31</td>\n",
              "            <td>ENG</td>\n",
              "        </tr>\n",
              "        <tr>\n",
              "            <td>Terry Pratchett</td>\n",
              "            <td>1948-04-28</td>\n",
              "            <td>ENG</td>\n",
              "        </tr>\n",
              "        <tr>\n",
              "            <td>Herman Melville</td>\n",
              "            <td>1819-08-01</td>\n",
              "            <td>USA</td>\n",
              "        </tr>\n",
              "    </tbody>\n",
              "</table>"
            ]
          },
          "metadata": {},
          "execution_count": 7
        }
      ]
    },
    {
      "cell_type": "markdown",
      "source": [
        "# 4. Keeping Things DISTINCT\n",
        "Sometimes we want to get a list of the DISTINCT values that occur in a column (or given) column. Here are two examples, showing the difference this keyword can make. We'll try to answer the question: \"What nationalities are represented by the Authors in our database?\"\n",
        "\n",
        "First, let's try do this without DISTINCT:\n"
      ],
      "metadata": {
        "id": "juq4td4dOMoW"
      }
    },
    {
      "cell_type": "code",
      "source": [
        "%sql SELECT nationality FROM Authors LIMIT 20;"
      ],
      "metadata": {
        "colab": {
          "base_uri": "https://localhost:8080/",
          "height": 493
        },
        "id": "TJ18vJ3GL2q5",
        "outputId": "22e1fde4-95a8-4392-99f3-6916486abf49"
      },
      "execution_count": 8,
      "outputs": [
        {
          "output_type": "stream",
          "name": "stdout",
          "text": [
            " * sqlite://\n",
            "Done.\n"
          ]
        },
        {
          "output_type": "execute_result",
          "data": {
            "text/plain": [
              "[('ENG',),\n",
              " ('GRE',),\n",
              " ('ENG',),\n",
              " ('JAP',),\n",
              " ('ENG',),\n",
              " ('ENG',),\n",
              " ('USA',),\n",
              " ('ENG',),\n",
              " ('ENG',),\n",
              " ('CAN',),\n",
              " ('ENG',),\n",
              " ('USA',),\n",
              " ('USA',),\n",
              " ('IND',),\n",
              " ('USA',),\n",
              " ('USA',),\n",
              " ('ENG',),\n",
              " ('ENG',),\n",
              " ('USA',),\n",
              " ('NGA',)]"
            ],
            "text/html": [
              "<table>\n",
              "    <thead>\n",
              "        <tr>\n",
              "            <th>nationality</th>\n",
              "        </tr>\n",
              "    </thead>\n",
              "    <tbody>\n",
              "        <tr>\n",
              "            <td>ENG</td>\n",
              "        </tr>\n",
              "        <tr>\n",
              "            <td>GRE</td>\n",
              "        </tr>\n",
              "        <tr>\n",
              "            <td>ENG</td>\n",
              "        </tr>\n",
              "        <tr>\n",
              "            <td>JAP</td>\n",
              "        </tr>\n",
              "        <tr>\n",
              "            <td>ENG</td>\n",
              "        </tr>\n",
              "        <tr>\n",
              "            <td>ENG</td>\n",
              "        </tr>\n",
              "        <tr>\n",
              "            <td>USA</td>\n",
              "        </tr>\n",
              "        <tr>\n",
              "            <td>ENG</td>\n",
              "        </tr>\n",
              "        <tr>\n",
              "            <td>ENG</td>\n",
              "        </tr>\n",
              "        <tr>\n",
              "            <td>CAN</td>\n",
              "        </tr>\n",
              "        <tr>\n",
              "            <td>ENG</td>\n",
              "        </tr>\n",
              "        <tr>\n",
              "            <td>USA</td>\n",
              "        </tr>\n",
              "        <tr>\n",
              "            <td>USA</td>\n",
              "        </tr>\n",
              "        <tr>\n",
              "            <td>IND</td>\n",
              "        </tr>\n",
              "        <tr>\n",
              "            <td>USA</td>\n",
              "        </tr>\n",
              "        <tr>\n",
              "            <td>USA</td>\n",
              "        </tr>\n",
              "        <tr>\n",
              "            <td>ENG</td>\n",
              "        </tr>\n",
              "        <tr>\n",
              "            <td>ENG</td>\n",
              "        </tr>\n",
              "        <tr>\n",
              "            <td>USA</td>\n",
              "        </tr>\n",
              "        <tr>\n",
              "            <td>NGA</td>\n",
              "        </tr>\n",
              "    </tbody>\n",
              "</table>"
            ]
          },
          "metadata": {},
          "execution_count": 8
        }
      ]
    },
    {
      "cell_type": "markdown",
      "source": [
        "This has a lot of duplicates! In all, it returns the following number of rows:"
      ],
      "metadata": {
        "id": "v3-igDVeakwl"
      }
    },
    {
      "cell_type": "code",
      "source": [
        "%sql SELECT COUNT(nationality) FROM Authors;"
      ],
      "metadata": {
        "colab": {
          "base_uri": "https://localhost:8080/",
          "height": 95
        },
        "id": "1m5JEait_wRG",
        "outputId": "01d6826c-2151-48fa-bda3-d1f972f14655"
      },
      "execution_count": 9,
      "outputs": [
        {
          "output_type": "stream",
          "name": "stdout",
          "text": [
            " * sqlite://\n",
            "Done.\n"
          ]
        },
        {
          "output_type": "execute_result",
          "data": {
            "text/plain": [
              "[(42,)]"
            ],
            "text/html": [
              "<table>\n",
              "    <thead>\n",
              "        <tr>\n",
              "            <th>COUNT(nationality)</th>\n",
              "        </tr>\n",
              "    </thead>\n",
              "    <tbody>\n",
              "        <tr>\n",
              "            <td>42</td>\n",
              "        </tr>\n",
              "    </tbody>\n",
              "</table>"
            ]
          },
          "metadata": {},
          "execution_count": 9
        }
      ]
    },
    {
      "cell_type": "markdown",
      "source": [
        "Now, we can do with DISTINCT -- notice the difference!"
      ],
      "metadata": {
        "id": "5QeClRQIaxaS"
      }
    },
    {
      "cell_type": "code",
      "source": [
        "%sql SELECT DISTINCT nationality FROM Authors;"
      ],
      "metadata": {
        "colab": {
          "base_uri": "https://localhost:8080/",
          "height": 347
        },
        "id": "J2Y18RyoO14D",
        "outputId": "57aaca3c-23c6-49d5-c683-6c7baeffcdb1"
      },
      "execution_count": 10,
      "outputs": [
        {
          "output_type": "stream",
          "name": "stdout",
          "text": [
            " * sqlite://\n",
            "Done.\n"
          ]
        },
        {
          "output_type": "execute_result",
          "data": {
            "text/plain": [
              "[('ENG',),\n",
              " ('GRE',),\n",
              " ('JAP',),\n",
              " ('USA',),\n",
              " ('CAN',),\n",
              " ('IND',),\n",
              " ('NGA',),\n",
              " ('GER',),\n",
              " ('IRE',),\n",
              " ('UK ',),\n",
              " ('FRA',),\n",
              " ('TUR',),\n",
              " ('AFG',)]"
            ],
            "text/html": [
              "<table>\n",
              "    <thead>\n",
              "        <tr>\n",
              "            <th>nationality</th>\n",
              "        </tr>\n",
              "    </thead>\n",
              "    <tbody>\n",
              "        <tr>\n",
              "            <td>ENG</td>\n",
              "        </tr>\n",
              "        <tr>\n",
              "            <td>GRE</td>\n",
              "        </tr>\n",
              "        <tr>\n",
              "            <td>JAP</td>\n",
              "        </tr>\n",
              "        <tr>\n",
              "            <td>USA</td>\n",
              "        </tr>\n",
              "        <tr>\n",
              "            <td>CAN</td>\n",
              "        </tr>\n",
              "        <tr>\n",
              "            <td>IND</td>\n",
              "        </tr>\n",
              "        <tr>\n",
              "            <td>NGA</td>\n",
              "        </tr>\n",
              "        <tr>\n",
              "            <td>GER</td>\n",
              "        </tr>\n",
              "        <tr>\n",
              "            <td>IRE</td>\n",
              "        </tr>\n",
              "        <tr>\n",
              "            <td>UK </td>\n",
              "        </tr>\n",
              "        <tr>\n",
              "            <td>FRA</td>\n",
              "        </tr>\n",
              "        <tr>\n",
              "            <td>TUR</td>\n",
              "        </tr>\n",
              "        <tr>\n",
              "            <td>AFG</td>\n",
              "        </tr>\n",
              "    </tbody>\n",
              "</table>"
            ]
          },
          "metadata": {},
          "execution_count": 10
        }
      ]
    },
    {
      "cell_type": "code",
      "source": [
        "# We can again COUNT the rows returned.\n",
        "%sql  SELECT COUNT(DISTINCT nationality) FROM Authors;"
      ],
      "metadata": {
        "colab": {
          "base_uri": "https://localhost:8080/",
          "height": 95
        },
        "id": "fk6nNJixAC5q",
        "outputId": "2b5b2cf7-ea98-4f52-c39b-7f0aec28c5ac"
      },
      "execution_count": 11,
      "outputs": [
        {
          "output_type": "stream",
          "name": "stdout",
          "text": [
            " * sqlite://\n",
            "Done.\n"
          ]
        },
        {
          "output_type": "execute_result",
          "data": {
            "text/plain": [
              "[(13,)]"
            ],
            "text/html": [
              "<table>\n",
              "    <thead>\n",
              "        <tr>\n",
              "            <th>COUNT(DISTINCT nationality)</th>\n",
              "        </tr>\n",
              "    </thead>\n",
              "    <tbody>\n",
              "        <tr>\n",
              "            <td>13</td>\n",
              "        </tr>\n",
              "    </tbody>\n",
              "</table>"
            ]
          },
          "metadata": {},
          "execution_count": 11
        }
      ]
    },
    {
      "cell_type": "markdown",
      "source": [
        "# 5. Column Aliases and ORDER BY\n",
        "So far, we've basically let SQL display the rows of our SELECT queries in whatever the \"default\" setting happens to be. However, for real-world purposes (when we actually want to *use* this data), we often want it to be presented in particular order and format. SQL lets us do this. Here, we'll do the following:\n",
        "1. Create new column labels (or \"aliases\") by using the AS keyword\n",
        "2. Changing the order of rows by using ORDER BY "
      ],
      "metadata": {
        "id": "Q3oe2Jf_xZj1"
      }
    },
    {
      "cell_type": "code",
      "source": [
        "# To start, let's look at Book table without any sort of ordering imposed\n",
        "%sql SELECT title, publication_date  FROM Books LIMIT 10;"
      ],
      "metadata": {
        "id": "Z4YP1IQoPCbp",
        "colab": {
          "base_uri": "https://localhost:8080/",
          "height": 284
        },
        "outputId": "255e110e-8517-465e-f63f-4673e2b352d7"
      },
      "execution_count": 12,
      "outputs": [
        {
          "output_type": "stream",
          "name": "stdout",
          "text": [
            " * sqlite://\n",
            "Done.\n"
          ]
        },
        {
          "output_type": "execute_result",
          "data": {
            "text/plain": [
              "[('Henry V', '1599-10-15'),\n",
              " ('A Midsummer Nights Dream', '1596-08-15'),\n",
              " ('Macbeth', '1605-11-10'),\n",
              " ('Romeo and Juliet', '1597-02-14'),\n",
              " ('Othello', '1604-08-10'),\n",
              " ('The Republic', '0380-01-01 BC'),\n",
              " ('Symposium', '0380-01-01 BC'),\n",
              " ('Middlemarch', '1871-12-01'),\n",
              " ('Silas Marner', '1861-12-01'),\n",
              " ('The Mill on the Floss', '1860-01-01')]"
            ],
            "text/html": [
              "<table>\n",
              "    <thead>\n",
              "        <tr>\n",
              "            <th>title</th>\n",
              "            <th>publication_date</th>\n",
              "        </tr>\n",
              "    </thead>\n",
              "    <tbody>\n",
              "        <tr>\n",
              "            <td>Henry V</td>\n",
              "            <td>1599-10-15</td>\n",
              "        </tr>\n",
              "        <tr>\n",
              "            <td>A Midsummer Nights Dream</td>\n",
              "            <td>1596-08-15</td>\n",
              "        </tr>\n",
              "        <tr>\n",
              "            <td>Macbeth</td>\n",
              "            <td>1605-11-10</td>\n",
              "        </tr>\n",
              "        <tr>\n",
              "            <td>Romeo and Juliet</td>\n",
              "            <td>1597-02-14</td>\n",
              "        </tr>\n",
              "        <tr>\n",
              "            <td>Othello</td>\n",
              "            <td>1604-08-10</td>\n",
              "        </tr>\n",
              "        <tr>\n",
              "            <td>The Republic</td>\n",
              "            <td>0380-01-01 BC</td>\n",
              "        </tr>\n",
              "        <tr>\n",
              "            <td>Symposium</td>\n",
              "            <td>0380-01-01 BC</td>\n",
              "        </tr>\n",
              "        <tr>\n",
              "            <td>Middlemarch</td>\n",
              "            <td>1871-12-01</td>\n",
              "        </tr>\n",
              "        <tr>\n",
              "            <td>Silas Marner</td>\n",
              "            <td>1861-12-01</td>\n",
              "        </tr>\n",
              "        <tr>\n",
              "            <td>The Mill on the Floss</td>\n",
              "            <td>1860-01-01</td>\n",
              "        </tr>\n",
              "    </tbody>\n",
              "</table>"
            ]
          },
          "metadata": {},
          "execution_count": 12
        }
      ]
    },
    {
      "cell_type": "code",
      "source": [
        "# Now, let's try renaming the columns\n",
        "%%sql \n",
        "\n",
        "SELECT Title as \"Title of Book\", publication_date AS \"Y/M/D\"\n",
        "  FROM Books LIMIT 10;"
      ],
      "metadata": {
        "colab": {
          "base_uri": "https://localhost:8080/",
          "height": 284
        },
        "id": "njkQFetYyTZU",
        "outputId": "352de659-802c-4a05-aae7-783ca187af8d"
      },
      "execution_count": 13,
      "outputs": [
        {
          "output_type": "stream",
          "name": "stdout",
          "text": [
            " * sqlite://\n",
            "Done.\n"
          ]
        },
        {
          "output_type": "execute_result",
          "data": {
            "text/plain": [
              "[('Henry V', '1599-10-15'),\n",
              " ('A Midsummer Nights Dream', '1596-08-15'),\n",
              " ('Macbeth', '1605-11-10'),\n",
              " ('Romeo and Juliet', '1597-02-14'),\n",
              " ('Othello', '1604-08-10'),\n",
              " ('The Republic', '0380-01-01 BC'),\n",
              " ('Symposium', '0380-01-01 BC'),\n",
              " ('Middlemarch', '1871-12-01'),\n",
              " ('Silas Marner', '1861-12-01'),\n",
              " ('The Mill on the Floss', '1860-01-01')]"
            ],
            "text/html": [
              "<table>\n",
              "    <thead>\n",
              "        <tr>\n",
              "            <th>Title of Book</th>\n",
              "            <th>Y/M/D</th>\n",
              "        </tr>\n",
              "    </thead>\n",
              "    <tbody>\n",
              "        <tr>\n",
              "            <td>Henry V</td>\n",
              "            <td>1599-10-15</td>\n",
              "        </tr>\n",
              "        <tr>\n",
              "            <td>A Midsummer Nights Dream</td>\n",
              "            <td>1596-08-15</td>\n",
              "        </tr>\n",
              "        <tr>\n",
              "            <td>Macbeth</td>\n",
              "            <td>1605-11-10</td>\n",
              "        </tr>\n",
              "        <tr>\n",
              "            <td>Romeo and Juliet</td>\n",
              "            <td>1597-02-14</td>\n",
              "        </tr>\n",
              "        <tr>\n",
              "            <td>Othello</td>\n",
              "            <td>1604-08-10</td>\n",
              "        </tr>\n",
              "        <tr>\n",
              "            <td>The Republic</td>\n",
              "            <td>0380-01-01 BC</td>\n",
              "        </tr>\n",
              "        <tr>\n",
              "            <td>Symposium</td>\n",
              "            <td>0380-01-01 BC</td>\n",
              "        </tr>\n",
              "        <tr>\n",
              "            <td>Middlemarch</td>\n",
              "            <td>1871-12-01</td>\n",
              "        </tr>\n",
              "        <tr>\n",
              "            <td>Silas Marner</td>\n",
              "            <td>1861-12-01</td>\n",
              "        </tr>\n",
              "        <tr>\n",
              "            <td>The Mill on the Floss</td>\n",
              "            <td>1860-01-01</td>\n",
              "        </tr>\n",
              "    </tbody>\n",
              "</table>"
            ]
          },
          "metadata": {},
          "execution_count": 13
        }
      ]
    },
    {
      "cell_type": "code",
      "source": [
        "# OK, now let's trying ordering by the year the year the book was first published\n",
        "%%sql \n",
        "\n",
        "SELECT Title as \"Title of Book\", publication_date AS \"Date\"\n",
        "  FROM Books \n",
        "  ORDER BY publication_date\n",
        "  LIMIT 10;"
      ],
      "metadata": {
        "colab": {
          "base_uri": "https://localhost:8080/",
          "height": 284
        },
        "id": "YR9RBZpJ0hrC",
        "outputId": "bc49f0ed-4b7b-4828-e576-a158cff198b9"
      },
      "execution_count": 14,
      "outputs": [
        {
          "output_type": "stream",
          "name": "stdout",
          "text": [
            " * sqlite://\n",
            "Done.\n"
          ]
        },
        {
          "output_type": "execute_result",
          "data": {
            "text/plain": [
              "[('The Republic', '0380-01-01 BC'),\n",
              " ('Symposium', '0380-01-01 BC'),\n",
              " ('A Midsummer Nights Dream', '1596-08-15'),\n",
              " ('Romeo and Juliet', '1597-02-14'),\n",
              " ('Henry V', '1599-10-15'),\n",
              " ('Othello', '1604-08-10'),\n",
              " ('Macbeth', '1605-11-10'),\n",
              " ('Lyrical Ballads', '1798-09-01'),\n",
              " ('Oliver Twist', '1839-02-09'),\n",
              " ('Typee', '1846-02-23')]"
            ],
            "text/html": [
              "<table>\n",
              "    <thead>\n",
              "        <tr>\n",
              "            <th>Title of Book</th>\n",
              "            <th>Date</th>\n",
              "        </tr>\n",
              "    </thead>\n",
              "    <tbody>\n",
              "        <tr>\n",
              "            <td>The Republic</td>\n",
              "            <td>0380-01-01 BC</td>\n",
              "        </tr>\n",
              "        <tr>\n",
              "            <td>Symposium</td>\n",
              "            <td>0380-01-01 BC</td>\n",
              "        </tr>\n",
              "        <tr>\n",
              "            <td>A Midsummer Nights Dream</td>\n",
              "            <td>1596-08-15</td>\n",
              "        </tr>\n",
              "        <tr>\n",
              "            <td>Romeo and Juliet</td>\n",
              "            <td>1597-02-14</td>\n",
              "        </tr>\n",
              "        <tr>\n",
              "            <td>Henry V</td>\n",
              "            <td>1599-10-15</td>\n",
              "        </tr>\n",
              "        <tr>\n",
              "            <td>Othello</td>\n",
              "            <td>1604-08-10</td>\n",
              "        </tr>\n",
              "        <tr>\n",
              "            <td>Macbeth</td>\n",
              "            <td>1605-11-10</td>\n",
              "        </tr>\n",
              "        <tr>\n",
              "            <td>Lyrical Ballads</td>\n",
              "            <td>1798-09-01</td>\n",
              "        </tr>\n",
              "        <tr>\n",
              "            <td>Oliver Twist</td>\n",
              "            <td>1839-02-09</td>\n",
              "        </tr>\n",
              "        <tr>\n",
              "            <td>Typee</td>\n",
              "            <td>1846-02-23</td>\n",
              "        </tr>\n",
              "    </tbody>\n",
              "</table>"
            ]
          },
          "metadata": {},
          "execution_count": 14
        }
      ]
    },
    {
      "cell_type": "code",
      "source": [
        "# The default sort order is \"Ascending\" (or ASC)\n",
        "# We could also sort by \"Descending\" order\n",
        "%%sql \n",
        "\n",
        "SELECT title as \"Title of Book\", publication_date AS \"Year\"\n",
        "  FROM Books \n",
        "  ORDER BY publication_date DESC\n",
        "  LIMIT 10;"
      ],
      "metadata": {
        "colab": {
          "base_uri": "https://localhost:8080/",
          "height": 284
        },
        "id": "5tnumdBA00gf",
        "outputId": "de32caf1-a640-4978-afc3-c891ef0c8708"
      },
      "execution_count": 15,
      "outputs": [
        {
          "output_type": "stream",
          "name": "stdout",
          "text": [
            " * sqlite://\n",
            "Done.\n"
          ]
        },
        {
          "output_type": "execute_result",
          "data": {
            "text/plain": [
              "[('The Ballad of Songbirds and Snakes', '2020-05-19'),\n",
              " ('Spinning Silver', '2018-07-10'),\n",
              " ('Uprooted', '2015-05-19'),\n",
              " ('Expecting better', '2013-01-01'),\n",
              " ('The Dark Tower: The Wind Through the Keyhole', '2012-04-24'),\n",
              " ('The Fault in Our Stars', '2012-01-10'),\n",
              " ('A Dance with Dragons', '2011-07-12'),\n",
              " ('Mockingjay', '2010-08-24'),\n",
              " ('Will Grayson, Will Grayson', '2010-04-06'),\n",
              " ('Catching Fire', '2009-09-01')]"
            ],
            "text/html": [
              "<table>\n",
              "    <thead>\n",
              "        <tr>\n",
              "            <th>Title of Book</th>\n",
              "            <th>Year</th>\n",
              "        </tr>\n",
              "    </thead>\n",
              "    <tbody>\n",
              "        <tr>\n",
              "            <td>The Ballad of Songbirds and Snakes</td>\n",
              "            <td>2020-05-19</td>\n",
              "        </tr>\n",
              "        <tr>\n",
              "            <td>Spinning Silver</td>\n",
              "            <td>2018-07-10</td>\n",
              "        </tr>\n",
              "        <tr>\n",
              "            <td>Uprooted</td>\n",
              "            <td>2015-05-19</td>\n",
              "        </tr>\n",
              "        <tr>\n",
              "            <td>Expecting better</td>\n",
              "            <td>2013-01-01</td>\n",
              "        </tr>\n",
              "        <tr>\n",
              "            <td>The Dark Tower: The Wind Through the Keyhole</td>\n",
              "            <td>2012-04-24</td>\n",
              "        </tr>\n",
              "        <tr>\n",
              "            <td>The Fault in Our Stars</td>\n",
              "            <td>2012-01-10</td>\n",
              "        </tr>\n",
              "        <tr>\n",
              "            <td>A Dance with Dragons</td>\n",
              "            <td>2011-07-12</td>\n",
              "        </tr>\n",
              "        <tr>\n",
              "            <td>Mockingjay</td>\n",
              "            <td>2010-08-24</td>\n",
              "        </tr>\n",
              "        <tr>\n",
              "            <td>Will Grayson, Will Grayson</td>\n",
              "            <td>2010-04-06</td>\n",
              "        </tr>\n",
              "        <tr>\n",
              "            <td>Catching Fire</td>\n",
              "            <td>2009-09-01</td>\n",
              "        </tr>\n",
              "    </tbody>\n",
              "</table>"
            ]
          },
          "metadata": {},
          "execution_count": 15
        }
      ]
    },
    {
      "cell_type": "code",
      "source": [
        "# We can also sort by multiple columns\n",
        "# For example, first descending by year and then ascending by title.\n",
        "# strftime('%Y', publication_date) gives us just the \"year\" part of the date\n",
        "%%sql \n",
        "\n",
        "SELECT title as \"Title of Book\", strftime('%Y', publication_date) as \"Year\"\n",
        "  FROM Books \n",
        "  ORDER BY Year DESC, Title ASC\n",
        "  LIMIT 10;"
      ],
      "metadata": {
        "colab": {
          "base_uri": "https://localhost:8080/",
          "height": 284
        },
        "id": "7ySWxaZg2ZjS",
        "outputId": "7b6b0a64-5b84-480c-eb69-08d02ffe92a1"
      },
      "execution_count": 16,
      "outputs": [
        {
          "output_type": "stream",
          "name": "stdout",
          "text": [
            " * sqlite://\n",
            "Done.\n"
          ]
        },
        {
          "output_type": "execute_result",
          "data": {
            "text/plain": [
              "[('The Ballad of Songbirds and Snakes', '2020'),\n",
              " ('Spinning Silver', '2018'),\n",
              " ('Uprooted', '2015'),\n",
              " ('Expecting better', '2013'),\n",
              " ('The Dark Tower: The Wind Through the Keyhole', '2012'),\n",
              " ('The Fault in Our Stars', '2012'),\n",
              " ('A Dance with Dragons', '2011'),\n",
              " ('Mockingjay', '2010'),\n",
              " ('Will Grayson, Will Grayson', '2010'),\n",
              " ('Catching Fire', '2009')]"
            ],
            "text/html": [
              "<table>\n",
              "    <thead>\n",
              "        <tr>\n",
              "            <th>Title of Book</th>\n",
              "            <th>Year</th>\n",
              "        </tr>\n",
              "    </thead>\n",
              "    <tbody>\n",
              "        <tr>\n",
              "            <td>The Ballad of Songbirds and Snakes</td>\n",
              "            <td>2020</td>\n",
              "        </tr>\n",
              "        <tr>\n",
              "            <td>Spinning Silver</td>\n",
              "            <td>2018</td>\n",
              "        </tr>\n",
              "        <tr>\n",
              "            <td>Uprooted</td>\n",
              "            <td>2015</td>\n",
              "        </tr>\n",
              "        <tr>\n",
              "            <td>Expecting better</td>\n",
              "            <td>2013</td>\n",
              "        </tr>\n",
              "        <tr>\n",
              "            <td>The Dark Tower: The Wind Through the Keyhole</td>\n",
              "            <td>2012</td>\n",
              "        </tr>\n",
              "        <tr>\n",
              "            <td>The Fault in Our Stars</td>\n",
              "            <td>2012</td>\n",
              "        </tr>\n",
              "        <tr>\n",
              "            <td>A Dance with Dragons</td>\n",
              "            <td>2011</td>\n",
              "        </tr>\n",
              "        <tr>\n",
              "            <td>Mockingjay</td>\n",
              "            <td>2010</td>\n",
              "        </tr>\n",
              "        <tr>\n",
              "            <td>Will Grayson, Will Grayson</td>\n",
              "            <td>2010</td>\n",
              "        </tr>\n",
              "        <tr>\n",
              "            <td>Catching Fire</td>\n",
              "            <td>2009</td>\n",
              "        </tr>\n",
              "    </tbody>\n",
              "</table>"
            ]
          },
          "metadata": {},
          "execution_count": 16
        }
      ]
    },
    {
      "cell_type": "markdown",
      "source": [
        "#6. Calculated Columns\n",
        "SQL also allows do things like add, subtract, and divide the values of columns. Here we'll show:\n",
        "1. How to use SQL to do basic arithemtic\n",
        "2. How to use this to produce new \"calculated columns\""
      ],
      "metadata": {
        "id": "PV5gOTi9QWV9"
      }
    },
    {
      "cell_type": "code",
      "source": [
        "# Let's do some simple arithmetic\n",
        "%sql SELECT 7 + 21"
      ],
      "metadata": {
        "colab": {
          "base_uri": "https://localhost:8080/",
          "height": 95
        },
        "id": "Y5vbdT4j2oEj",
        "outputId": "eb361591-0dc3-4cae-f252-c03d4c93510b"
      },
      "execution_count": 17,
      "outputs": [
        {
          "output_type": "stream",
          "name": "stdout",
          "text": [
            " * sqlite://\n",
            "Done.\n"
          ]
        },
        {
          "output_type": "execute_result",
          "data": {
            "text/plain": [
              "[(28,)]"
            ],
            "text/html": [
              "<table>\n",
              "    <thead>\n",
              "        <tr>\n",
              "            <th>7 + 21</th>\n",
              "        </tr>\n",
              "    </thead>\n",
              "    <tbody>\n",
              "        <tr>\n",
              "            <td>28</td>\n",
              "        </tr>\n",
              "    </tbody>\n",
              "</table>"
            ]
          },
          "metadata": {},
          "execution_count": 17
        }
      ]
    },
    {
      "cell_type": "code",
      "source": [
        "# The order of operations is the same one you should\n",
        "# have learned in math class\n",
        "%sql SELECT 3 - 2 * 4"
      ],
      "metadata": {
        "colab": {
          "base_uri": "https://localhost:8080/",
          "height": 95
        },
        "id": "T5niIkCNQ2UW",
        "outputId": "5ddc0bc9-6494-4c8f-eeee-94fbec9e6c7a"
      },
      "execution_count": 18,
      "outputs": [
        {
          "output_type": "stream",
          "name": "stdout",
          "text": [
            " * sqlite://\n",
            "Done.\n"
          ]
        },
        {
          "output_type": "execute_result",
          "data": {
            "text/plain": [
              "[(-5,)]"
            ],
            "text/html": [
              "<table>\n",
              "    <thead>\n",
              "        <tr>\n",
              "            <th>3 - 2 * 4</th>\n",
              "        </tr>\n",
              "    </thead>\n",
              "    <tbody>\n",
              "        <tr>\n",
              "            <td>-5</td>\n",
              "        </tr>\n",
              "    </tbody>\n",
              "</table>"
            ]
          },
          "metadata": {},
          "execution_count": 18
        }
      ]
    },
    {
      "cell_type": "code",
      "source": [
        "# The \"default\" for division is integer division. So, you do NOT get decimal places.\n",
        "%sql SELECT 11/5"
      ],
      "metadata": {
        "colab": {
          "base_uri": "https://localhost:8080/",
          "height": 95
        },
        "id": "9ZOmpS-bRDbO",
        "outputId": "d1890bf0-353f-4bdc-ef37-84c853d17f6c"
      },
      "execution_count": 19,
      "outputs": [
        {
          "output_type": "stream",
          "name": "stdout",
          "text": [
            " * sqlite://\n",
            "Done.\n"
          ]
        },
        {
          "output_type": "execute_result",
          "data": {
            "text/plain": [
              "[(2,)]"
            ],
            "text/html": [
              "<table>\n",
              "    <thead>\n",
              "        <tr>\n",
              "            <th>11/5</th>\n",
              "        </tr>\n",
              "    </thead>\n",
              "    <tbody>\n",
              "        <tr>\n",
              "            <td>2</td>\n",
              "        </tr>\n",
              "    </tbody>\n",
              "</table>"
            ]
          },
          "metadata": {},
          "execution_count": 19
        }
      ]
    },
    {
      "cell_type": "code",
      "source": [
        "# We can also get the remainder from this division using the % operator\n",
        "%sql select 11/5 as \"Quotient\", 11 % 5 as \"Remainder\""
      ],
      "metadata": {
        "colab": {
          "base_uri": "https://localhost:8080/",
          "height": 95
        },
        "id": "7lcbOP6FR0Ta",
        "outputId": "4f28d343-56fa-4e51-d2ff-7cc53eab052d"
      },
      "execution_count": 20,
      "outputs": [
        {
          "output_type": "stream",
          "name": "stdout",
          "text": [
            " * sqlite://\n",
            "Done.\n"
          ]
        },
        {
          "output_type": "execute_result",
          "data": {
            "text/plain": [
              "[(2, 1)]"
            ],
            "text/html": [
              "<table>\n",
              "    <thead>\n",
              "        <tr>\n",
              "            <th>Quotient</th>\n",
              "            <th>Remainder</th>\n",
              "        </tr>\n",
              "    </thead>\n",
              "    <tbody>\n",
              "        <tr>\n",
              "            <td>2</td>\n",
              "            <td>1</td>\n",
              "        </tr>\n",
              "    </tbody>\n",
              "</table>"
            ]
          },
          "metadata": {},
          "execution_count": 20
        }
      ]
    },
    {
      "cell_type": "code",
      "source": [
        "# To do \"float\" division, we just need to put a . after one of our numbers,\n",
        "# which tells SQL to treat this as a FLOAT\n",
        "%%sql \n",
        "SELECT 11./5 AS \"What is 11 divided by 5?\""
      ],
      "metadata": {
        "colab": {
          "base_uri": "https://localhost:8080/",
          "height": 95
        },
        "id": "l14bSqw7Sp7J",
        "outputId": "4dd274c9-e8ea-4606-8f60-9cc03eb89487"
      },
      "execution_count": 21,
      "outputs": [
        {
          "output_type": "stream",
          "name": "stdout",
          "text": [
            " * sqlite://\n",
            "Done.\n"
          ]
        },
        {
          "output_type": "execute_result",
          "data": {
            "text/plain": [
              "[(2.2,)]"
            ],
            "text/html": [
              "<table>\n",
              "    <thead>\n",
              "        <tr>\n",
              "            <th>What is 11 divided by 5?</th>\n",
              "        </tr>\n",
              "    </thead>\n",
              "    <tbody>\n",
              "        <tr>\n",
              "            <td>2.2</td>\n",
              "        </tr>\n",
              "    </tbody>\n",
              "</table>"
            ]
          },
          "metadata": {},
          "execution_count": 21
        }
      ]
    },
    {
      "cell_type": "code",
      "source": [
        "# Now, let's try our hand at using this to play with books pages\n",
        "%sql SELECT title, pages FROM Books LIMIT 7;"
      ],
      "metadata": {
        "colab": {
          "base_uri": "https://localhost:8080/",
          "height": 221
        },
        "id": "AUbKIbMuTEr4",
        "outputId": "c8fd7d41-b51a-402b-f492-8b3906192a75"
      },
      "execution_count": 22,
      "outputs": [
        {
          "output_type": "stream",
          "name": "stdout",
          "text": [
            " * sqlite://\n",
            "Done.\n"
          ]
        },
        {
          "output_type": "execute_result",
          "data": {
            "text/plain": [
              "[('Henry V', 129),\n",
              " ('A Midsummer Nights Dream', 122),\n",
              " ('Macbeth', 124),\n",
              " ('Romeo and Juliet', 131),\n",
              " ('Othello', 134),\n",
              " ('The Republic', 368),\n",
              " ('Symposium', 96)]"
            ],
            "text/html": [
              "<table>\n",
              "    <thead>\n",
              "        <tr>\n",
              "            <th>title</th>\n",
              "            <th>pages</th>\n",
              "        </tr>\n",
              "    </thead>\n",
              "    <tbody>\n",
              "        <tr>\n",
              "            <td>Henry V</td>\n",
              "            <td>129</td>\n",
              "        </tr>\n",
              "        <tr>\n",
              "            <td>A Midsummer Nights Dream</td>\n",
              "            <td>122</td>\n",
              "        </tr>\n",
              "        <tr>\n",
              "            <td>Macbeth</td>\n",
              "            <td>124</td>\n",
              "        </tr>\n",
              "        <tr>\n",
              "            <td>Romeo and Juliet</td>\n",
              "            <td>131</td>\n",
              "        </tr>\n",
              "        <tr>\n",
              "            <td>Othello</td>\n",
              "            <td>134</td>\n",
              "        </tr>\n",
              "        <tr>\n",
              "            <td>The Republic</td>\n",
              "            <td>368</td>\n",
              "        </tr>\n",
              "        <tr>\n",
              "            <td>Symposium</td>\n",
              "            <td>96</td>\n",
              "        </tr>\n",
              "    </tbody>\n",
              "</table>"
            ]
          },
          "metadata": {},
          "execution_count": 22
        }
      ]
    },
    {
      "cell_type": "code",
      "source": [
        "# An average book has 300 words per page.\n",
        "# Let's create a column the reflects this\n",
        "%%sql \n",
        "SELECT title, pages, \n",
        "  (pages * 300) AS \"Word Count (est.)\" \n",
        "  FROM BOOKS LIMIT 7;"
      ],
      "metadata": {
        "colab": {
          "base_uri": "https://localhost:8080/",
          "height": 221
        },
        "id": "CO8TWPGDToG1",
        "outputId": "3f25e33a-139f-46ff-fa18-a5eccd3a612c"
      },
      "execution_count": 23,
      "outputs": [
        {
          "output_type": "stream",
          "name": "stdout",
          "text": [
            " * sqlite://\n",
            "Done.\n"
          ]
        },
        {
          "output_type": "execute_result",
          "data": {
            "text/plain": [
              "[('Henry V', 129, 38700),\n",
              " ('A Midsummer Nights Dream', 122, 36600),\n",
              " ('Macbeth', 124, 37200),\n",
              " ('Romeo and Juliet', 131, 39300),\n",
              " ('Othello', 134, 40200),\n",
              " ('The Republic', 368, 110400),\n",
              " ('Symposium', 96, 28800)]"
            ],
            "text/html": [
              "<table>\n",
              "    <thead>\n",
              "        <tr>\n",
              "            <th>title</th>\n",
              "            <th>pages</th>\n",
              "            <th>Word Count (est.)</th>\n",
              "        </tr>\n",
              "    </thead>\n",
              "    <tbody>\n",
              "        <tr>\n",
              "            <td>Henry V</td>\n",
              "            <td>129</td>\n",
              "            <td>38700</td>\n",
              "        </tr>\n",
              "        <tr>\n",
              "            <td>A Midsummer Nights Dream</td>\n",
              "            <td>122</td>\n",
              "            <td>36600</td>\n",
              "        </tr>\n",
              "        <tr>\n",
              "            <td>Macbeth</td>\n",
              "            <td>124</td>\n",
              "            <td>37200</td>\n",
              "        </tr>\n",
              "        <tr>\n",
              "            <td>Romeo and Juliet</td>\n",
              "            <td>131</td>\n",
              "            <td>39300</td>\n",
              "        </tr>\n",
              "        <tr>\n",
              "            <td>Othello</td>\n",
              "            <td>134</td>\n",
              "            <td>40200</td>\n",
              "        </tr>\n",
              "        <tr>\n",
              "            <td>The Republic</td>\n",
              "            <td>368</td>\n",
              "            <td>110400</td>\n",
              "        </tr>\n",
              "        <tr>\n",
              "            <td>Symposium</td>\n",
              "            <td>96</td>\n",
              "            <td>28800</td>\n",
              "        </tr>\n",
              "    </tbody>\n",
              "</table>"
            ]
          },
          "metadata": {},
          "execution_count": 23
        }
      ]
    },
    {
      "cell_type": "code",
      "source": [
        "# OK, let's say we read 1 page a minutes.\n",
        "# How many hours and minutes will it take us to read the booK?\n",
        "%%sql \n",
        "SELECT title,  \n",
        "  pages / 60 as \"Hours\",\n",
        "  pages % 60 as \"Minutes\"\n",
        "  FROM Books LIMIT 10;"
      ],
      "metadata": {
        "colab": {
          "base_uri": "https://localhost:8080/",
          "height": 284
        },
        "id": "NNVr8izPT1D6",
        "outputId": "01e2507e-1291-4239-eb61-b3f9a164a4b1"
      },
      "execution_count": 24,
      "outputs": [
        {
          "output_type": "stream",
          "name": "stdout",
          "text": [
            " * sqlite://\n",
            "Done.\n"
          ]
        },
        {
          "output_type": "execute_result",
          "data": {
            "text/plain": [
              "[('Henry V', 2, 9),\n",
              " ('A Midsummer Nights Dream', 2, 2),\n",
              " ('Macbeth', 2, 4),\n",
              " ('Romeo and Juliet', 2, 11),\n",
              " ('Othello', 2, 14),\n",
              " ('The Republic', 6, 8),\n",
              " ('Symposium', 1, 36),\n",
              " ('Middlemarch', 15, 4),\n",
              " ('Silas Marner', 3, 16),\n",
              " ('The Mill on the Floss', 11, 12)]"
            ],
            "text/html": [
              "<table>\n",
              "    <thead>\n",
              "        <tr>\n",
              "            <th>title</th>\n",
              "            <th>Hours</th>\n",
              "            <th>Minutes</th>\n",
              "        </tr>\n",
              "    </thead>\n",
              "    <tbody>\n",
              "        <tr>\n",
              "            <td>Henry V</td>\n",
              "            <td>2</td>\n",
              "            <td>9</td>\n",
              "        </tr>\n",
              "        <tr>\n",
              "            <td>A Midsummer Nights Dream</td>\n",
              "            <td>2</td>\n",
              "            <td>2</td>\n",
              "        </tr>\n",
              "        <tr>\n",
              "            <td>Macbeth</td>\n",
              "            <td>2</td>\n",
              "            <td>4</td>\n",
              "        </tr>\n",
              "        <tr>\n",
              "            <td>Romeo and Juliet</td>\n",
              "            <td>2</td>\n",
              "            <td>11</td>\n",
              "        </tr>\n",
              "        <tr>\n",
              "            <td>Othello</td>\n",
              "            <td>2</td>\n",
              "            <td>14</td>\n",
              "        </tr>\n",
              "        <tr>\n",
              "            <td>The Republic</td>\n",
              "            <td>6</td>\n",
              "            <td>8</td>\n",
              "        </tr>\n",
              "        <tr>\n",
              "            <td>Symposium</td>\n",
              "            <td>1</td>\n",
              "            <td>36</td>\n",
              "        </tr>\n",
              "        <tr>\n",
              "            <td>Middlemarch</td>\n",
              "            <td>15</td>\n",
              "            <td>4</td>\n",
              "        </tr>\n",
              "        <tr>\n",
              "            <td>Silas Marner</td>\n",
              "            <td>3</td>\n",
              "            <td>16</td>\n",
              "        </tr>\n",
              "        <tr>\n",
              "            <td>The Mill on the Floss</td>\n",
              "            <td>11</td>\n",
              "            <td>12</td>\n",
              "        </tr>\n",
              "    </tbody>\n",
              "</table>"
            ]
          },
          "metadata": {},
          "execution_count": 24
        }
      ]
    },
    {
      "cell_type": "markdown",
      "source": [
        "#7. Filtering results with WHERE, BETWEEN, and IS (NOT) NULL\n",
        "So far, we've been focusing on SQL statements of the form SELECT attributes from Table. However, many/most SQL statements will also *filter* these results acccording to whether certain conditions are met. This is where WHERE comes in. For example:\n",
        "\n",
        "\n",
        "```\n",
        "SELECT attribute_list FROM table WHERE conditions\n",
        "```\n",
        "\n",
        "Below, we'll take a look at how this works."
      ],
      "metadata": {
        "id": "PpLWe_i78hnB"
      }
    },
    {
      "cell_type": "code",
      "source": [
        "# Find books in the database published after 2000\n",
        "%%sql\n",
        "SELECT title, publication_date FROM Books\n",
        "  WHERE publication_date > \"2000/1/1\""
      ],
      "metadata": {
        "id": "mMigeDK-UAJN",
        "colab": {
          "base_uri": "https://localhost:8080/",
          "height": 661
        },
        "outputId": "3caefe40-ff84-4754-fadf-c6a3e5804a4f"
      },
      "execution_count": 25,
      "outputs": [
        {
          "output_type": "stream",
          "name": "stdout",
          "text": [
            " * sqlite://\n",
            "Done.\n"
          ]
        },
        {
          "output_type": "execute_result",
          "data": {
            "text/plain": [
              "[('Lyras Oxford', '2003-11-04'),\n",
              " ('Oryx and Crake', '2003-08-05'),\n",
              " ('A Feast for Crows', '2005-10-17'),\n",
              " ('A Dance with Dragons', '2011-07-12'),\n",
              " ('American Gods', '2001-06-26'),\n",
              " ('Anansi Boys', '2005-09-20'),\n",
              " ('Coraline', '2002-05-27'),\n",
              " ('The Graveyard Book', '2008-09-30'),\n",
              " ('Expecting better', '2013-01-01'),\n",
              " ('Looking for Alaska', '2005-03-01'),\n",
              " ('Paper Towns', '2008-10-16'),\n",
              " ('Will Grayson, Will Grayson', '2010-04-06'),\n",
              " ('The Fault in Our Stars', '2012-01-10'),\n",
              " ('An Abundance of Katherines', '2006-09-21'),\n",
              " ('The Dark Tower: The Wind Through the Keyhole', '2012-04-24'),\n",
              " ('The Dark Tower V: Wolves of the Calla', '2003-11-05'),\n",
              " ('The Dark Tower VI: Song of Susannah', '2004-06-03'),\n",
              " ('The Dark Tower VII: The Dark Tower', '2004-09-04'),\n",
              " ('Uprooted', '2015-05-19'),\n",
              " ('Spinning Silver', '2018-07-10'),\n",
              " ('The Temeraire Series', '2007-04-24'),\n",
              " ('Victory of Eagles', '2008-04-15'),\n",
              " ('The Hunger Games', '2008-09-14'),\n",
              " ('Catching Fire', '2009-09-01'),\n",
              " ('Mockingjay', '2010-08-24'),\n",
              " ('The Ballad of Songbirds and Snakes', '2020-05-19'),\n",
              " ('Gregor the Overlander', '2003-08-01'),\n",
              " ('The Wandering Hill', '2004-01-01')]"
            ],
            "text/html": [
              "<table>\n",
              "    <thead>\n",
              "        <tr>\n",
              "            <th>title</th>\n",
              "            <th>publication_date</th>\n",
              "        </tr>\n",
              "    </thead>\n",
              "    <tbody>\n",
              "        <tr>\n",
              "            <td>Lyras Oxford</td>\n",
              "            <td>2003-11-04</td>\n",
              "        </tr>\n",
              "        <tr>\n",
              "            <td>Oryx and Crake</td>\n",
              "            <td>2003-08-05</td>\n",
              "        </tr>\n",
              "        <tr>\n",
              "            <td>A Feast for Crows</td>\n",
              "            <td>2005-10-17</td>\n",
              "        </tr>\n",
              "        <tr>\n",
              "            <td>A Dance with Dragons</td>\n",
              "            <td>2011-07-12</td>\n",
              "        </tr>\n",
              "        <tr>\n",
              "            <td>American Gods</td>\n",
              "            <td>2001-06-26</td>\n",
              "        </tr>\n",
              "        <tr>\n",
              "            <td>Anansi Boys</td>\n",
              "            <td>2005-09-20</td>\n",
              "        </tr>\n",
              "        <tr>\n",
              "            <td>Coraline</td>\n",
              "            <td>2002-05-27</td>\n",
              "        </tr>\n",
              "        <tr>\n",
              "            <td>The Graveyard Book</td>\n",
              "            <td>2008-09-30</td>\n",
              "        </tr>\n",
              "        <tr>\n",
              "            <td>Expecting better</td>\n",
              "            <td>2013-01-01</td>\n",
              "        </tr>\n",
              "        <tr>\n",
              "            <td>Looking for Alaska</td>\n",
              "            <td>2005-03-01</td>\n",
              "        </tr>\n",
              "        <tr>\n",
              "            <td>Paper Towns</td>\n",
              "            <td>2008-10-16</td>\n",
              "        </tr>\n",
              "        <tr>\n",
              "            <td>Will Grayson, Will Grayson</td>\n",
              "            <td>2010-04-06</td>\n",
              "        </tr>\n",
              "        <tr>\n",
              "            <td>The Fault in Our Stars</td>\n",
              "            <td>2012-01-10</td>\n",
              "        </tr>\n",
              "        <tr>\n",
              "            <td>An Abundance of Katherines</td>\n",
              "            <td>2006-09-21</td>\n",
              "        </tr>\n",
              "        <tr>\n",
              "            <td>The Dark Tower: The Wind Through the Keyhole</td>\n",
              "            <td>2012-04-24</td>\n",
              "        </tr>\n",
              "        <tr>\n",
              "            <td>The Dark Tower V: Wolves of the Calla</td>\n",
              "            <td>2003-11-05</td>\n",
              "        </tr>\n",
              "        <tr>\n",
              "            <td>The Dark Tower VI: Song of Susannah</td>\n",
              "            <td>2004-06-03</td>\n",
              "        </tr>\n",
              "        <tr>\n",
              "            <td>The Dark Tower VII: The Dark Tower</td>\n",
              "            <td>2004-09-04</td>\n",
              "        </tr>\n",
              "        <tr>\n",
              "            <td>Uprooted</td>\n",
              "            <td>2015-05-19</td>\n",
              "        </tr>\n",
              "        <tr>\n",
              "            <td>Spinning Silver</td>\n",
              "            <td>2018-07-10</td>\n",
              "        </tr>\n",
              "        <tr>\n",
              "            <td>The Temeraire Series</td>\n",
              "            <td>2007-04-24</td>\n",
              "        </tr>\n",
              "        <tr>\n",
              "            <td>Victory of Eagles</td>\n",
              "            <td>2008-04-15</td>\n",
              "        </tr>\n",
              "        <tr>\n",
              "            <td>The Hunger Games</td>\n",
              "            <td>2008-09-14</td>\n",
              "        </tr>\n",
              "        <tr>\n",
              "            <td>Catching Fire</td>\n",
              "            <td>2009-09-01</td>\n",
              "        </tr>\n",
              "        <tr>\n",
              "            <td>Mockingjay</td>\n",
              "            <td>2010-08-24</td>\n",
              "        </tr>\n",
              "        <tr>\n",
              "            <td>The Ballad of Songbirds and Snakes</td>\n",
              "            <td>2020-05-19</td>\n",
              "        </tr>\n",
              "        <tr>\n",
              "            <td>Gregor the Overlander</td>\n",
              "            <td>2003-08-01</td>\n",
              "        </tr>\n",
              "        <tr>\n",
              "            <td>The Wandering Hill</td>\n",
              "            <td>2004-01-01</td>\n",
              "        </tr>\n",
              "    </tbody>\n",
              "</table>"
            ]
          },
          "metadata": {},
          "execution_count": 25
        }
      ]
    },
    {
      "cell_type": "code",
      "source": [
        "# How many authors were born in English\n",
        "%%sql\n",
        "SELECT COUNT(*) AS \"Number of English Authors\" FROM Authors\n",
        "  WHERE nationality = \"ENG\""
      ],
      "metadata": {
        "colab": {
          "base_uri": "https://localhost:8080/",
          "height": 95
        },
        "id": "0glVoLFK91P7",
        "outputId": "a57f4a76-b131-4287-a27e-a76b66288d3e"
      },
      "execution_count": 26,
      "outputs": [
        {
          "output_type": "stream",
          "name": "stdout",
          "text": [
            " * sqlite://\n",
            "Done.\n"
          ]
        },
        {
          "output_type": "execute_result",
          "data": {
            "text/plain": [
              "[(11,)]"
            ],
            "text/html": [
              "<table>\n",
              "    <thead>\n",
              "        <tr>\n",
              "            <th>Number of English Authors</th>\n",
              "        </tr>\n",
              "    </thead>\n",
              "    <tbody>\n",
              "        <tr>\n",
              "            <td>11</td>\n",
              "        </tr>\n",
              "    </tbody>\n",
              "</table>"
            ]
          },
          "metadata": {},
          "execution_count": 26
        }
      ]
    },
    {
      "cell_type": "code",
      "source": [
        "# Or, we could get books with between 100 and 200 pages\n",
        "# and order them by page count\n",
        "%%sql \n",
        "SELECT title, pages FROM Books\n",
        "  WHERE pages BETWEEN 100 AND 200\n",
        "  ORDER BY pages ASC\n",
        "  LIMIT 5"
      ],
      "metadata": {
        "colab": {
          "base_uri": "https://localhost:8080/",
          "height": 179
        },
        "id": "kBzZnJu__FYO",
        "outputId": "57bcc01d-0919-4b75-e18a-28a422c3b5b9"
      },
      "execution_count": 39,
      "outputs": [
        {
          "output_type": "stream",
          "name": "stdout",
          "text": [
            " * sqlite://\n",
            "Done.\n"
          ]
        },
        {
          "output_type": "execute_result",
          "data": {
            "text/plain": [
              "[('On Computable Numbers', 112),\n",
              " ('Computing machinery and intelligence', 117),\n",
              " ('A Midsummer Nights Dream', 122),\n",
              " ('Macbeth', 124),\n",
              " ('Animal Farm', 128)]"
            ],
            "text/html": [
              "<table>\n",
              "    <thead>\n",
              "        <tr>\n",
              "            <th>title</th>\n",
              "            <th>pages</th>\n",
              "        </tr>\n",
              "    </thead>\n",
              "    <tbody>\n",
              "        <tr>\n",
              "            <td>On Computable Numbers</td>\n",
              "            <td>112</td>\n",
              "        </tr>\n",
              "        <tr>\n",
              "            <td>Computing machinery and intelligence</td>\n",
              "            <td>117</td>\n",
              "        </tr>\n",
              "        <tr>\n",
              "            <td>A Midsummer Nights Dream</td>\n",
              "            <td>122</td>\n",
              "        </tr>\n",
              "        <tr>\n",
              "            <td>Macbeth</td>\n",
              "            <td>124</td>\n",
              "        </tr>\n",
              "        <tr>\n",
              "            <td>Animal Farm</td>\n",
              "            <td>128</td>\n",
              "        </tr>\n",
              "    </tbody>\n",
              "</table>"
            ]
          },
          "metadata": {},
          "execution_count": 39
        }
      ]
    },
    {
      "cell_type": "code",
      "source": [
        "# Finally, we can select just those rows have (or do not have) \n",
        "# NULL values for particular rows\n",
        "%%sql\n",
        "SELECT name as \"Living Authors\" \n",
        "  FROM Authors \n",
        "  WHERE date_of_death IS NULL \n",
        "  LIMIT 5;"
      ],
      "metadata": {
        "id": "BmZFoY56Ain5",
        "colab": {
          "base_uri": "https://localhost:8080/",
          "height": 179
        },
        "outputId": "7aa1fbe4-d69f-4bec-cf96-188a6f019a6a"
      },
      "execution_count": 28,
      "outputs": [
        {
          "output_type": "stream",
          "name": "stdout",
          "text": [
            " * sqlite://\n",
            "Done.\n"
          ]
        },
        {
          "output_type": "execute_result",
          "data": {
            "text/plain": [
              "[('Kazuo Ishiguro',),\n",
              " ('JK Rowling',),\n",
              " ('Margaret Atwood',),\n",
              " ('Neil Gaiman',),\n",
              " ('George RR Martin',)]"
            ],
            "text/html": [
              "<table>\n",
              "    <thead>\n",
              "        <tr>\n",
              "            <th>Living Authors</th>\n",
              "        </tr>\n",
              "    </thead>\n",
              "    <tbody>\n",
              "        <tr>\n",
              "            <td>Kazuo Ishiguro</td>\n",
              "        </tr>\n",
              "        <tr>\n",
              "            <td>JK Rowling</td>\n",
              "        </tr>\n",
              "        <tr>\n",
              "            <td>Margaret Atwood</td>\n",
              "        </tr>\n",
              "        <tr>\n",
              "            <td>Neil Gaiman</td>\n",
              "        </tr>\n",
              "        <tr>\n",
              "            <td>George RR Martin</td>\n",
              "        </tr>\n",
              "    </tbody>\n",
              "</table>"
            ]
          },
          "metadata": {},
          "execution_count": 28
        }
      ]
    },
    {
      "cell_type": "markdown",
      "source": [
        "# 7. Searching text with LIKE and %\n",
        "The LIKE operator (often used with a the %, which functions as a sort of \"wildcard\") allows us to search within a text field. It works as follows:\n",
        "\n",
        "\n",
        "```\n",
        "# returns rows where attribute begins with 'a'.\n",
        "SELECT ... WHERE attribute LIKE 'a%'\n",
        "\n",
        "# match strings ending with 'a'.\n",
        "SELECT ... WHERE attribute LIKE '%a' \n",
        "\n",
        "# match strings with 'a' anywhere\n",
        "SELECT ... WHERE attribute LIKE '%a%'\n",
        "```\n",
        "\n",
        "As you can see, we control the way LIKE searches by varying our placement of %. We can search at the beginning of a string, at the end, or anywhere in between. Let's move on to some examples.\n",
        "\n",
        "\n",
        "\n",
        "\n",
        "\n",
        "\n"
      ],
      "metadata": {
        "id": "35rpotVZnBUO"
      }
    },
    {
      "cell_type": "code",
      "source": [
        "# For example, let's find books that start with the string\"The Dark Tower\"\n",
        "%sql SELECT book_id, title, publication_date FROM Books WHERE Title LIKE \"The Dark Tower%\";"
      ],
      "metadata": {
        "id": "ltYwqcJF-lzt",
        "colab": {
          "base_uri": "https://localhost:8080/",
          "height": 242
        },
        "outputId": "eda923aa-2ae7-4033-ad80-0d51e95301d7"
      },
      "execution_count": 29,
      "outputs": [
        {
          "output_type": "stream",
          "name": "stdout",
          "text": [
            " * sqlite://\n",
            "Done.\n"
          ]
        },
        {
          "output_type": "execute_result",
          "data": {
            "text/plain": [
              "[(135, 'The Dark Tower I: The Gunslinger', '1982-10-01'),\n",
              " (138, 'The Dark Tower II: The Drawing of the Three', '1987-05-01'),\n",
              " (139, 'The Dark Tower III: The Waste Lands', '1991-10-01'),\n",
              " (140, 'The Dark Tower IV: Wizard and Glass', '1997-10-01'),\n",
              " (141, 'The Dark Tower: The Wind Through the Keyhole', '2012-04-24'),\n",
              " (142, 'The Dark Tower V: Wolves of the Calla', '2003-11-05'),\n",
              " (143, 'The Dark Tower VI: Song of Susannah', '2004-06-03'),\n",
              " (144, 'The Dark Tower VII: The Dark Tower', '2004-09-04')]"
            ],
            "text/html": [
              "<table>\n",
              "    <thead>\n",
              "        <tr>\n",
              "            <th>book_id</th>\n",
              "            <th>title</th>\n",
              "            <th>publication_date</th>\n",
              "        </tr>\n",
              "    </thead>\n",
              "    <tbody>\n",
              "        <tr>\n",
              "            <td>135</td>\n",
              "            <td>The Dark Tower I: The Gunslinger</td>\n",
              "            <td>1982-10-01</td>\n",
              "        </tr>\n",
              "        <tr>\n",
              "            <td>138</td>\n",
              "            <td>The Dark Tower II: The Drawing of the Three</td>\n",
              "            <td>1987-05-01</td>\n",
              "        </tr>\n",
              "        <tr>\n",
              "            <td>139</td>\n",
              "            <td>The Dark Tower III: The Waste Lands</td>\n",
              "            <td>1991-10-01</td>\n",
              "        </tr>\n",
              "        <tr>\n",
              "            <td>140</td>\n",
              "            <td>The Dark Tower IV: Wizard and Glass</td>\n",
              "            <td>1997-10-01</td>\n",
              "        </tr>\n",
              "        <tr>\n",
              "            <td>141</td>\n",
              "            <td>The Dark Tower: The Wind Through the Keyhole</td>\n",
              "            <td>2012-04-24</td>\n",
              "        </tr>\n",
              "        <tr>\n",
              "            <td>142</td>\n",
              "            <td>The Dark Tower V: Wolves of the Calla</td>\n",
              "            <td>2003-11-05</td>\n",
              "        </tr>\n",
              "        <tr>\n",
              "            <td>143</td>\n",
              "            <td>The Dark Tower VI: Song of Susannah</td>\n",
              "            <td>2004-06-03</td>\n",
              "        </tr>\n",
              "        <tr>\n",
              "            <td>144</td>\n",
              "            <td>The Dark Tower VII: The Dark Tower</td>\n",
              "            <td>2004-09-04</td>\n",
              "        </tr>\n",
              "    </tbody>\n",
              "</table>"
            ]
          },
          "metadata": {},
          "execution_count": 29
        }
      ]
    },
    {
      "cell_type": "code",
      "source": [
        "# Or, we could find \"famous quotes\" that included \"money\"\n",
        "%%sql \n",
        "\n",
        "SELECT name, famous_quote \n",
        "  FROM Authors \n",
        "  WHERE famous_quote LIKE \"%money%\";"
      ],
      "metadata": {
        "colab": {
          "base_uri": "https://localhost:8080/",
          "height": 116
        },
        "id": "bNh5SqGOo0p2",
        "outputId": "fea61e56-f10a-4c11-8e9a-1c98b4fd7fab"
      },
      "execution_count": 30,
      "outputs": [
        {
          "output_type": "stream",
          "name": "stdout",
          "text": [
            " * sqlite://\n",
            "Done.\n"
          ]
        },
        {
          "output_type": "execute_result",
          "data": {
            "text/plain": [
              "[('Kurt Vonnegut', 'Yes, we are doomed, doomed to spend our lives living in tall towers and making money and not caring about anybody or anything.'),\n",
              " ('Robert Lowell', 'There is no money in poetry, but then there is no poetry in money, either.')]"
            ],
            "text/html": [
              "<table>\n",
              "    <thead>\n",
              "        <tr>\n",
              "            <th>name</th>\n",
              "            <th>famous_quote</th>\n",
              "        </tr>\n",
              "    </thead>\n",
              "    <tbody>\n",
              "        <tr>\n",
              "            <td>Kurt Vonnegut</td>\n",
              "            <td>Yes, we are doomed, doomed to spend our lives living in tall towers and making money and not caring about anybody or anything.</td>\n",
              "        </tr>\n",
              "        <tr>\n",
              "            <td>Robert Lowell</td>\n",
              "            <td>There is no money in poetry, but then there is no poetry in money, either.</td>\n",
              "        </tr>\n",
              "    </tbody>\n",
              "</table>"
            ]
          },
          "metadata": {},
          "execution_count": 30
        }
      ]
    },
    {
      "cell_type": "markdown",
      "source": [
        "#8. Compound Conditions With OR, NOT, and AND\n",
        "\n",
        "We can also use logical operators like OR, AND, and NOT to put together different conditions in the WHERE clause."
      ],
      "metadata": {
        "id": "ReUs5VWYppiG"
      }
    },
    {
      "cell_type": "code",
      "source": [
        "# Let's find out how many books have more than 400 pages\n",
        "# AND have ratings of over 4.0\n",
        "%%sql\n",
        "\n",
        "SELECT COUNT(*) FROM BOOKS\n",
        "  WHERE pages > 400 AND avg_stars > 4.0;\n"
      ],
      "metadata": {
        "colab": {
          "base_uri": "https://localhost:8080/",
          "height": 95
        },
        "id": "kRTqYtCtpjfE",
        "outputId": "bb3334b0-318b-4fac-c900-c4af0b32e368"
      },
      "execution_count": null,
      "outputs": [
        {
          "output_type": "stream",
          "name": "stdout",
          "text": [
            " * sqlite://\n",
            "Done.\n"
          ]
        },
        {
          "output_type": "execute_result",
          "data": {
            "text/plain": [
              "[(38,)]"
            ],
            "text/html": [
              "<table>\n",
              "    <thead>\n",
              "        <tr>\n",
              "            <th>COUNT(*)</th>\n",
              "        </tr>\n",
              "    </thead>\n",
              "    <tbody>\n",
              "        <tr>\n",
              "            <td>38</td>\n",
              "        </tr>\n",
              "    </tbody>\n",
              "</table>"
            ]
          },
          "metadata": {},
          "execution_count": 31
        }
      ]
    },
    {
      "cell_type": "code",
      "source": [
        "# Now, let's look for authors whose name starts with an \"A\", \"B\", or \"C\"\n",
        "%%sql \n",
        "\n",
        "SELECT name\n",
        "  FROM Authors \n",
        "  WHERE name LIKE \"A%\"\n",
        "    OR name LIKE \"B%\"\n",
        "    OR name LIKE \"C%\";"
      ],
      "metadata": {
        "colab": {
          "base_uri": "https://localhost:8080/",
          "height": 179
        },
        "id": "Q3AHf6ySqe4U",
        "outputId": "861e0de3-65ba-49a3-ca75-9badfa63e7d7"
      },
      "execution_count": 32,
      "outputs": [
        {
          "output_type": "stream",
          "name": "stdout",
          "text": [
            " * sqlite://\n",
            "Done.\n"
          ]
        },
        {
          "output_type": "execute_result",
          "data": {
            "text/plain": [
              "[('Alan Turing',),\n",
              " ('Albert Camus',),\n",
              " ('Charles Baudelaire',),\n",
              " ('Charles Dickens',),\n",
              " ('Chinua Achebe',)]"
            ],
            "text/html": [
              "<table>\n",
              "    <thead>\n",
              "        <tr>\n",
              "            <th>name</th>\n",
              "        </tr>\n",
              "    </thead>\n",
              "    <tbody>\n",
              "        <tr>\n",
              "            <td>Alan Turing</td>\n",
              "        </tr>\n",
              "        <tr>\n",
              "            <td>Albert Camus</td>\n",
              "        </tr>\n",
              "        <tr>\n",
              "            <td>Charles Baudelaire</td>\n",
              "        </tr>\n",
              "        <tr>\n",
              "            <td>Charles Dickens</td>\n",
              "        </tr>\n",
              "        <tr>\n",
              "            <td>Chinua Achebe</td>\n",
              "        </tr>\n",
              "    </tbody>\n",
              "</table>"
            ]
          },
          "metadata": {},
          "execution_count": 32
        }
      ]
    },
    {
      "cell_type": "code",
      "source": [
        "# Let's retrieve the books without the word \"the\"\n",
        "# anywhere is the title\n",
        "\n",
        "%%sql\n",
        "SELECT title FROM BOOKS\n",
        "  WHERE title NOT LIKE \"%the%\"\n",
        "  LIMIT 5;"
      ],
      "metadata": {
        "id": "iQxB9FvKql16",
        "colab": {
          "base_uri": "https://localhost:8080/",
          "height": 179
        },
        "outputId": "53ea65f5-1c9b-4371-837b-a5e6979f2ac3"
      },
      "execution_count": 40,
      "outputs": [
        {
          "output_type": "stream",
          "name": "stdout",
          "text": [
            " * sqlite://\n",
            "Done.\n"
          ]
        },
        {
          "output_type": "execute_result",
          "data": {
            "text/plain": [
              "[(' Falling Free',),\n",
              " ('1984',),\n",
              " ('A Clash of Kings',),\n",
              " ('A Dance with Dragons',),\n",
              " ('A Feast for Crows',)]"
            ],
            "text/html": [
              "<table>\n",
              "    <thead>\n",
              "        <tr>\n",
              "            <th>title</th>\n",
              "        </tr>\n",
              "    </thead>\n",
              "    <tbody>\n",
              "        <tr>\n",
              "            <td> Falling Free</td>\n",
              "        </tr>\n",
              "        <tr>\n",
              "            <td>1984</td>\n",
              "        </tr>\n",
              "        <tr>\n",
              "            <td>A Clash of Kings</td>\n",
              "        </tr>\n",
              "        <tr>\n",
              "            <td>A Dance with Dragons</td>\n",
              "        </tr>\n",
              "        <tr>\n",
              "            <td>A Feast for Crows</td>\n",
              "        </tr>\n",
              "    </tbody>\n",
              "</table>"
            ]
          },
          "metadata": {},
          "execution_count": 40
        }
      ]
    },
    {
      "cell_type": "code",
      "source": [
        "# Finally, let's put it all together. Let's retrieve:\n",
        "# A list of women authors who are either still living\n",
        "# or died after 1900\n",
        "\n",
        "%%sql\n",
        "SELECT name, date_of_death FROM Authors\n",
        "  WHERE gender = \"F\" AND \n",
        "  (date_of_death IS NULL OR\n",
        "  date_of_death > \"1900/1/1\")\n"
      ],
      "metadata": {
        "colab": {
          "base_uri": "https://localhost:8080/",
          "height": 326
        },
        "id": "xjc-1AwY7aky",
        "outputId": "f58e1fd3-554c-4d6d-fa8e-cb93d74194a6"
      },
      "execution_count": 44,
      "outputs": [
        {
          "output_type": "stream",
          "name": "stdout",
          "text": [
            " * sqlite://\n",
            "Done.\n"
          ]
        },
        {
          "output_type": "execute_result",
          "data": {
            "text/plain": [
              "[('JK Rowling', None),\n",
              " ('Margaret Atwood', None),\n",
              " ('Ursula Le Guin', None),\n",
              " ('Octavia Butler', '2006-02-24'),\n",
              " ('Lois McMaster Bujold', None),\n",
              " ('Judy Blume', None),\n",
              " ('Jo Walton', None),\n",
              " ('Emily Oster', None),\n",
              " ('Sylvia Plath', '1963-02-11'),\n",
              " ('Naomi Novik', None),\n",
              " ('Suzanne Collins', None),\n",
              " ('Hannah Arendt', '1975-12-04')]"
            ],
            "text/html": [
              "<table>\n",
              "    <thead>\n",
              "        <tr>\n",
              "            <th>name</th>\n",
              "            <th>date_of_death</th>\n",
              "        </tr>\n",
              "    </thead>\n",
              "    <tbody>\n",
              "        <tr>\n",
              "            <td>JK Rowling</td>\n",
              "            <td>None</td>\n",
              "        </tr>\n",
              "        <tr>\n",
              "            <td>Margaret Atwood</td>\n",
              "            <td>None</td>\n",
              "        </tr>\n",
              "        <tr>\n",
              "            <td>Ursula Le Guin</td>\n",
              "            <td>None</td>\n",
              "        </tr>\n",
              "        <tr>\n",
              "            <td>Octavia Butler</td>\n",
              "            <td>2006-02-24</td>\n",
              "        </tr>\n",
              "        <tr>\n",
              "            <td>Lois McMaster Bujold</td>\n",
              "            <td>None</td>\n",
              "        </tr>\n",
              "        <tr>\n",
              "            <td>Judy Blume</td>\n",
              "            <td>None</td>\n",
              "        </tr>\n",
              "        <tr>\n",
              "            <td>Jo Walton</td>\n",
              "            <td>None</td>\n",
              "        </tr>\n",
              "        <tr>\n",
              "            <td>Emily Oster</td>\n",
              "            <td>None</td>\n",
              "        </tr>\n",
              "        <tr>\n",
              "            <td>Sylvia Plath</td>\n",
              "            <td>1963-02-11</td>\n",
              "        </tr>\n",
              "        <tr>\n",
              "            <td>Naomi Novik</td>\n",
              "            <td>None</td>\n",
              "        </tr>\n",
              "        <tr>\n",
              "            <td>Suzanne Collins</td>\n",
              "            <td>None</td>\n",
              "        </tr>\n",
              "        <tr>\n",
              "            <td>Hannah Arendt</td>\n",
              "            <td>1975-12-04</td>\n",
              "        </tr>\n",
              "    </tbody>\n",
              "</table>"
            ]
          },
          "metadata": {},
          "execution_count": 44
        }
      ]
    },
    {
      "cell_type": "markdown",
      "source": [
        "#9. Tables JOINs and table aliases\n",
        "Finally we can JOIN our tables together, using shared attributes. The general stucture is as follows:\n",
        "\n",
        "```\n",
        "SELECT a,b,c FROM table1 JOIN table2\n",
        "  ON table1.attribute_name = table2.attribute_name\n",
        "```\n",
        "If table1 and table2 have an attribute with the exact same name, we can do it even more simply, like this:\n",
        "\n",
        "\n",
        "\n",
        "```\n",
        "SELECT a,b,c FROM table1 NATURAL JOIN table2\n",
        "```\n",
        "\n",
        "\n"
      ],
      "metadata": {
        "id": "S9GaMWWormwk"
      }
    },
    {
      "cell_type": "code",
      "source": [
        "%%sql\n",
        "\n",
        "SELECT * FROM Books JOIN Authors \n",
        "  ON Books.author_id = Authors.author_id \n",
        "  LIMIT 5;\n"
      ],
      "metadata": {
        "id": "0uJpQc9YrYrQ",
        "colab": {
          "base_uri": "https://localhost:8080/",
          "height": 353
        },
        "outputId": "98914356-4600-45a9-f7a6-454f6ef5d454"
      },
      "execution_count": 49,
      "outputs": [
        {
          "output_type": "stream",
          "name": "stdout",
          "text": [
            " * sqlite://\n",
            "Done.\n"
          ]
        },
        {
          "output_type": "execute_result",
          "data": {
            "text/plain": [
              "[(1, 'Henry V', '1599-10-15', 'Comedy, Drama, Historic', 129, 10.3, 4.38, 260408, 1, 1, 'William Shakespeare', 'ENG', 'To thine own self be true', '1564-04-26', '1616-04-23', 'M'),\n",
              " (2, 'A Midsummer Nights Dream', '1596-08-15', 'Comedy, Drama, Fantasy', 122, 10.1, 4.18, 121418, 1, 1, 'William Shakespeare', 'ENG', 'To thine own self be true', '1564-04-26', '1616-04-23', 'M'),\n",
              " (3, 'Macbeth', '1605-11-10', 'Comedy, Drama, Historic', 124, 9.9, 4.05, 220128, 1, 1, 'William Shakespeare', 'ENG', 'To thine own self be true', '1564-04-26', '1616-04-23', 'M'),\n",
              " (4, 'Romeo and Juliet', '1597-02-14', 'Comedy, Drama, Historic', 131, 9.9, 4.15, 250953, 1, 1, 'William Shakespeare', 'ENG', 'To thine own self be true', '1564-04-26', '1616-04-23', 'M'),\n",
              " (5, 'Othello', '1604-08-10', 'Comedy, Drama, Historic', 134, 9.8, 4.08, 206659, 1, 1, 'William Shakespeare', 'ENG', 'To thine own self be true', '1564-04-26', '1616-04-23', 'M')]"
            ],
            "text/html": [
              "<table>\n",
              "    <thead>\n",
              "        <tr>\n",
              "            <th>book_id</th>\n",
              "            <th>title</th>\n",
              "            <th>publication_date</th>\n",
              "            <th>genres</th>\n",
              "            <th>pages</th>\n",
              "            <th>reading_grade_level</th>\n",
              "            <th>avg_stars</th>\n",
              "            <th>num_reviews</th>\n",
              "            <th>author_id</th>\n",
              "            <th>author_id_1</th>\n",
              "            <th>name</th>\n",
              "            <th>nationality</th>\n",
              "            <th>famous_quote</th>\n",
              "            <th>date_of_birth</th>\n",
              "            <th>date_of_death</th>\n",
              "            <th>gender</th>\n",
              "        </tr>\n",
              "    </thead>\n",
              "    <tbody>\n",
              "        <tr>\n",
              "            <td>1</td>\n",
              "            <td>Henry V</td>\n",
              "            <td>1599-10-15</td>\n",
              "            <td>Comedy, Drama, Historic</td>\n",
              "            <td>129</td>\n",
              "            <td>10.3</td>\n",
              "            <td>4.38</td>\n",
              "            <td>260408</td>\n",
              "            <td>1</td>\n",
              "            <td>1</td>\n",
              "            <td>William Shakespeare</td>\n",
              "            <td>ENG</td>\n",
              "            <td>To thine own self be true</td>\n",
              "            <td>1564-04-26</td>\n",
              "            <td>1616-04-23</td>\n",
              "            <td>M</td>\n",
              "        </tr>\n",
              "        <tr>\n",
              "            <td>2</td>\n",
              "            <td>A Midsummer Nights Dream</td>\n",
              "            <td>1596-08-15</td>\n",
              "            <td>Comedy, Drama, Fantasy</td>\n",
              "            <td>122</td>\n",
              "            <td>10.1</td>\n",
              "            <td>4.18</td>\n",
              "            <td>121418</td>\n",
              "            <td>1</td>\n",
              "            <td>1</td>\n",
              "            <td>William Shakespeare</td>\n",
              "            <td>ENG</td>\n",
              "            <td>To thine own self be true</td>\n",
              "            <td>1564-04-26</td>\n",
              "            <td>1616-04-23</td>\n",
              "            <td>M</td>\n",
              "        </tr>\n",
              "        <tr>\n",
              "            <td>3</td>\n",
              "            <td>Macbeth</td>\n",
              "            <td>1605-11-10</td>\n",
              "            <td>Comedy, Drama, Historic</td>\n",
              "            <td>124</td>\n",
              "            <td>9.9</td>\n",
              "            <td>4.05</td>\n",
              "            <td>220128</td>\n",
              "            <td>1</td>\n",
              "            <td>1</td>\n",
              "            <td>William Shakespeare</td>\n",
              "            <td>ENG</td>\n",
              "            <td>To thine own self be true</td>\n",
              "            <td>1564-04-26</td>\n",
              "            <td>1616-04-23</td>\n",
              "            <td>M</td>\n",
              "        </tr>\n",
              "        <tr>\n",
              "            <td>4</td>\n",
              "            <td>Romeo and Juliet</td>\n",
              "            <td>1597-02-14</td>\n",
              "            <td>Comedy, Drama, Historic</td>\n",
              "            <td>131</td>\n",
              "            <td>9.9</td>\n",
              "            <td>4.15</td>\n",
              "            <td>250953</td>\n",
              "            <td>1</td>\n",
              "            <td>1</td>\n",
              "            <td>William Shakespeare</td>\n",
              "            <td>ENG</td>\n",
              "            <td>To thine own self be true</td>\n",
              "            <td>1564-04-26</td>\n",
              "            <td>1616-04-23</td>\n",
              "            <td>M</td>\n",
              "        </tr>\n",
              "        <tr>\n",
              "            <td>5</td>\n",
              "            <td>Othello</td>\n",
              "            <td>1604-08-10</td>\n",
              "            <td>Comedy, Drama, Historic</td>\n",
              "            <td>134</td>\n",
              "            <td>9.8</td>\n",
              "            <td>4.08</td>\n",
              "            <td>206659</td>\n",
              "            <td>1</td>\n",
              "            <td>1</td>\n",
              "            <td>William Shakespeare</td>\n",
              "            <td>ENG</td>\n",
              "            <td>To thine own self be true</td>\n",
              "            <td>1564-04-26</td>\n",
              "            <td>1616-04-23</td>\n",
              "            <td>M</td>\n",
              "        </tr>\n",
              "    </tbody>\n",
              "</table>"
            ]
          },
          "metadata": {},
          "execution_count": 49
        }
      ]
    },
    {
      "cell_type": "code",
      "source": [
        "# We can actually use a natural join in this case.\n",
        "# Let's also limit the number of columns that we return\n",
        "# Notice how we reference columns in the two tables\n",
        "\n",
        "%%sql\n",
        "SELECT Authors.name, Books.title \n",
        "  FROM Authors NATURAL JOIN Books\n",
        "  LIMIT 10;\n"
      ],
      "metadata": {
        "id": "ES6L0fWnsyTZ",
        "colab": {
          "base_uri": "https://localhost:8080/",
          "height": 284
        },
        "outputId": "04635f56-69ea-4d95-ab2b-4408b0cef8b9"
      },
      "execution_count": 50,
      "outputs": [
        {
          "output_type": "stream",
          "name": "stdout",
          "text": [
            " * sqlite://\n",
            "Done.\n"
          ]
        },
        {
          "output_type": "execute_result",
          "data": {
            "text/plain": [
              "[('William Shakespeare', 'Henry V'),\n",
              " ('William Shakespeare', 'A Midsummer Nights Dream'),\n",
              " ('William Shakespeare', 'Macbeth'),\n",
              " ('William Shakespeare', 'Romeo and Juliet'),\n",
              " ('William Shakespeare', 'Othello'),\n",
              " ('Plato', 'The Republic'),\n",
              " ('Plato', 'Symposium'),\n",
              " ('George Eliot', 'Middlemarch'),\n",
              " ('George Eliot', 'Silas Marner'),\n",
              " ('George Eliot', 'The Mill on the Floss')]"
            ],
            "text/html": [
              "<table>\n",
              "    <thead>\n",
              "        <tr>\n",
              "            <th>name</th>\n",
              "            <th>title</th>\n",
              "        </tr>\n",
              "    </thead>\n",
              "    <tbody>\n",
              "        <tr>\n",
              "            <td>William Shakespeare</td>\n",
              "            <td>Henry V</td>\n",
              "        </tr>\n",
              "        <tr>\n",
              "            <td>William Shakespeare</td>\n",
              "            <td>A Midsummer Nights Dream</td>\n",
              "        </tr>\n",
              "        <tr>\n",
              "            <td>William Shakespeare</td>\n",
              "            <td>Macbeth</td>\n",
              "        </tr>\n",
              "        <tr>\n",
              "            <td>William Shakespeare</td>\n",
              "            <td>Romeo and Juliet</td>\n",
              "        </tr>\n",
              "        <tr>\n",
              "            <td>William Shakespeare</td>\n",
              "            <td>Othello</td>\n",
              "        </tr>\n",
              "        <tr>\n",
              "            <td>Plato</td>\n",
              "            <td>The Republic</td>\n",
              "        </tr>\n",
              "        <tr>\n",
              "            <td>Plato</td>\n",
              "            <td>Symposium</td>\n",
              "        </tr>\n",
              "        <tr>\n",
              "            <td>George Eliot</td>\n",
              "            <td>Middlemarch</td>\n",
              "        </tr>\n",
              "        <tr>\n",
              "            <td>George Eliot</td>\n",
              "            <td>Silas Marner</td>\n",
              "        </tr>\n",
              "        <tr>\n",
              "            <td>George Eliot</td>\n",
              "            <td>The Mill on the Floss</td>\n",
              "        </tr>\n",
              "    </tbody>\n",
              "</table>"
            ]
          },
          "metadata": {},
          "execution_count": 50
        }
      ]
    },
    {
      "cell_type": "code",
      "source": [
        "# Let's get a count of the books written by JRR Tolkien\n",
        "# or JK Rowling\n",
        "\n",
        "%%sql\n",
        "SELECT COUNT(*)\n",
        "  FROM Authors NATURAL JOIN Books\n",
        "  WHERE Authors.name = \"JRR Tolkien\"\n",
        "    OR Authors.name = 'JK Rowling'\n"
      ],
      "metadata": {
        "id": "Q0Aarqa_tU_3",
        "colab": {
          "base_uri": "https://localhost:8080/",
          "height": 95
        },
        "outputId": "05a5f1e6-ade4-4f22-cb0f-e120f6a44cd4"
      },
      "execution_count": 56,
      "outputs": [
        {
          "output_type": "stream",
          "name": "stdout",
          "text": [
            " * sqlite://\n",
            "Done.\n"
          ]
        },
        {
          "output_type": "execute_result",
          "data": {
            "text/plain": [
              "[(10,)]"
            ],
            "text/html": [
              "<table>\n",
              "    <thead>\n",
              "        <tr>\n",
              "            <th>COUNT(*)</th>\n",
              "        </tr>\n",
              "    </thead>\n",
              "    <tbody>\n",
              "        <tr>\n",
              "            <td>10</td>\n",
              "        </tr>\n",
              "    </tbody>\n",
              "</table>"
            ]
          },
          "metadata": {},
          "execution_count": 56
        }
      ]
    },
    {
      "cell_type": "markdown",
      "source": [
        "##10. Simple Aggregate Functions\n",
        "Along with COUNT, we can also use functions like:\n",
        "1. Use MAX/MIN to find the maximum or minimum values in a column.\n",
        "2. Use AVG to find the average value in  a column.\n",
        "3. Use SUM to sum up the results in a column."
      ],
      "metadata": {
        "id": "mXQm5Ljw8XvK"
      }
    },
    {
      "cell_type": "code",
      "source": [
        "# A simple example of the functions\n",
        "%sql SELECT MAX(pages), MIN(pages), AVG(pages), SUM(pages) FROM Books;\n"
      ],
      "metadata": {
        "id": "LTm6W6v6uuLt",
        "colab": {
          "base_uri": "https://localhost:8080/",
          "height": 95
        },
        "outputId": "1bef2362-646e-4229-8bd3-32d6f7001d7a"
      },
      "execution_count": 59,
      "outputs": [
        {
          "output_type": "stream",
          "name": "stdout",
          "text": [
            " * sqlite://\n",
            "Done.\n"
          ]
        },
        {
          "output_type": "execute_result",
          "data": {
            "text/plain": [
              "[(3160, 48, 403.46, 60519)]"
            ],
            "text/html": [
              "<table>\n",
              "    <thead>\n",
              "        <tr>\n",
              "            <th>MAX(pages)</th>\n",
              "            <th>MIN(pages)</th>\n",
              "            <th>AVG(pages)</th>\n",
              "            <th>SUM(pages)</th>\n",
              "        </tr>\n",
              "    </thead>\n",
              "    <tbody>\n",
              "        <tr>\n",
              "            <td>3160</td>\n",
              "            <td>48</td>\n",
              "            <td>403.46</td>\n",
              "            <td>60519</td>\n",
              "        </tr>\n",
              "    </tbody>\n",
              "</table>"
            ]
          },
          "metadata": {},
          "execution_count": 59
        }
      ]
    },
    {
      "cell_type": "code",
      "source": [
        "# Let's find out the total pages of books written by\n",
        "# people with the last name Shakespeare\n",
        "\n",
        "%%sql \n",
        "SELECT SUM(pages) FROM\n",
        "  Books NATURAL JOIN Authors\n",
        "  WHERE Authors.name LIKE \"%Shakespeare\"\n"
      ],
      "metadata": {
        "id": "399N0s7g9DMJ",
        "colab": {
          "base_uri": "https://localhost:8080/",
          "height": 95
        },
        "outputId": "b5b28e60-3225-4597-c244-6744e44c9df8"
      },
      "execution_count": 61,
      "outputs": [
        {
          "output_type": "stream",
          "name": "stdout",
          "text": [
            " * sqlite://\n",
            "Done.\n"
          ]
        },
        {
          "output_type": "execute_result",
          "data": {
            "text/plain": [
              "[(640,)]"
            ],
            "text/html": [
              "<table>\n",
              "    <thead>\n",
              "        <tr>\n",
              "            <th>SUM(pages)</th>\n",
              "        </tr>\n",
              "    </thead>\n",
              "    <tbody>\n",
              "        <tr>\n",
              "            <td>640</td>\n",
              "        </tr>\n",
              "    </tbody>\n",
              "</table>"
            ]
          },
          "metadata": {},
          "execution_count": 61
        }
      ]
    },
    {
      "cell_type": "code",
      "source": [
        "# Let's retrieving the average number of \"stars\"\n",
        "# For authors born after 1800 but before 1900. \n",
        "\n",
        "%%sql\n",
        "SELECT AVG(avg_stars) AS \"Average rating\" FROM\n",
        "  Books NATURAL JOIN Authors\n",
        "  WHERE Authors.date_of_birth > \"1800/1/1\"\n",
        "  AND Authors.date_of_birth < \"1900/1/1\";"
      ],
      "metadata": {
        "id": "Pwp7V7I-9aDr",
        "colab": {
          "base_uri": "https://localhost:8080/",
          "height": 95
        },
        "outputId": "084c94df-b126-4fbf-8750-03843e1ba22f"
      },
      "execution_count": 66,
      "outputs": [
        {
          "output_type": "stream",
          "name": "stdout",
          "text": [
            " * sqlite://\n",
            "Done.\n"
          ]
        },
        {
          "output_type": "execute_result",
          "data": {
            "text/plain": [
              "[(3.9497297297297296,)]"
            ],
            "text/html": [
              "<table>\n",
              "    <thead>\n",
              "        <tr>\n",
              "            <th>Average rating</th>\n",
              "        </tr>\n",
              "    </thead>\n",
              "    <tbody>\n",
              "        <tr>\n",
              "            <td>3.9497297297297296</td>\n",
              "        </tr>\n",
              "    </tbody>\n",
              "</table>"
            ]
          },
          "metadata": {},
          "execution_count": 66
        }
      ]
    },
    {
      "cell_type": "markdown",
      "source": [
        "# Problems\n",
        "It's time for you test out your SQL skills. Produce a query that does each of the following. In all cases, you can include a \"LIMIT 5\" at the end to limit the length of your results.\n",
        "\n",
        "1. Sort the books in descending order by rating. \n",
        "2. Get the names and nationalities (and nothing else) of the authors ordered (alphabetically) by nationality, and then by first name. \n",
        "3. Get a count of the authors from the United States. \n",
        "4. Get a count of books that have between 300 and 400 pages.\n",
        "5. Get the titles of the books that have ratings over 4.5 AND which have been published since 1990.\n",
        "6. Get the names of the authors that are EITHER women OR are NOT from the United States.\n",
        "7. Get the title of the book that has the lowest overall rating.\n",
        "8. Get the average number of reviews of book where the word \"Dragon\" appears anywhere in the title.\n",
        "9. Get the title and publication dates of the books written by Shakespeare. (NOTE: Requires a JOIN).\n",
        "10. Get the name of the author who wrote the longest book in the database (NOTE: Requires a JOIN).\n"
      ],
      "metadata": {
        "id": "FxEhgBAtLSZz"
      }
    },
    {
      "cell_type": "code",
      "source": [
        "# Problem 1"
      ],
      "metadata": {
        "id": "aJhJMYt_SBGs"
      },
      "execution_count": null,
      "outputs": []
    },
    {
      "cell_type": "code",
      "source": [
        "# Problem 2"
      ],
      "metadata": {
        "id": "1F1Kv6ifSBYC"
      },
      "execution_count": null,
      "outputs": []
    },
    {
      "cell_type": "code",
      "source": [
        "# Problem 3"
      ],
      "metadata": {
        "id": "O2Q86Ou-SBhA"
      },
      "execution_count": null,
      "outputs": []
    },
    {
      "cell_type": "code",
      "source": [
        "# Problem 4"
      ],
      "metadata": {
        "id": "ywBpJuejSBkU"
      },
      "execution_count": null,
      "outputs": []
    },
    {
      "cell_type": "code",
      "source": [
        "# Problem 5"
      ],
      "metadata": {
        "id": "LvP650oxSBsT"
      },
      "execution_count": null,
      "outputs": []
    },
    {
      "cell_type": "code",
      "source": [
        "# Problem 6"
      ],
      "metadata": {
        "id": "WtFDNYagSB0c"
      },
      "execution_count": null,
      "outputs": []
    },
    {
      "cell_type": "code",
      "source": [
        "# Problem 7"
      ],
      "metadata": {
        "id": "9DjjMECCSB6d"
      },
      "execution_count": null,
      "outputs": []
    },
    {
      "cell_type": "code",
      "source": [
        "# Problem 8"
      ],
      "metadata": {
        "id": "mOFkmEM8SCBa"
      },
      "execution_count": null,
      "outputs": []
    },
    {
      "cell_type": "code",
      "source": [
        "# Problem 9"
      ],
      "metadata": {
        "id": "DHVgJPDrSCLP"
      },
      "execution_count": null,
      "outputs": []
    },
    {
      "cell_type": "code",
      "source": [
        "# Problem 10"
      ],
      "metadata": {
        "id": "sSej-Sb8SRT-"
      },
      "execution_count": null,
      "outputs": []
    }
  ]
}