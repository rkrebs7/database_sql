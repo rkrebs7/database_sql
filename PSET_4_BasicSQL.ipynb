{
  "nbformat": 4,
  "nbformat_minor": 0,
  "metadata": {
    "colab": {
      "name": "Lab: Basic SQL",
      "provenance": [],
      "collapsed_sections": [
        "tnHJoGBiE-bU",
        "bC5zz1svGbQm",
        "qGDlxmjiH3mc",
        "f9IMB6pyKD4N",
        "OtbJVjp8I4Wx",
        "BpX4eX6ZKZLX",
        "kO4l-E_ZtxkW",
        "us2Y7FazugHA",
        "0PXTuEi2vOtq",
        "MrUfbrHewLZG",
        "jJ7mhdXf1IoK",
        "xvghL_aI1tzb"
      ],
      "authorship_tag": "ABX9TyN0+nuv8rcZNQuIMjeHonmq",
      "include_colab_link": true
    },
    "kernelspec": {
      "name": "python3",
      "display_name": "Python 3"
    },
    "language_info": {
      "name": "python"
    }
  },
  "cells": [
    {
      "cell_type": "markdown",
      "metadata": {
        "id": "view-in-github",
        "colab_type": "text"
      },
      "source": [
        "<a href=\"https://colab.research.google.com/github/brendanpshea/database_sql/blob/main/PSET_4_BasicSQL.ipynb\" target=\"_parent\"><img src=\"https://colab.research.google.com/assets/colab-badge.svg\" alt=\"Open In Colab\"/></a>"
      ]
    },
    {
      "cell_type": "markdown",
      "source": [
        "# Lab Directions\n",
        "For this lab, you'll be writing some basic SQL queries. Here is what you need to do:\n",
        "\n",
        "1. \"OPEN\" this lab in \"Google Colab\" and proceed to set up a free Google Colab account if you need to: https://colab.research.google.com/. \n",
        "2. Save a copy of this lab to your Colab account. You'll want to connect to a \"runtime\".\n",
        "3. Work on the lab! To run code cells, you just need to click \"Ctrl + Enter.\" To edit cells, you can double click on them. If there is an option, make sure to select \"Anyone can view\" the link.\n",
        "4. When you are done working on the lab, please click the \"Share\" button, copy the link you see there, and submit this to D2L.\n",
        "\n",
        "Oh, and make sure to put your name here:\n",
        "\n",
        "NAME(s):\n",
        "\n",
        "---\n",
        "\n"
      ],
      "metadata": {
        "id": "tnHJoGBiE-bU"
      }
    },
    {
      "cell_type": "markdown",
      "source": [
        "#Problem 0: Run the cells below\n",
        "The following two cells  will get the Movie database set up. After you've run these cells (by hitting Ctrl + Enter), you should see the relational schema for each of the Movie databse tables.\n",
        "\n",
        "Note: The first time you run these cells, it may take a minute or two!\n",
        "\n"
      ],
      "metadata": {
        "id": "bC5zz1svGbQm"
      }
    },
    {
      "cell_type": "code",
      "source": [
        "# Some UNIX utilites we need to install for the lab.\n",
        "!pip install wget --quiet\n",
        "!pip install sqlalchemy --quiet\n",
        "!pip install ipython-sql --quiet\n"
      ],
      "metadata": {
        "id": "urVsB5FWxEsP"
      },
      "execution_count": 1,
      "outputs": []
    },
    {
      "cell_type": "code",
      "execution_count": 2,
      "metadata": {
        "id": "Hf_9KzYYE7NX",
        "outputId": "a7a97e3c-579c-40f3-d399-4ad51e5e47fb",
        "colab": {
          "base_uri": "https://localhost:8080/",
          "height": 36
        }
      },
      "outputs": [
        {
          "output_type": "execute_result",
          "data": {
            "text/plain": [
              "'Connected: @/content/movie.sqlite'"
            ],
            "application/vnd.google.colaboratory.intrinsic+json": {
              "type": "string"
            }
          },
          "metadata": {},
          "execution_count": 2
        }
      ],
      "source": [
        "# Now let's download the file we'll be using for this lab\n",
        "!wget 'https://github.com/brendanpshea/database_sql/raw/main/movie.sqlite' -q\n",
        "\n",
        "# Let's make a connnection with the database\n",
        "%load_ext sql\n",
        "%sql sqlite:////content/movie.sqlite\n",
        "\n"
      ]
    },
    {
      "cell_type": "code",
      "source": [
        "# Get the schema\n",
        "%%sql \n",
        "SELECT name AS \"Table Name\", sql AS \"Schema of Table\" FROM sqlite_master WHERE type = 'table';"
      ],
      "metadata": {
        "id": "9shK3XySHH8-",
        "outputId": "45f93f3e-8d8e-4b2c-c1f1-ea05b246f669",
        "colab": {
          "base_uri": "https://localhost:8080/",
          "height": 195
        }
      },
      "execution_count": 3,
      "outputs": [
        {
          "output_type": "stream",
          "name": "stdout",
          "text": [
            " * sqlite:////content/movie.sqlite\n",
            "Done.\n"
          ]
        },
        {
          "output_type": "execute_result",
          "data": {
            "text/plain": [
              "[('Movie', 'CREATE TABLE Movie (id CHAR(7) PRIMARY KEY, name VARCHAR(64), year INTEGER, rating VARCHAR(5), runtime INTEGER, genre VARCHAR(16), earnings_rank INTEGER)'),\n",
              " ('Person', 'CREATE TABLE Person (id CHAR(7) PRIMARY KEY, name VARCHAR(64), dob DATE, pob VARCHAR(128))'),\n",
              " ('Actor', 'CREATE TABLE Actor (actor_id CHAR(7), movie_id CHAR(7), PRIMARY KEY (actor_id, movie_id), FOREIGN KEY (actor_id) REFERENCES Person(id), FOREIGN KEY (movie_id) REFERENCES Movie(id))'),\n",
              " ('Director', 'CREATE TABLE Director(director_id CHAR(7), movie_id CHAR(7), PRIMARY KEY (director_id, movie_id), FOREIGN KEY (director_id) REFERENCES Person(id), FOREIGN KEY (movie_id) REFERENCES Movie(id))'),\n",
              " ('Oscar', 'CREATE TABLE Oscar(movie_id CHAR(7), person_id CHAR(7), type VARCHAR(23), year INTEGER, PRIMARY KEY (person_id, type, year), FOREIGN KEY (movie_id) REFERENCES Movie(id), FOREIGN KEY (person_id) REFERENCES Person(id)\\n)')]"
            ],
            "text/html": [
              "<table>\n",
              "    <thead>\n",
              "        <tr>\n",
              "            <th>Table Name</th>\n",
              "            <th>Schema of Table</th>\n",
              "        </tr>\n",
              "    </thead>\n",
              "    <tbody>\n",
              "        <tr>\n",
              "            <td>Movie</td>\n",
              "            <td>CREATE TABLE Movie (id CHAR(7) PRIMARY KEY, name VARCHAR(64), year INTEGER, rating VARCHAR(5), runtime INTEGER, genre VARCHAR(16), earnings_rank INTEGER)</td>\n",
              "        </tr>\n",
              "        <tr>\n",
              "            <td>Person</td>\n",
              "            <td>CREATE TABLE Person (id CHAR(7) PRIMARY KEY, name VARCHAR(64), dob DATE, pob VARCHAR(128))</td>\n",
              "        </tr>\n",
              "        <tr>\n",
              "            <td>Actor</td>\n",
              "            <td>CREATE TABLE Actor (actor_id CHAR(7), movie_id CHAR(7), PRIMARY KEY (actor_id, movie_id), FOREIGN KEY (actor_id) REFERENCES Person(id), FOREIGN KEY (movie_id) REFERENCES Movie(id))</td>\n",
              "        </tr>\n",
              "        <tr>\n",
              "            <td>Director</td>\n",
              "            <td>CREATE TABLE Director(director_id CHAR(7), movie_id CHAR(7), PRIMARY KEY (director_id, movie_id), FOREIGN KEY (director_id) REFERENCES Person(id), FOREIGN KEY (movie_id) REFERENCES Movie(id))</td>\n",
              "        </tr>\n",
              "        <tr>\n",
              "            <td>Oscar</td>\n",
              "            <td>CREATE TABLE Oscar(movie_id CHAR(7), person_id CHAR(7), type VARCHAR(23), year INTEGER, PRIMARY KEY (person_id, type, year), FOREIGN KEY (movie_id) REFERENCES Movie(id), FOREIGN KEY (person_id) REFERENCES Person(id)<br>)</td>\n",
              "        </tr>\n",
              "    </tbody>\n",
              "</table>"
            ]
          },
          "metadata": {},
          "execution_count": 3
        }
      ]
    },
    {
      "cell_type": "code",
      "source": [
        "# Show the first 5 rows of each table\n",
        "movie_df = %sql SELECT * FROM Movie LIMIT 5;\n",
        "person_df = %sql SELECT * FROM Person LIMIT 5;\n",
        "actor_df = %sql SELECT * FROM Actor LIMIT 5;\n",
        "director_df = %sql SELECT * FROM Director LIMIT 5;\n",
        "oscar_df = %sql SELECT * FROM Oscar LIMIT 5;\n",
        "print(movie_df,'\\n\\n',person_df, '\\n\\n', actor_df, '\\n\\n', director_df, '\\n\\n', oscar_df)"
      ],
      "metadata": {
        "id": "Mvs3HAnzxmAB",
        "outputId": "db7d7766-f107-49a2-c12d-2aafbef1623b",
        "colab": {
          "base_uri": "https://localhost:8080/"
        }
      },
      "execution_count": 4,
      "outputs": [
        {
          "output_type": "stream",
          "name": "stdout",
          "text": [
            " * sqlite:////content/movie.sqlite\n",
            "Done.\n",
            " * sqlite:////content/movie.sqlite\n",
            "Done.\n",
            " * sqlite:////content/movie.sqlite\n",
            "Done.\n",
            " * sqlite:////content/movie.sqlite\n",
            "Done.\n",
            " * sqlite:////content/movie.sqlite\n",
            "Done.\n",
            "+---------+------------------------------+------+--------+---------+-------+---------------+\n",
            "|    id   |             name             | year | rating | runtime | genre | earnings_rank |\n",
            "+---------+------------------------------+------+--------+---------+-------+---------------+\n",
            "| 2488496 | Star Wars: The Force Awakens | 2015 | PG-13  |   138   |   A   |       1       |\n",
            "| 4154796 |      Avengers: Endgame       | 2019 | PG-13  |   181   |  AVS  |       2       |\n",
            "| 0499549 |            Avatar            | 2009 | PG-13  |   162   |  AVYS |       3       |\n",
            "| 1825683 |        Black Panther         | 2018 | PG-13  |   134   |  AVS  |       4       |\n",
            "| 4154756 |    Avengers: Infinity War    | 2018 | PG-13  |   149   |  AVYS |       5       |\n",
            "+---------+------------------------------+------+--------+---------+-------+---------------+ \n",
            "\n",
            " +---------+-----------------+------------+-------------------------+\n",
            "|    id   |       name      |    dob     |           pob           |\n",
            "+---------+-----------------+------------+-------------------------+\n",
            "| 0000002 |  Lauren Bacall  | 1924-09-16 | New York, New York, USA |\n",
            "| 0000004 |   John Belushi  | 1949-01-24 |  Chicago, Illinois, USA |\n",
            "| 0000006 |  Ingrid Bergman | 1915-08-29 |    Stockholm, Sweden    |\n",
            "| 0000007 | Humphrey Bogart | 1899-12-25 | New York, New York, USA |\n",
            "| 0000008 |  Marlon Brando  | 1924-04-03 |   Omaha, Nebraska, USA  |\n",
            "+---------+-----------------+------------+-------------------------+ \n",
            "\n",
            " +----------+----------+\n",
            "| actor_id | movie_id |\n",
            "+----------+----------+\n",
            "| 0000138  | 0120338  |\n",
            "| 0000701  | 0120338  |\n",
            "| 0000708  | 0120338  |\n",
            "| 0000870  | 0120338  |\n",
            "| 0000200  | 0120338  |\n",
            "+----------+----------+ \n",
            "\n",
            " +-------------+----------+\n",
            "| director_id | movie_id |\n",
            "+-------------+----------+\n",
            "|   0000116   | 0120338  |\n",
            "|   0000184   | 0076759  |\n",
            "|   0011470   | 0298148  |\n",
            "|   0000229   | 0083866  |\n",
            "|   0000184   | 0120915  |\n",
            "+-------------+----------+ \n",
            "\n",
            " +----------+-----------+-------------------------+------+\n",
            "| movie_id | person_id |           type          | year |\n",
            "+----------+-----------+-------------------------+------+\n",
            "| 6751668  |    None   |       BEST-PICTURE      | 2020 |\n",
            "| 7286456  |  0001618  |        BEST-ACTOR       | 2020 |\n",
            "| 7549996  |  0000250  |       BEST-ACTRESS      | 2020 |\n",
            "| 7131622  |  0000093  |  BEST-SUPPORTING-ACTOR  | 2020 |\n",
            "| 7653254  |  0000368  | BEST-SUPPORTING-ACTRESS | 2020 |\n",
            "+----------+-----------+-------------------------+------+\n"
          ]
        }
      ]
    },
    {
      "cell_type": "code",
      "source": [
        "%%sql\n",
        "--feel free to type some queries here (and the run them) to see how they work!\n",
        "--You should only write ONE query per cell."
      ],
      "metadata": {
        "id": "PkyBnLOI0jZa",
        "outputId": "555bf5b4-a054-4ce8-f0cc-75b980d53473",
        "colab": {
          "base_uri": "https://localhost:8080/"
        }
      },
      "execution_count": 5,
      "outputs": [
        {
          "output_type": "stream",
          "name": "stdout",
          "text": [
            " * sqlite:////content/movie.sqlite\n",
            "0 rows affected.\n"
          ]
        },
        {
          "output_type": "execute_result",
          "data": {
            "text/plain": [
              "[]"
            ]
          },
          "metadata": {},
          "execution_count": 5
        }
      ]
    },
    {
      "cell_type": "markdown",
      "source": [
        "# Problem 1\n",
        "Retrieve the first 6 rows in the Oscar table ordered by Oscar type. Hint: You'll need to use SELECT, FROM, ORDER BY, and LIMIT. You'll want to retrieve all attributes using *."
      ],
      "metadata": {
        "id": "qGDlxmjiH3mc"
      }
    },
    {
      "cell_type": "code",
      "source": [
        "%%sql\n",
        "--Your code here"
      ],
      "metadata": {
        "id": "L5D0klr9HQq6",
        "outputId": "edf0b644-f0e9-48ca-960e-99b4ceecced5",
        "colab": {
          "base_uri": "https://localhost:8080/"
        }
      },
      "execution_count": 6,
      "outputs": [
        {
          "output_type": "stream",
          "name": "stdout",
          "text": [
            " * sqlite:////content/movie.sqlite\n",
            "0 rows affected.\n"
          ]
        },
        {
          "output_type": "execute_result",
          "data": {
            "text/plain": [
              "[]"
            ]
          },
          "metadata": {},
          "execution_count": 6
        }
      ]
    },
    {
      "cell_type": "markdown",
      "source": [
        "#Problem 2\n",
        "Retrieve a list of the different \"types\" of awards that are listed in the Oscar table. Hint: use DISTINCT."
      ],
      "metadata": {
        "id": "f9IMB6pyKD4N"
      }
    },
    {
      "cell_type": "code",
      "source": [
        "%%sql\n",
        "--Your code here"
      ],
      "metadata": {
        "id": "nWh1jd4IKOcv",
        "outputId": "6ceaba0b-9812-4791-a400-bbe0350b2e4f",
        "colab": {
          "base_uri": "https://localhost:8080/"
        }
      },
      "execution_count": 7,
      "outputs": [
        {
          "output_type": "stream",
          "name": "stdout",
          "text": [
            " * sqlite:////content/movie.sqlite\n",
            "0 rows affected.\n"
          ]
        },
        {
          "output_type": "execute_result",
          "data": {
            "text/plain": [
              "[]"
            ]
          },
          "metadata": {},
          "execution_count": 7
        }
      ]
    },
    {
      "cell_type": "code",
      "source": [],
      "metadata": {
        "id": "trrpVStwu5Rt"
      },
      "execution_count": 7,
      "outputs": []
    },
    {
      "cell_type": "markdown",
      "source": [
        "#Problem 3\n",
        "Retrieve the number of distinct actors that are represented in the Actor table. Hint, you'll neeed to use both COUNT and DISTINCT. You only want each \"actor_id\" to be counted once."
      ],
      "metadata": {
        "id": "OtbJVjp8I4Wx"
      }
    },
    {
      "cell_type": "code",
      "source": [
        "%%sql\n",
        "--Your code here"
      ],
      "metadata": {
        "id": "KgpBDh-ZJRm8",
        "outputId": "53736c6c-ac53-410c-b7ac-db772edbfa15",
        "colab": {
          "base_uri": "https://localhost:8080/"
        }
      },
      "execution_count": 8,
      "outputs": [
        {
          "output_type": "stream",
          "name": "stdout",
          "text": [
            " * sqlite:////content/movie.sqlite\n",
            "0 rows affected.\n"
          ]
        },
        {
          "output_type": "execute_result",
          "data": {
            "text/plain": [
              "[]"
            ]
          },
          "metadata": {},
          "execution_count": 8
        }
      ]
    },
    {
      "cell_type": "markdown",
      "source": [
        "#Problem 4\n",
        "Retrieve the name and release year of movies that contain the word \"Batman.\""
      ],
      "metadata": {
        "id": "BpX4eX6ZKZLX"
      }
    },
    {
      "cell_type": "code",
      "source": [
        "%%sql\n",
        "--Your code here"
      ],
      "metadata": {
        "id": "wkzDrf30sv5d",
        "outputId": "a010b17b-6042-431e-9306-318e2f574430",
        "colab": {
          "base_uri": "https://localhost:8080/"
        }
      },
      "execution_count": 9,
      "outputs": [
        {
          "output_type": "stream",
          "name": "stdout",
          "text": [
            " * sqlite:////content/movie.sqlite\n",
            "0 rows affected.\n"
          ]
        },
        {
          "output_type": "execute_result",
          "data": {
            "text/plain": [
              "[]"
            ]
          },
          "metadata": {},
          "execution_count": 9
        }
      ]
    },
    {
      "cell_type": "markdown",
      "source": [
        "#Problem 5\n",
        "Retrieve the name and place of birth of all Persons born in \"Minnesota, USA\". Order them in descending order by name."
      ],
      "metadata": {
        "id": "kO4l-E_ZtxkW"
      }
    },
    {
      "cell_type": "code",
      "source": [
        "%%sql\n",
        "--Your code here"
      ],
      "metadata": {
        "id": "9dL6qaLTuBwR",
        "outputId": "8f0a07f7-e4c6-4cee-fb09-d73a0e733ca5",
        "colab": {
          "base_uri": "https://localhost:8080/"
        }
      },
      "execution_count": 10,
      "outputs": [
        {
          "output_type": "stream",
          "name": "stdout",
          "text": [
            " * sqlite:////content/movie.sqlite\n",
            "0 rows affected.\n"
          ]
        },
        {
          "output_type": "execute_result",
          "data": {
            "text/plain": [
              "[]"
            ]
          },
          "metadata": {},
          "execution_count": 10
        }
      ]
    },
    {
      "cell_type": "markdown",
      "source": [
        "#Problem 6\n",
        "Retrieve the names, runtimes, and release years of movies that have won a 'Best Picture' Oscar. Limit the results to 5. Hint: You'll need to JOIN Oscar and Movie using Oscar.movie_id and Movie.id. You'll also need to think about Oscar.type and Movie.year."
      ],
      "metadata": {
        "id": "us2Y7FazugHA"
      }
    },
    {
      "cell_type": "code",
      "source": [
        "%%sql\n",
        "--Your code here"
      ],
      "metadata": {
        "id": "jOMicRA9KX7k",
        "outputId": "e555a9c2-aad6-4152-f934-c362dd891171",
        "colab": {
          "base_uri": "https://localhost:8080/"
        }
      },
      "execution_count": 11,
      "outputs": [
        {
          "output_type": "stream",
          "name": "stdout",
          "text": [
            " * sqlite:////content/movie.sqlite\n",
            "0 rows affected.\n"
          ]
        },
        {
          "output_type": "execute_result",
          "data": {
            "text/plain": [
              "[]"
            ]
          },
          "metadata": {},
          "execution_count": 11
        }
      ]
    },
    {
      "cell_type": "markdown",
      "source": [
        "#Problem 7\n",
        "Retrieve the names of all Persons who have won a 'BEST-ACTOR' award since 1995. Hint: You'll need to JOIN Person with Oscar."
      ],
      "metadata": {
        "id": "0PXTuEi2vOtq"
      }
    },
    {
      "cell_type": "code",
      "source": [
        "%%sql\n",
        "--Your code here"
      ],
      "metadata": {
        "id": "b93S8mSlwHKi",
        "outputId": "0729f1df-e642-4280-fc2c-832740db516a",
        "colab": {
          "base_uri": "https://localhost:8080/"
        }
      },
      "execution_count": 12,
      "outputs": [
        {
          "output_type": "stream",
          "name": "stdout",
          "text": [
            " * sqlite:////content/movie.sqlite\n",
            "0 rows affected.\n"
          ]
        },
        {
          "output_type": "execute_result",
          "data": {
            "text/plain": [
              "[]"
            ]
          },
          "metadata": {},
          "execution_count": 12
        }
      ]
    },
    {
      "cell_type": "markdown",
      "source": [
        "#Problem 8\n",
        "Retrieve the COUNT of actors who appeared in a film in 2014. Name this column that is returned \"2014 Actors.\" Hint: You'll need to JOIN Actor with Movie. And rememember to count only \"distinct\" actor_ids (since some actors will have appeared in multiple movies)."
      ],
      "metadata": {
        "id": "MrUfbrHewLZG"
      }
    },
    {
      "cell_type": "code",
      "source": [
        "%%sql\n",
        "--Your code here"
      ],
      "metadata": {
        "id": "BPv7r1kmwptB",
        "outputId": "21312ca2-cfe9-4b02-8e81-8e5bbc0115ea",
        "colab": {
          "base_uri": "https://localhost:8080/"
        }
      },
      "execution_count": 13,
      "outputs": [
        {
          "output_type": "stream",
          "name": "stdout",
          "text": [
            " * sqlite:////content/movie.sqlite\n",
            "0 rows affected.\n"
          ]
        },
        {
          "output_type": "execute_result",
          "data": {
            "text/plain": [
              "[]"
            ]
          },
          "metadata": {},
          "execution_count": 13
        }
      ]
    },
    {
      "cell_type": "markdown",
      "source": [
        "#Problem 9\n",
        "Retrieve the total running time of all of the films that Keanu Reeves has appeared in. Express this as \"number of days.\" (So, you need to convert somehow take the sum of the runtimes, and then convert minutes to days)."
      ],
      "metadata": {
        "id": "jJ7mhdXf1IoK"
      }
    },
    {
      "cell_type": "code",
      "source": [
        "%%sql\n",
        "--Your code here"
      ],
      "metadata": {
        "id": "-LEczMc0w_4H",
        "outputId": "e9cb533c-84b0-4b18-c0e2-09347389f2e7",
        "colab": {
          "base_uri": "https://localhost:8080/"
        }
      },
      "execution_count": 14,
      "outputs": [
        {
          "output_type": "stream",
          "name": "stdout",
          "text": [
            " * sqlite:////content/movie.sqlite\n",
            "0 rows affected.\n"
          ]
        },
        {
          "output_type": "execute_result",
          "data": {
            "text/plain": [
              "[]"
            ]
          },
          "metadata": {},
          "execution_count": 14
        }
      ]
    },
    {
      "cell_type": "markdown",
      "source": [
        "#Problem 10\n",
        "Retrieve the names of films that have have a person with a first name starting with \"WIll\" as director or an actor. Hint: You'll be doing two \"select\" statements with a UNION in the middle of them."
      ],
      "metadata": {
        "id": "xvghL_aI1tzb"
      }
    },
    {
      "cell_type": "code",
      "source": [
        "%%sql\n",
        "--Your code here"
      ],
      "metadata": {
        "id": "vz_XURTw2d2B",
        "outputId": "96d65ab0-2d74-481f-ee6b-38ec7d369066",
        "colab": {
          "base_uri": "https://localhost:8080/"
        }
      },
      "execution_count": 15,
      "outputs": [
        {
          "output_type": "stream",
          "name": "stdout",
          "text": [
            " * sqlite:////content/movie.sqlite\n",
            "0 rows affected.\n"
          ]
        },
        {
          "output_type": "execute_result",
          "data": {
            "text/plain": [
              "[]"
            ]
          },
          "metadata": {},
          "execution_count": 15
        }
      ]
    },
    {
      "cell_type": "code",
      "source": [],
      "metadata": {
        "id": "zBMU01zk2eIV"
      },
      "execution_count": 15,
      "outputs": []
    }
  ]
}