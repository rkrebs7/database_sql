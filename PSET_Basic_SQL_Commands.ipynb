{
  "nbformat": 4,
  "nbformat_minor": 0,
  "metadata": {
    "colab": {
      "provenance": [],
      "collapsed_sections": [
        "tnHJoGBiE-bU",
        "MrUfbrHewLZG"
      ],
      "authorship_tag": "ABX9TyMhEgYD1oVS9RKfTH0oHjVC",
      "include_colab_link": true
    },
    "kernelspec": {
      "name": "python3",
      "display_name": "Python 3"
    },
    "language_info": {
      "name": "python"
    }
  },
  "cells": [
    {
      "cell_type": "markdown",
      "metadata": {
        "id": "view-in-github",
        "colab_type": "text"
      },
      "source": [
        "<a href=\"https://colab.research.google.com/github/brendanpshea/database_sql/blob/main/PSET_Basic_SQL_Commands.ipynb\" target=\"_parent\"><img src=\"https://colab.research.google.com/assets/colab-badge.svg\" alt=\"Open In Colab\"/></a>"
      ]
    },
    {
      "cell_type": "markdown",
      "source": [
        "# PSET 4: Basic SQL\n",
        "### Name: \n",
        "### Partner (Optional): \n",
        "\n",
        "## Directions\n",
        "For this problem set, you'll be writing some basic SQL queries. Here is what you need to do:\n",
        "\n",
        "1. \"OPEN\" this lab in \"Google Colab\" and proceed to set up a free Google Colab account if you need to: https://colab.research.google.com/. \n",
        "2. Save a copy of this lab to your Colab account. You'll want to connect to a \"runtime\".\n",
        "3. Work on the lab! To run code cells, you just need to click \"Ctrl + Enter.\" To edit cells, you can double click on them. If there is an option, make sure to select \"Anyone can view\" the link.\n",
        "4. When you are done working on the lab, please download it as an ipnyb file and submit it to D2L.\n",
        "\n",
        "**Citation:** You don’t need to cite in-class material (from my notes or the lecture books). Any outside material must be cited appropriately.\n",
        "\n",
        "**Scoring.** Unless noted otherwise, each coding question is worth 3 points. The scoring is as follows:\n",
        "* 3/3 – The problem is complete and correct.\n",
        "* 2/3 – The problem is mostly correct.\n",
        "* 1/3 – The problem is mostly incorrect.\n",
        "* 0/3 -- The problem is missing or completely incorrect.\n",
        "\n",
        "\n",
        "---\n",
        "\n"
      ],
      "metadata": {
        "id": "tnHJoGBiE-bU"
      }
    },
    {
      "cell_type": "markdown",
      "source": [
        "#Problem 0: Run the cells below\n",
        "The following two cells  will get the Movie database set up. After you've run these cells (by hitting Ctrl + Enter), you should see the relational schema for each of the Movie databse tables.\n",
        "\n",
        "Note: The first time you run these cells, it may take a minute or two!\n",
        "\n"
      ],
      "metadata": {
        "id": "bC5zz1svGbQm"
      }
    },
    {
      "cell_type": "code",
      "source": [
        "# Some UNIX utilites we need to install for the lab.\n",
        "!pip install wget --quiet\n",
        "!pip install sqlalchemy --quiet\n",
        "!pip install ipython-sql --quiet\n"
      ],
      "metadata": {
        "id": "urVsB5FWxEsP",
        "colab": {
          "base_uri": "https://localhost:8080/"
        },
        "outputId": "9d94ddd3-4d4e-4350-9d38-1ea5201ab61c"
      },
      "execution_count": null,
      "outputs": [
        {
          "output_type": "stream",
          "name": "stdout",
          "text": [
            "  Building wheel for wget (setup.py) ... \u001b[?25l\u001b[?25hdone\n",
            "\u001b[K     |████████████████████████████████| 1.6 MB 4.2 MB/s \n",
            "\u001b[?25h"
          ]
        }
      ]
    },
    {
      "cell_type": "code",
      "execution_count": null,
      "metadata": {
        "id": "Hf_9KzYYE7NX",
        "outputId": "12f432cb-b30c-42bb-e9de-f5c30449f0d6",
        "colab": {
          "base_uri": "https://localhost:8080/",
          "height": 36
        }
      },
      "outputs": [
        {
          "output_type": "execute_result",
          "data": {
            "text/plain": [
              "'Connected: @/content/movie.sqlite'"
            ],
            "application/vnd.google.colaboratory.intrinsic+json": {
              "type": "string"
            }
          },
          "metadata": {},
          "execution_count": 3
        }
      ],
      "source": [
        "# Now let's download the file we'll be using for this lab\n",
        "!wget 'https://github.com/brendanpshea/database_sql/raw/main/movie.sqlite' -q\n",
        "\n",
        "# Let's make a connnection with the database\n",
        "%load_ext sql\n",
        "%sql sqlite:////content/movie.sqlite\n",
        "\n"
      ]
    },
    {
      "cell_type": "code",
      "source": [
        "# Get the schema\n",
        "%%sql \n",
        "SELECT name AS \"Table Name\", sql AS \"Schema of Table\" FROM sqlite_master WHERE type = 'table';"
      ],
      "metadata": {
        "id": "9shK3XySHH8-",
        "outputId": "f5746251-00ce-44d1-da87-f46eec59c33b",
        "colab": {
          "base_uri": "https://localhost:8080/",
          "height": 195
        }
      },
      "execution_count": null,
      "outputs": [
        {
          "output_type": "stream",
          "name": "stdout",
          "text": [
            " * sqlite:////content/movie.sqlite\n",
            "Done.\n"
          ]
        },
        {
          "output_type": "execute_result",
          "data": {
            "text/plain": [
              "[('Movie', 'CREATE TABLE Movie (id CHAR(7) PRIMARY KEY, name VARCHAR(64), year INTEGER, rating VARCHAR(5), runtime INTEGER, genre VARCHAR(16), earnings_rank INTEGER)'),\n",
              " ('Person', 'CREATE TABLE Person (id CHAR(7) PRIMARY KEY, name VARCHAR(64), dob DATE, pob VARCHAR(128))'),\n",
              " ('Actor', 'CREATE TABLE Actor (actor_id CHAR(7), movie_id CHAR(7), PRIMARY KEY (actor_id, movie_id), FOREIGN KEY (actor_id) REFERENCES Person(id), FOREIGN KEY (movie_id) REFERENCES Movie(id))'),\n",
              " ('Director', 'CREATE TABLE Director(director_id CHAR(7), movie_id CHAR(7), PRIMARY KEY (director_id, movie_id), FOREIGN KEY (director_id) REFERENCES Person(id), FOREIGN KEY (movie_id) REFERENCES Movie(id))'),\n",
              " ('Oscar', 'CREATE TABLE Oscar(movie_id CHAR(7), person_id CHAR(7), type VARCHAR(23), year INTEGER, PRIMARY KEY (person_id, type, year), FOREIGN KEY (movie_id) REFERENCES Movie(id), FOREIGN KEY (person_id) REFERENCES Person(id)\\n)')]"
            ],
            "text/html": [
              "<table>\n",
              "    <thead>\n",
              "        <tr>\n",
              "            <th>Table Name</th>\n",
              "            <th>Schema of Table</th>\n",
              "        </tr>\n",
              "    </thead>\n",
              "    <tbody>\n",
              "        <tr>\n",
              "            <td>Movie</td>\n",
              "            <td>CREATE TABLE Movie (id CHAR(7) PRIMARY KEY, name VARCHAR(64), year INTEGER, rating VARCHAR(5), runtime INTEGER, genre VARCHAR(16), earnings_rank INTEGER)</td>\n",
              "        </tr>\n",
              "        <tr>\n",
              "            <td>Person</td>\n",
              "            <td>CREATE TABLE Person (id CHAR(7) PRIMARY KEY, name VARCHAR(64), dob DATE, pob VARCHAR(128))</td>\n",
              "        </tr>\n",
              "        <tr>\n",
              "            <td>Actor</td>\n",
              "            <td>CREATE TABLE Actor (actor_id CHAR(7), movie_id CHAR(7), PRIMARY KEY (actor_id, movie_id), FOREIGN KEY (actor_id) REFERENCES Person(id), FOREIGN KEY (movie_id) REFERENCES Movie(id))</td>\n",
              "        </tr>\n",
              "        <tr>\n",
              "            <td>Director</td>\n",
              "            <td>CREATE TABLE Director(director_id CHAR(7), movie_id CHAR(7), PRIMARY KEY (director_id, movie_id), FOREIGN KEY (director_id) REFERENCES Person(id), FOREIGN KEY (movie_id) REFERENCES Movie(id))</td>\n",
              "        </tr>\n",
              "        <tr>\n",
              "            <td>Oscar</td>\n",
              "            <td>CREATE TABLE Oscar(movie_id CHAR(7), person_id CHAR(7), type VARCHAR(23), year INTEGER, PRIMARY KEY (person_id, type, year), FOREIGN KEY (movie_id) REFERENCES Movie(id), FOREIGN KEY (person_id) REFERENCES Person(id)<br>)</td>\n",
              "        </tr>\n",
              "    </tbody>\n",
              "</table>"
            ]
          },
          "metadata": {},
          "execution_count": 4
        }
      ]
    },
    {
      "cell_type": "code",
      "source": [
        "# Show the first 5 rows of each table\n",
        "movie_df = %sql SELECT * FROM Movie LIMIT 5;\n",
        "person_df = %sql SELECT * FROM Person LIMIT 5;\n",
        "actor_df = %sql SELECT * FROM Actor LIMIT 5;\n",
        "director_df = %sql SELECT * FROM Director LIMIT 5;\n",
        "oscar_df = %sql SELECT * FROM Oscar LIMIT 5;\n",
        "print(movie_df,'\\n\\n',person_df, '\\n\\n', actor_df, '\\n\\n', director_df, '\\n\\n', oscar_df)"
      ],
      "metadata": {
        "id": "Mvs3HAnzxmAB",
        "outputId": "db7d7766-f107-49a2-c12d-2aafbef1623b",
        "colab": {
          "base_uri": "https://localhost:8080/"
        }
      },
      "execution_count": null,
      "outputs": [
        {
          "output_type": "stream",
          "name": "stdout",
          "text": [
            " * sqlite:////content/movie.sqlite\n",
            "Done.\n",
            " * sqlite:////content/movie.sqlite\n",
            "Done.\n",
            " * sqlite:////content/movie.sqlite\n",
            "Done.\n",
            " * sqlite:////content/movie.sqlite\n",
            "Done.\n",
            " * sqlite:////content/movie.sqlite\n",
            "Done.\n",
            "+---------+------------------------------+------+--------+---------+-------+---------------+\n",
            "|    id   |             name             | year | rating | runtime | genre | earnings_rank |\n",
            "+---------+------------------------------+------+--------+---------+-------+---------------+\n",
            "| 2488496 | Star Wars: The Force Awakens | 2015 | PG-13  |   138   |   A   |       1       |\n",
            "| 4154796 |      Avengers: Endgame       | 2019 | PG-13  |   181   |  AVS  |       2       |\n",
            "| 0499549 |            Avatar            | 2009 | PG-13  |   162   |  AVYS |       3       |\n",
            "| 1825683 |        Black Panther         | 2018 | PG-13  |   134   |  AVS  |       4       |\n",
            "| 4154756 |    Avengers: Infinity War    | 2018 | PG-13  |   149   |  AVYS |       5       |\n",
            "+---------+------------------------------+------+--------+---------+-------+---------------+ \n",
            "\n",
            " +---------+-----------------+------------+-------------------------+\n",
            "|    id   |       name      |    dob     |           pob           |\n",
            "+---------+-----------------+------------+-------------------------+\n",
            "| 0000002 |  Lauren Bacall  | 1924-09-16 | New York, New York, USA |\n",
            "| 0000004 |   John Belushi  | 1949-01-24 |  Chicago, Illinois, USA |\n",
            "| 0000006 |  Ingrid Bergman | 1915-08-29 |    Stockholm, Sweden    |\n",
            "| 0000007 | Humphrey Bogart | 1899-12-25 | New York, New York, USA |\n",
            "| 0000008 |  Marlon Brando  | 1924-04-03 |   Omaha, Nebraska, USA  |\n",
            "+---------+-----------------+------------+-------------------------+ \n",
            "\n",
            " +----------+----------+\n",
            "| actor_id | movie_id |\n",
            "+----------+----------+\n",
            "| 0000138  | 0120338  |\n",
            "| 0000701  | 0120338  |\n",
            "| 0000708  | 0120338  |\n",
            "| 0000870  | 0120338  |\n",
            "| 0000200  | 0120338  |\n",
            "+----------+----------+ \n",
            "\n",
            " +-------------+----------+\n",
            "| director_id | movie_id |\n",
            "+-------------+----------+\n",
            "|   0000116   | 0120338  |\n",
            "|   0000184   | 0076759  |\n",
            "|   0011470   | 0298148  |\n",
            "|   0000229   | 0083866  |\n",
            "|   0000184   | 0120915  |\n",
            "+-------------+----------+ \n",
            "\n",
            " +----------+-----------+-------------------------+------+\n",
            "| movie_id | person_id |           type          | year |\n",
            "+----------+-----------+-------------------------+------+\n",
            "| 6751668  |    None   |       BEST-PICTURE      | 2020 |\n",
            "| 7286456  |  0001618  |        BEST-ACTOR       | 2020 |\n",
            "| 7549996  |  0000250  |       BEST-ACTRESS      | 2020 |\n",
            "| 7131622  |  0000093  |  BEST-SUPPORTING-ACTOR  | 2020 |\n",
            "| 7653254  |  0000368  | BEST-SUPPORTING-ACTRESS | 2020 |\n",
            "+----------+-----------+-------------------------+------+\n"
          ]
        }
      ]
    },
    {
      "cell_type": "code",
      "source": [
        "%%sql\n",
        "--feel free to type some queries here (and the run them) to see how they work!\n",
        "--You should only write ONE query per cell."
      ],
      "metadata": {
        "id": "PkyBnLOI0jZa",
        "outputId": "555bf5b4-a054-4ce8-f0cc-75b980d53473",
        "colab": {
          "base_uri": "https://localhost:8080/"
        }
      },
      "execution_count": null,
      "outputs": [
        {
          "output_type": "stream",
          "name": "stdout",
          "text": [
            " * sqlite:////content/movie.sqlite\n",
            "0 rows affected.\n"
          ]
        },
        {
          "output_type": "execute_result",
          "data": {
            "text/plain": [
              "[]"
            ]
          },
          "metadata": {},
          "execution_count": 5
        }
      ]
    },
    {
      "cell_type": "markdown",
      "source": [
        "# Problem 1\n",
        "Retrieve the first 6 rows in the Oscar table ordered by Oscar type. Hint: You'll need to use SELECT, FROM, ORDER BY, and LIMIT. You'll want to retrieve all attributes using *.\n",
        "\n",
        "**Expected Output**:\n",
        "\n",
        "| movie_id | person_id | type | year |\n",
        "|:---:|:---:|:---:|:---:|\n",
        "| 7286456 | 0001618 | BEST-ACTOR | 2020 |\n",
        "| 1727824 | 1785339 | BEST-ACTOR | 2019 |\n",
        "| 4555426 | 0000198 | BEST-ACTOR | 2018 |\n",
        "| 4034228 | 0000729 | BEST-ACTOR | 2017 |\n",
        "| 1663202 | 0000138 | BEST-ACTOR | 2016 |\n",
        "| 2980516 | 1519666 | BEST-ACTOR | 2015 |"
      ],
      "metadata": {
        "id": "qGDlxmjiH3mc"
      }
    },
    {
      "cell_type": "code",
      "source": [
        "%%sql\n",
        "--Your code here\n",
        "SELECT * FROM Oscar ORDER BY Type LIMIT 6;"
      ],
      "metadata": {
        "id": "L5D0klr9HQq6"
      },
      "execution_count": null,
      "outputs": []
    },
    {
      "cell_type": "markdown",
      "source": [
        "#Problem 2\n",
        "Retrieve a list of the different \"types\" of awards that are listed in the Oscar table. Hint: use DISTINCT.\n",
        "\n",
        "**Expected Output**\n",
        "\n",
        "| type |\n",
        "|:---:|\n",
        "| BEST-PICTURE |\n",
        "| BEST-ACTRESS |\n",
        "| BEST-SUPPORTING-ACTRESS |\n",
        "| BEST-ACTOR |\n",
        "| BEST-SUPPORTING-ACTOR |\n",
        "| BEST-DIRECTOR |\n"
      ],
      "metadata": {
        "id": "f9IMB6pyKD4N"
      }
    },
    {
      "cell_type": "code",
      "source": [
        "%%sql\n",
        "--Your code here\n"
      ],
      "metadata": {
        "id": "nWh1jd4IKOcv"
      },
      "execution_count": null,
      "outputs": []
    },
    {
      "cell_type": "code",
      "source": [],
      "metadata": {
        "id": "trrpVStwu5Rt"
      },
      "execution_count": null,
      "outputs": []
    },
    {
      "cell_type": "markdown",
      "source": [
        "#Problem 3\n",
        "Retrieve the number of distinct actors that are represented in the Actor table. Hint, you'll neeed to use both COUNT and DISTINCT. You only want each \"actor_id\" to be counted once.\n",
        "\n",
        "**Expected Output**: 2199"
      ],
      "metadata": {
        "id": "OtbJVjp8I4Wx"
      }
    },
    {
      "cell_type": "code",
      "source": [
        "%%sql\n",
        "--Your code here\n",
        "\n",
        "SELECT COUNT(DISTINCT(actor_id)) FROM Actor"
      ],
      "metadata": {
        "id": "KgpBDh-ZJRm8"
      },
      "execution_count": null,
      "outputs": []
    },
    {
      "cell_type": "markdown",
      "source": [
        "#Problem 4\n",
        "Retrieve the name and release year of movies that contain the word \"Alice\".\n",
        "\n",
        "**Expected Output**: You should retrieve 3 movies."
      ],
      "metadata": {
        "id": "BpX4eX6ZKZLX"
      }
    },
    {
      "cell_type": "code",
      "source": [
        "%%sql\n",
        "--Your code here\n"
      ],
      "metadata": {
        "id": "wkzDrf30sv5d"
      },
      "execution_count": null,
      "outputs": []
    },
    {
      "cell_type": "markdown",
      "source": [
        "#Problem 5\n",
        "Retrieve the name and place of birth of all Persons born in \"Kenosha, Wisconsin, USA\". Order them in descending order by name.\n",
        "\n",
        "**Expected output**: The top name on the list should be \"Orson Welles.\""
      ],
      "metadata": {
        "id": "kO4l-E_ZtxkW"
      }
    },
    {
      "cell_type": "code",
      "source": [
        "%%sql"
      ],
      "metadata": {
        "id": "9dL6qaLTuBwR"
      },
      "execution_count": null,
      "outputs": []
    },
    {
      "cell_type": "code",
      "source": [],
      "metadata": {
        "id": "cCGurtoO-H_l"
      },
      "execution_count": null,
      "outputs": []
    },
    {
      "cell_type": "markdown",
      "source": [
        "\n",
        "#Problem 6\n",
        "Retrieve the names of people who won BEST-ACTRESS or BEST_ACTOR awards in 2010. Hint: You'll need to JOIN Person with Oscar, and use AND or OR to filter the results. The placement of parentheses matters!\n",
        "\n",
        "**Expected output:** \n",
        "Sandra Bullock and Jeff Bridges"
      ],
      "metadata": {
        "id": "0PXTuEi2vOtq"
      }
    },
    {
      "cell_type": "code",
      "source": [
        "%%sql\n",
        "--Your code here\n"
      ],
      "metadata": {
        "id": "b93S8mSlwHKi"
      },
      "execution_count": null,
      "outputs": []
    },
    {
      "cell_type": "markdown",
      "source": [
        "#Problem 7\n",
        "Retrieve the names, runtimes, and release years of movies that have won a 'Best Picture' Oscar. Limit the results to 5. Hint: You'll need to JOIN Oscar and Movie using Oscar.movie_id and Movie.id. You'll also need to think about Oscar.type and Movie.year.\n",
        "\n",
        "**Expected Output:**\n",
        "\n",
        "| name | runtime | year |\n",
        "|:---:|:---:|:---:|\n",
        "| Parasite | 132 | 2019 |\n",
        "| Green Book | 130 | 2018 |\n",
        "| The Shape of Water | 123 | 2017 |\n",
        "| Moonlight | 111 | 2016 |\n",
        "| Spotlight | 128 | 2015 |"
      ],
      "metadata": {
        "id": "us2Y7FazugHA"
      }
    },
    {
      "cell_type": "code",
      "source": [
        "%%sql\n",
        "--Your code here\n"
      ],
      "metadata": {
        "id": "jOMicRA9KX7k"
      },
      "execution_count": null,
      "outputs": []
    },
    {
      "cell_type": "markdown",
      "source": [
        "#Problem 8\n",
        "Retrieve the COUNT of actors who appeared in a film in 2014. Name this column that is returned \"2014 Actors.\" Hint: You'll need to JOIN Actor with Movie. And rememember to count only \"distinct\" actor_ids (since some actors will have appeared in multiple movies)."
      ],
      "metadata": {
        "id": "MrUfbrHewLZG"
      }
    },
    {
      "cell_type": "code",
      "source": [
        "%%sql\n",
        "--Your code here"
      ],
      "metadata": {
        "id": "BPv7r1kmwptB",
        "outputId": "21312ca2-cfe9-4b02-8e81-8e5bbc0115ea",
        "colab": {
          "base_uri": "https://localhost:8080/"
        }
      },
      "execution_count": null,
      "outputs": [
        {
          "output_type": "stream",
          "name": "stdout",
          "text": [
            " * sqlite:////content/movie.sqlite\n",
            "0 rows affected.\n"
          ]
        },
        {
          "output_type": "execute_result",
          "data": {
            "text/plain": [
              "[]"
            ]
          },
          "metadata": {},
          "execution_count": 13
        }
      ]
    },
    {
      "cell_type": "markdown",
      "source": [
        "#Problem 9\n",
        "Retrieve the total running time of all of the films that Keanu Reeves has appeared in. Express this as \"number of days.\" (So, you need to convert somehow take the sum of the runtimes, and then convert minutes to days)."
      ],
      "metadata": {
        "id": "jJ7mhdXf1IoK"
      }
    },
    {
      "cell_type": "code",
      "source": [
        "%%sql\n",
        "--Your code here"
      ],
      "metadata": {
        "id": "-LEczMc0w_4H",
        "outputId": "e9cb533c-84b0-4b18-c0e2-09347389f2e7",
        "colab": {
          "base_uri": "https://localhost:8080/"
        }
      },
      "execution_count": null,
      "outputs": [
        {
          "output_type": "stream",
          "name": "stdout",
          "text": [
            " * sqlite:////content/movie.sqlite\n",
            "0 rows affected.\n"
          ]
        },
        {
          "output_type": "execute_result",
          "data": {
            "text/plain": [
              "[]"
            ]
          },
          "metadata": {},
          "execution_count": 14
        }
      ]
    },
    {
      "cell_type": "markdown",
      "source": [
        "#Problem 10\n",
        "Retrieve the names of films that have have a person with a first name starting with the letter \"B\" as director or an actor. Hint: You'll be doing two \"select\" statements with a UNION in the middle of them."
      ],
      "metadata": {
        "id": "xvghL_aI1tzb"
      }
    },
    {
      "cell_type": "code",
      "source": [
        "%%sql\n",
        "--Your code here"
      ],
      "metadata": {
        "id": "vz_XURTw2d2B",
        "outputId": "96d65ab0-2d74-481f-ee6b-38ec7d369066",
        "colab": {
          "base_uri": "https://localhost:8080/"
        }
      },
      "execution_count": null,
      "outputs": [
        {
          "output_type": "stream",
          "name": "stdout",
          "text": [
            " * sqlite:////content/movie.sqlite\n",
            "0 rows affected.\n"
          ]
        },
        {
          "output_type": "execute_result",
          "data": {
            "text/plain": [
              "[]"
            ]
          },
          "metadata": {},
          "execution_count": 15
        }
      ]
    },
    {
      "cell_type": "markdown",
      "source": [
        "## Problem 11\n",
        "Give the name of the person who directed the longest film of 2003 AND the name of this film."
      ],
      "metadata": {
        "id": "zox8nWU70VKt"
      }
    },
    {
      "cell_type": "code",
      "source": [
        "%%sql\n",
        "--Your code here"
      ],
      "metadata": {
        "id": "zBMU01zk2eIV"
      },
      "execution_count": null,
      "outputs": []
    },
    {
      "cell_type": "markdown",
      "source": [
        "##Problem 12\n",
        "Determine the number of movies for each “rating” (G, PG, R, etc.) that have won a BEST-PICTURE Oscar."
      ],
      "metadata": {
        "id": "jiRC6ziR0cvk"
      }
    },
    {
      "cell_type": "code",
      "source": [
        "%%sql\n",
        "--Your code here"
      ],
      "metadata": {
        "id": "8-CadSTj0l3D"
      },
      "execution_count": null,
      "outputs": []
    },
    {
      "cell_type": "markdown",
      "source": [
        "## Problem 13\n",
        "Produce a list of the names of people from Minnesota together with a count of the films that each has acted in. "
      ],
      "metadata": {
        "id": "gh12kFn10sEr"
      }
    },
    {
      "cell_type": "code",
      "source": [
        "%%sql\n",
        "--Your code here"
      ],
      "metadata": {
        "id": "GUahmumT0paz"
      },
      "execution_count": null,
      "outputs": []
    },
    {
      "cell_type": "markdown",
      "source": [
        "##Problem 14\n",
        "Create a new database called \"Theater\" that contains information of movie theaters. It should have columns for theater name, theater location, number of screens, and a theater_id (which should be used as a primary key)."
      ],
      "metadata": {
        "id": "1DDcjTPI01Ck"
      }
    },
    {
      "cell_type": "code",
      "source": [
        "%%sql\n",
        "--Your code here"
      ],
      "metadata": {
        "id": "-VWgedcA1Wjx"
      },
      "execution_count": null,
      "outputs": []
    },
    {
      "cell_type": "markdown",
      "source": [
        "##Problem 15\n",
        "Insert three sample theaters into this new table."
      ],
      "metadata": {
        "id": "gKsKFR6i1hFh"
      }
    },
    {
      "cell_type": "code",
      "source": [
        "%%sql\n",
        "--Your code here"
      ],
      "metadata": {
        "id": "wO_OUF0A1qSS"
      },
      "execution_count": null,
      "outputs": []
    },
    {
      "cell_type": "markdown",
      "source": [
        "## Reflection\n",
        "\n",
        "Assess your preparation for this Problem Set by answering the following questions. \n",
        "1.\tHow long did you spend on the problem set? Did you think this was enough time?\n",
        "2.\tWhich specific problems did you feel the most confident about? Which did you feel the least sure about?\n",
        "3.\tIs there anything you learned in the class so far that wasn’t on the exam that you wanted to show mastery of? Tell me about it!\n"
      ],
      "metadata": {
        "id": "e3m4AQWD1v4Z"
      }
    }
  ]
}