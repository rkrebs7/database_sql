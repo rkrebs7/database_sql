{
  "nbformat": 4,
  "nbformat_minor": 0,
  "metadata": {
    "colab": {
      "provenance": [],
      "collapsed_sections": [
        "tnHJoGBiE-bU",
        "MrUfbrHewLZG"
      ],
      "authorship_tag": "ABX9TyPLpY2rclkCzUDBPP45/9Wo",
      "include_colab_link": true
    },
    "kernelspec": {
      "name": "python3",
      "display_name": "Python 3"
    },
    "language_info": {
      "name": "python"
    }
  },
  "cells": [
    {
      "cell_type": "markdown",
      "metadata": {
        "id": "view-in-github",
        "colab_type": "text"
      },
      "source": [
        "<a href=\"https://colab.research.google.com/github/brendanpshea/database_sql/blob/main/PSET_Basic_SQL_Commands.ipynb\" target=\"_parent\"><img src=\"https://colab.research.google.com/assets/colab-badge.svg\" alt=\"Open In Colab\"/></a>"
      ]
    },
    {
      "cell_type": "markdown",
      "source": [
        "# PSET 4: Basic SQL\n",
        "### Name: \n",
        "### Partner (Optional): \n",
        "\n",
        "## Directions\n",
        "For this problem set, you'll be writing some basic SQL queries. Here is what you need to do:\n",
        "\n",
        "1. \"OPEN\" this lab in \"Google Colab\" and proceed to set up a free Google Colab account if you need to: https://colab.research.google.com/. \n",
        "2. Save a copy of this lab to your Colab account. You'll want to connect to a \"runtime\".\n",
        "3. Work on the lab! To run code cells, you just need to click \"Ctrl + Enter.\" To edit cells, you can double click on them. If there is an option, make sure to select \"Anyone can view\" the link.\n",
        "4. When you are done working on the lab, please download it as an ipnyb file and submit it to D2L.\n",
        "\n",
        "**Citation:** You don’t need to cite in-class material (from my notes or the lecture books). Any outside material must be cited appropriately.\n",
        "\n",
        "**Scoring.** Unless noted otherwise, each coding question is worth 3 points. The scoring is as follows:\n",
        "* 3/3 – The problem is complete and correct.\n",
        "* 2/3 – The problem is mostly correct.\n",
        "* 1/3 – The problem is mostly incorrect.\n",
        "* 0/3 -- The problem is missing or completely incorrect.\n",
        "\n",
        "\n",
        "---\n",
        "\n"
      ],
      "metadata": {
        "id": "tnHJoGBiE-bU"
      }
    },
    {
      "cell_type": "markdown",
      "source": [
        "#Problem 0: Run the cells below\n",
        "The following two cells  will get the Movie database set up. After you've run these cells (by hitting Ctrl + Enter), you should see the relational schema for each of the Movie databse tables.\n",
        "\n",
        "Note: The first time you run these cells, it may take a minute or two!\n",
        "\n"
      ],
      "metadata": {
        "id": "bC5zz1svGbQm"
      }
    },
    {
      "cell_type": "code",
      "source": [
        "# Some UNIX utilites we need to install for the lab.\n",
        "!pip install wget --quiet\n",
        "!pip install sqlalchemy --quiet\n",
        "!pip install ipython-sql --quiet\n"
      ],
      "metadata": {
        "id": "urVsB5FWxEsP"
      },
      "execution_count": null,
      "outputs": []
    },
    {
      "cell_type": "code",
      "execution_count": null,
      "metadata": {
        "id": "Hf_9KzYYE7NX"
      },
      "outputs": [],
      "source": [
        "# Now let's download the file we'll be using for this lab\n",
        "!wget 'https://github.com/brendanpshea/database_sql/raw/main/movie.sqlite' -q\n",
        "\n",
        "# Let's make a connnection with the database\n",
        "%load_ext sql\n",
        "%sql sqlite:////content/movie.sqlite\n",
        "\n"
      ]
    },
    {
      "cell_type": "code",
      "source": [
        "# Get the schema\n",
        "%%sql \n",
        "SELECT name AS \"Table Name\", sql AS \"Schema of Table\" FROM sqlite_master WHERE type = 'table';"
      ],
      "metadata": {
        "id": "9shK3XySHH8-"
      },
      "execution_count": null,
      "outputs": []
    },
    {
      "cell_type": "code",
      "source": [
        "# Show the first 5 rows of each table\n",
        "movie_df = %sql SELECT * FROM Movie LIMIT 5;\n",
        "person_df = %sql SELECT * FROM Person LIMIT 5;\n",
        "actor_df = %sql SELECT * FROM Actor LIMIT 5;\n",
        "director_df = %sql SELECT * FROM Director LIMIT 5;\n",
        "oscar_df = %sql SELECT * FROM Oscar LIMIT 5;\n",
        "print(movie_df,'\\n\\n',person_df, '\\n\\n', actor_df, '\\n\\n', director_df, '\\n\\n', oscar_df)"
      ],
      "metadata": {
        "id": "Mvs3HAnzxmAB"
      },
      "execution_count": null,
      "outputs": []
    },
    {
      "cell_type": "code",
      "source": [
        "%%sql\n",
        "--feel free to type some queries here (and the run them) to see how they work!\n",
        "--You should only write ONE query per cell."
      ],
      "metadata": {
        "id": "PkyBnLOI0jZa"
      },
      "execution_count": null,
      "outputs": []
    },
    {
      "cell_type": "markdown",
      "source": [
        "# Problem 1\n",
        "Retrieve the first 6 rows in the Oscar table ordered by Oscar type. Hint: You'll need to use SELECT, FROM, ORDER BY, and LIMIT. You'll want to retrieve all attributes using *.\n",
        "\n",
        "**Expected Output**:\n",
        "\n",
        "| movie_id | person_id | type | year |\n",
        "|:---:|:---:|:---:|:---:|\n",
        "| 7286456 | 0001618 | BEST-ACTOR | 2020 |\n",
        "| 1727824 | 1785339 | BEST-ACTOR | 2019 |\n",
        "| 4555426 | 0000198 | BEST-ACTOR | 2018 |\n",
        "| 4034228 | 0000729 | BEST-ACTOR | 2017 |\n",
        "| 1663202 | 0000138 | BEST-ACTOR | 2016 |\n",
        "| 2980516 | 1519666 | BEST-ACTOR | 2015 |"
      ],
      "metadata": {
        "id": "qGDlxmjiH3mc"
      }
    },
    {
      "cell_type": "code",
      "source": [
        "%%sql\n",
        "--Your code here\n",
        "SELECT * FROM Oscar ORDER BY Type LIMIT 6;"
      ],
      "metadata": {
        "id": "L5D0klr9HQq6"
      },
      "execution_count": null,
      "outputs": []
    },
    {
      "cell_type": "markdown",
      "source": [
        "#Problem 2\n",
        "Retrieve a list of the different \"types\" of awards that are listed in the Oscar table. Hint: use DISTINCT.\n",
        "\n",
        "**Expected Output**\n",
        "\n",
        "| type |\n",
        "|:---:|\n",
        "| BEST-PICTURE |\n",
        "| BEST-ACTRESS |\n",
        "| BEST-SUPPORTING-ACTRESS |\n",
        "| BEST-ACTOR |\n",
        "| BEST-SUPPORTING-ACTOR |\n",
        "| BEST-DIRECTOR |\n"
      ],
      "metadata": {
        "id": "f9IMB6pyKD4N"
      }
    },
    {
      "cell_type": "code",
      "source": [
        "%%sql\n",
        "--Your code here\n"
      ],
      "metadata": {
        "id": "nWh1jd4IKOcv"
      },
      "execution_count": null,
      "outputs": []
    },
    {
      "cell_type": "code",
      "source": [],
      "metadata": {
        "id": "trrpVStwu5Rt"
      },
      "execution_count": null,
      "outputs": []
    },
    {
      "cell_type": "markdown",
      "source": [
        "#Problem 3\n",
        "Retrieve the number of distinct actors that are represented in the Actor table. Hint, you'll neeed to use both COUNT and DISTINCT. You only want each \"actor_id\" to be counted once.\n",
        "\n",
        "**Expected Output**: 2199"
      ],
      "metadata": {
        "id": "OtbJVjp8I4Wx"
      }
    },
    {
      "cell_type": "code",
      "source": [
        "%%sql\n",
        "--Your code here\n"
      ],
      "metadata": {
        "id": "KgpBDh-ZJRm8"
      },
      "execution_count": null,
      "outputs": []
    },
    {
      "cell_type": "markdown",
      "source": [
        "#Problem 4\n",
        "Retrieve the name and release year of movies that contain the word \"Alice\".\n",
        "\n",
        "**Expected Output**: You should retrieve 3 movies."
      ],
      "metadata": {
        "id": "BpX4eX6ZKZLX"
      }
    },
    {
      "cell_type": "code",
      "source": [
        "%%sql\n",
        "--Your code here\n"
      ],
      "metadata": {
        "id": "wkzDrf30sv5d"
      },
      "execution_count": null,
      "outputs": []
    },
    {
      "cell_type": "markdown",
      "source": [
        "#Problem 5\n",
        "Retrieve the name and place of birth of all Persons born in \"Kenosha, Wisconsin, USA\". Order them in descending order by name.\n",
        "\n",
        "**Expected output**: The top name on the list should be \"Orson Welles.\""
      ],
      "metadata": {
        "id": "kO4l-E_ZtxkW"
      }
    },
    {
      "cell_type": "code",
      "source": [
        "%%sql"
      ],
      "metadata": {
        "id": "9dL6qaLTuBwR"
      },
      "execution_count": null,
      "outputs": []
    },
    {
      "cell_type": "code",
      "source": [],
      "metadata": {
        "id": "cCGurtoO-H_l"
      },
      "execution_count": null,
      "outputs": []
    },
    {
      "cell_type": "markdown",
      "source": [
        "\n",
        "#Problem 6\n",
        "Retrieve the names of people who won BEST-ACTRESS or BEST_ACTOR awards in 2010. Hint: You'll need to JOIN Person with Oscar, and use AND or OR to filter the results. The placement of parentheses matters!\n",
        "\n",
        "**Expected output:** \n",
        "Sandra Bullock and Jeff Bridges"
      ],
      "metadata": {
        "id": "0PXTuEi2vOtq"
      }
    },
    {
      "cell_type": "code",
      "source": [
        "%%sql\n",
        "--Your code here\n"
      ],
      "metadata": {
        "id": "b93S8mSlwHKi"
      },
      "execution_count": null,
      "outputs": []
    },
    {
      "cell_type": "markdown",
      "source": [
        "#Problem 7\n",
        "Retrieve the names, runtimes, and release years of movies that have won a 'Best Picture' Oscar. Limit the results to 5. Hint: You'll need to JOIN Oscar and Movie using Oscar.movie_id and Movie.id. You'll also need to think about Oscar.type and Movie.year.\n",
        "\n",
        "**Expected Output:**\n",
        "\n",
        "| name | runtime | year |\n",
        "|:---:|:---:|:---:|\n",
        "| Parasite | 132 | 2019 |\n",
        "| Green Book | 130 | 2018 |\n",
        "| The Shape of Water | 123 | 2017 |\n",
        "| Moonlight | 111 | 2016 |\n",
        "| Spotlight | 128 | 2015 |"
      ],
      "metadata": {
        "id": "us2Y7FazugHA"
      }
    },
    {
      "cell_type": "code",
      "source": [
        "%%sql\n",
        "--Your code here\n"
      ],
      "metadata": {
        "id": "jOMicRA9KX7k"
      },
      "execution_count": null,
      "outputs": []
    },
    {
      "cell_type": "markdown",
      "source": [
        "#Problem 8\n",
        "Retrieve the COUNT of actors who appeared in a film in 2014. Name this column that is returned \"2014 Actors.\" Hint: You'll need to JOIN Actor with Movie. And rememember to count only \"distinct\" actor_ids (since some actors will have appeared in multiple movies)."
      ],
      "metadata": {
        "id": "MrUfbrHewLZG"
      }
    },
    {
      "cell_type": "code",
      "source": [
        "%%sql\n",
        "--Your code here"
      ],
      "metadata": {
        "id": "BPv7r1kmwptB"
      },
      "execution_count": null,
      "outputs": []
    },
    {
      "cell_type": "markdown",
      "source": [
        "#Problem 9\n",
        "Retrieve the total running time of all of the films that Keanu Reeves has appeared in. Express this as \"number of days.\" (So, you need to convert somehow take the sum of the runtimes, and then convert minutes to days)."
      ],
      "metadata": {
        "id": "jJ7mhdXf1IoK"
      }
    },
    {
      "cell_type": "code",
      "source": [
        "%%sql\n",
        "--Your code here"
      ],
      "metadata": {
        "id": "-LEczMc0w_4H"
      },
      "execution_count": null,
      "outputs": []
    },
    {
      "cell_type": "markdown",
      "source": [
        "#Problem 10\n",
        "Retrieve the names of films that have have a person with a first name starting with the letter \"B\" as director or an actor. Hint: You'll be doing two \"select\" statements with a UNION in the middle of them."
      ],
      "metadata": {
        "id": "xvghL_aI1tzb"
      }
    },
    {
      "cell_type": "code",
      "source": [
        "%%sql\n",
        "--Your code here"
      ],
      "metadata": {
        "id": "vz_XURTw2d2B"
      },
      "execution_count": null,
      "outputs": []
    },
    {
      "cell_type": "markdown",
      "source": [
        "## Problem 11\n",
        "Give the name of the person who directed the longest film of 2003 AND the name of this film."
      ],
      "metadata": {
        "id": "zox8nWU70VKt"
      }
    },
    {
      "cell_type": "code",
      "source": [
        "%%sql\n",
        "--Your code here"
      ],
      "metadata": {
        "id": "zBMU01zk2eIV"
      },
      "execution_count": null,
      "outputs": []
    },
    {
      "cell_type": "markdown",
      "source": [
        "##Problem 12\n",
        "Determine the number of movies for each “rating” (G, PG, R, etc.) that have won a BEST-PICTURE Oscar."
      ],
      "metadata": {
        "id": "jiRC6ziR0cvk"
      }
    },
    {
      "cell_type": "code",
      "source": [
        "%%sql\n",
        "--Your code here"
      ],
      "metadata": {
        "id": "8-CadSTj0l3D"
      },
      "execution_count": null,
      "outputs": []
    },
    {
      "cell_type": "markdown",
      "source": [
        "## Problem 13\n",
        "Produce a list of the names of people from Minnesota together with a count of the films that each has acted in. "
      ],
      "metadata": {
        "id": "gh12kFn10sEr"
      }
    },
    {
      "cell_type": "code",
      "source": [
        "%%sql\n",
        "--Your code here"
      ],
      "metadata": {
        "id": "GUahmumT0paz"
      },
      "execution_count": null,
      "outputs": []
    },
    {
      "cell_type": "markdown",
      "source": [
        "##Problem 14\n",
        "Create a new database called \"Theater\" that contains information of movie theaters. It should have columns for theater name, theater location, number of screens, and a theater_id (which should be used as a primary key)."
      ],
      "metadata": {
        "id": "1DDcjTPI01Ck"
      }
    },
    {
      "cell_type": "code",
      "source": [
        "%%sql\n",
        "--Your code here"
      ],
      "metadata": {
        "id": "-VWgedcA1Wjx"
      },
      "execution_count": null,
      "outputs": []
    },
    {
      "cell_type": "markdown",
      "source": [
        "##Problem 15\n",
        "Insert three sample theaters into this new table."
      ],
      "metadata": {
        "id": "gKsKFR6i1hFh"
      }
    },
    {
      "cell_type": "code",
      "source": [
        "%%sql\n",
        "--Your code here"
      ],
      "metadata": {
        "id": "wO_OUF0A1qSS"
      },
      "execution_count": null,
      "outputs": []
    },
    {
      "cell_type": "markdown",
      "source": [
        "## Reflection\n",
        "\n",
        "Assess your preparation for this Problem Set by answering the following questions. \n",
        "1.\tHow long did you spend on the problem set? Did you think this was enough time?\n",
        "2.\tWhich specific problems did you feel the most confident about? Which did you feel the least sure about?\n",
        "3.\tIs there anything you learned in the class so far that wasn’t on the exam that you wanted to show mastery of? Tell me about it!\n"
      ],
      "metadata": {
        "id": "e3m4AQWD1v4Z"
      }
    }
  ]
}